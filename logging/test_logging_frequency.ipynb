{
 "cells": [
  {
   "cell_type": "code",
   "execution_count": 2,
   "metadata": {},
   "outputs": [],
   "source": [
    "import ssl\n",
    "\n",
    "ssl._create_default_https_context = ssl._create_unverified_context"
   ]
  },
  {
   "cell_type": "code",
   "execution_count": 15,
   "metadata": {},
   "outputs": [
    {
     "name": "stdout",
     "output_type": "stream",
     "text": [
      "2020-02-19 23:58:43.403441 {'Live Demand': 16.01, 'Winter Peak Demand': 35.7000007629395, 'Orkney ANM': 10.521, 'Non-ANM Renewable Generation': 15.091, 'Total Renewable Capacity': 57.1}\n",
      "2020-02-19 23:58:43.585533 {'Live Demand': 16.01, 'Winter Peak Demand': 35.7000007629395, 'Orkney ANM': 10.521, 'Non-ANM Renewable Generation': 15.091, 'Total Renewable Capacity': 57.1}\n",
      "2020-02-19 23:58:43.772637 {'Live Demand': 16.57, 'Winter Peak Demand': 35.700000762939496, 'Orkney ANM': 10.521, 'Non-ANM Renewable Generation': 15.091, 'Total Renewable Capacity': 57.1}\n",
      "2020-02-19 23:58:43.947176 {'Live Demand': 16.01, 'Winter Peak Demand': 35.7000007629395, 'Orkney ANM': 10.521, 'Non-ANM Renewable Generation': 15.091, 'Total Renewable Capacity': 57.1}\n",
      "2020-02-19 23:58:44.129103 {'Live Demand': 16.57, 'Winter Peak Demand': 35.700000762939496, 'Orkney ANM': 10.521, 'Non-ANM Renewable Generation': 15.091, 'Total Renewable Capacity': 57.1}\n",
      "2020-02-19 23:58:44.309395 {'Live Demand': 16.01, 'Winter Peak Demand': 35.7000007629395, 'Orkney ANM': 10.521, 'Non-ANM Renewable Generation': 15.091, 'Total Renewable Capacity': 57.1}\n",
      "2020-02-19 23:58:44.485635 {'Live Demand': 16.01, 'Winter Peak Demand': 35.7000007629395, 'Orkney ANM': 10.521, 'Non-ANM Renewable Generation': 15.091, 'Total Renewable Capacity': 57.1}\n",
      "2020-02-19 23:58:44.664149 {'Live Demand': 16.01, 'Winter Peak Demand': 35.7000007629395, 'Orkney ANM': 10.521, 'Non-ANM Renewable Generation': 15.091, 'Total Renewable Capacity': 57.1}\n",
      "2020-02-19 23:58:44.842105 {'Live Demand': 16.01, 'Winter Peak Demand': 35.7000007629395, 'Orkney ANM': 10.521, 'Non-ANM Renewable Generation': 15.091, 'Total Renewable Capacity': 57.1}\n",
      "2020-02-19 23:58:45.016387 {'Live Demand': 16.57, 'Winter Peak Demand': 35.700000762939496, 'Orkney ANM': 10.521, 'Non-ANM Renewable Generation': 15.091, 'Total Renewable Capacity': 57.1}\n",
      "2020-02-19 23:58:45.204536 {'Live Demand': 16.01, 'Winter Peak Demand': 35.7000007629395, 'Orkney ANM': 10.521, 'Non-ANM Renewable Generation': 15.091, 'Total Renewable Capacity': 57.1}\n",
      "2020-02-19 23:58:45.385755 {'Live Demand': 16.01, 'Winter Peak Demand': 35.7000007629395, 'Orkney ANM': 10.521, 'Non-ANM Renewable Generation': 15.091, 'Total Renewable Capacity': 57.1}\n",
      "2020-02-19 23:58:45.565715 {'Live Demand': 16.01, 'Winter Peak Demand': 35.7000007629395, 'Orkney ANM': 10.521, 'Non-ANM Renewable Generation': 15.091, 'Total Renewable Capacity': 57.1}\n",
      "2020-02-19 23:58:45.747871 {'Live Demand': 16.01, 'Winter Peak Demand': 35.7000007629395, 'Orkney ANM': 10.521, 'Non-ANM Renewable Generation': 15.091, 'Total Renewable Capacity': 57.1}\n",
      "2020-02-19 23:58:45.921161 {'Live Demand': 16.01, 'Winter Peak Demand': 35.7000007629395, 'Orkney ANM': 10.521, 'Non-ANM Renewable Generation': 15.091, 'Total Renewable Capacity': 57.1}\n",
      "2020-02-19 23:58:46.103845 {'Live Demand': 16.01, 'Winter Peak Demand': 35.7000007629395, 'Orkney ANM': 10.521, 'Non-ANM Renewable Generation': 15.091, 'Total Renewable Capacity': 57.1}\n",
      "2020-02-19 23:58:46.271382 {'Live Demand': 16.01, 'Winter Peak Demand': 35.7000007629395, 'Orkney ANM': 10.521, 'Non-ANM Renewable Generation': 15.091, 'Total Renewable Capacity': 57.1}\n",
      "2020-02-19 23:58:46.451382 {'Live Demand': 16.01, 'Winter Peak Demand': 35.7000007629395, 'Orkney ANM': 10.521, 'Non-ANM Renewable Generation': 15.091, 'Total Renewable Capacity': 57.1}\n",
      "2020-02-19 23:58:46.639842 {'Live Demand': 16.11, 'Winter Peak Demand': 35.700000762939496, 'Orkney ANM': 10.521, 'Non-ANM Renewable Generation': 15.091, 'Total Renewable Capacity': 57.1}\n",
      "2020-02-19 23:58:46.819884 {'Live Demand': 16.11, 'Winter Peak Demand': 35.700000762939496, 'Orkney ANM': 10.521, 'Non-ANM Renewable Generation': 15.091, 'Total Renewable Capacity': 57.1}\n"
     ]
    }
   ],
   "source": [
    "#!/usr/bin/env python\n",
    "\n",
    "import os\n",
    "from datetime import datetime\n",
    "import glob\n",
    "import urllib.request, json\n",
    "\n",
    "# global variables\n",
    "URL = \"https://www.ssen.co.uk/Sse_Components/Views/Controls/FormControls/Handlers/ActiveNetworkManagementHandler.ashx?action=graph&contentId=14973&_=1537467858726\"\n",
    "\n",
    "# get data from ssen website\n",
    "def get_data():\n",
    "    with urllib.request.urlopen(\"https://www.ssen.co.uk/Sse_Components/Views/Controls/FormControls/Handlers/ActiveNetworkManagementHandler.ashx?action=graph&contentId=14973&_=1537467858726\") as url:\n",
    "        data = json.loads(url.read().decode())\n",
    "\n",
    "        electricity_data = data['data']['datasets']\n",
    "\n",
    "        readings = {}\n",
    "        for item in electricity_data:\n",
    "            label = item['label']\n",
    "            val = float(max(item['data']))\n",
    "            readings[label] = val\n",
    "\n",
    "        readings['Winter Peak Demand']= readings['Winter Peak Demand']+readings['Live Demand']\n",
    "        readings['Total Renewable Capacity'] = readings['Total Renewable Capacity'] + readings['Orkney ANM'] + readings['Non-ANM Renewable Generation']\n",
    "\n",
    "        return readings\n",
    "\n",
    "for i in range(20):\n",
    "    data=get_data()\n",
    "    print(datetime.now(), data)\n",
    "\n"
   ]
  }
 ],
 "metadata": {
  "kernelspec": {
   "display_name": "Python 3",
   "language": "python",
   "name": "python3"
  },
  "language_info": {
   "codemirror_mode": {
    "name": "ipython",
    "version": 3
   },
   "file_extension": ".py",
   "mimetype": "text/x-python",
   "name": "python",
   "nbconvert_exporter": "python",
   "pygments_lexer": "ipython3",
   "version": "3.6.9"
  }
 },
 "nbformat": 4,
 "nbformat_minor": 2
}
