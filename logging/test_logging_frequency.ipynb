{
 "cells": [
  {
   "cell_type": "markdown",
   "metadata": {},
   "source": [
    "# A short script to repeatedly call SSEN website as fast as possible to examine the maximum time resolution of the data stream"
   ]
  },
  {
   "cell_type": "markdown",
   "metadata": {},
   "source": [
    "## Results\n",
    "\n",
    "This python script manages to call the webservice url around five times per second.\n",
    "\n",
    "After the script is run, by looking at the returned values for each of the readings when they are changing, it can be seen that there are individual values that do not match the preceding or following values.  This suggests that the data is a live stream  and is not updated periodically and supplied from a cache. \n",
    "\n",
    "Whilst the reading sthemselves have a high precision (2 or 3 decimal places, 4 or 5 significant figures) the resolution of the readings themselves appear to be quite coarse and in the region of ~0.2MW "
   ]
  },
  {
   "cell_type": "code",
   "execution_count": 2,
   "metadata": {},
   "outputs": [],
   "source": [
    "# allow unverified ssl certificates\n",
    "import ssl\n",
    "ssl._create_default_https_context = ssl._create_unverified_context"
   ]
  },
  {
   "cell_type": "code",
   "execution_count": 28,
   "metadata": {},
   "outputs": [
    {
     "name": "stdout",
     "output_type": "stream",
     "text": [
      "2020-02-26 23:11:52.429002 17.56 7.624 15.872\n",
      "2020-02-26 23:11:52.610934 17.56 7.624 15.872\n",
      "2020-02-26 23:11:52.788005 17.56 7.624 15.872\n",
      "2020-02-26 23:11:52.968368 17.56 7.624 15.872\n",
      "2020-02-26 23:11:53.142459 17.56 7.624 15.872\n",
      "2020-02-26 23:11:53.325253 17.56 7.624 15.872\n",
      "2020-02-26 23:11:53.506074 17.56 7.624 15.872\n",
      "2020-02-26 23:11:53.686534 17.56 7.624 15.872\n",
      "2020-02-26 23:11:53.904227 17.56 7.624 15.872\n",
      "2020-02-26 23:11:54.081268 17.56 7.624 15.872\n",
      "2020-02-26 23:11:54.257257 17.56 7.624 15.872\n",
      "2020-02-26 23:11:54.429836 17.56 7.624 15.872\n",
      "2020-02-26 23:11:54.736815 17.56 7.624 15.872\n",
      "2020-02-26 23:11:54.913234 17.56 7.624 15.872\n",
      "2020-02-26 23:11:55.089540 17.56 7.624 15.872\n",
      "2020-02-26 23:11:55.291956 17.56 7.624 15.872\n",
      "2020-02-26 23:11:55.479812 17.56 7.624 15.872\n",
      "2020-02-26 23:11:55.663892 17.56 7.624 15.872\n",
      "2020-02-26 23:11:55.849222 17.56 7.624 15.872\n",
      "2020-02-26 23:11:56.030648 17.56 7.624 15.872\n"
     ]
    }
   ],
   "source": [
    "#!/usr/bin/env python\n",
    "\n",
    "import os\n",
    "from datetime import datetime\n",
    "import glob\n",
    "import urllib.request, json\n",
    "\n",
    "# global variables\n",
    "URL = \"https://www.ssen.co.uk/Sse_Components/Views/Controls/FormControls/Handlers/ActiveNetworkManagementHandler.ashx?action=graph&contentId=14973&_=1537467858726\"\n",
    "\n",
    "# get data from ssen website\n",
    "def get_data():\n",
    "    with urllib.request.urlopen(\"https://www.ssen.co.uk/Sse_Components/Views/Controls/FormControls/Handlers/ActiveNetworkManagementHandler.ashx?action=graph&contentId=14973&_=1537467858726\") as url:\n",
    "        data = json.loads(url.read().decode())\n",
    "\n",
    "        electricity_data = data['data']['datasets']\n",
    "\n",
    "        readings = {}\n",
    "        for item in electricity_data:\n",
    "            label = item['label']\n",
    "            val = float(max(item['data']))\n",
    "            readings[label] = val\n",
    "\n",
    "        readings['Winter Peak Demand']= readings['Winter Peak Demand']+readings['Live Demand']\n",
    "        readings['Total Renewable Capacity'] = readings['Total Renewable Capacity'] + readings['Orkney ANM'] + readings['Non-ANM Renewable Generation']\n",
    "\n",
    "        return readings\n",
    "\n",
    "for i in range(20):\n",
    "    data=get_data()\n",
    "    print(datetime.now(),data['Live Demand'], data['Orkney ANM'], data['Non-ANM Renewable Generation'])\n",
    "\n"
   ]
  }
 ],
 "metadata": {
  "kernelspec": {
   "display_name": "Python 3",
   "language": "python",
   "name": "python3"
  },
  "language_info": {
   "codemirror_mode": {
    "name": "ipython",
    "version": 3
   },
   "file_extension": ".py",
   "mimetype": "text/x-python",
   "name": "python",
   "nbconvert_exporter": "python",
   "pygments_lexer": "ipython3",
   "version": "3.6.9"
  }
 },
 "nbformat": 4,
 "nbformat_minor": 2
}
