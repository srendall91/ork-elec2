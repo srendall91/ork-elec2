{
 "cells": [
  {
   "cell_type": "markdown",
   "metadata": {},
   "source": [
    "# Combine electricity readings with weather data"
   ]
  },
  {
   "cell_type": "markdown",
   "metadata": {},
   "source": [
    "Here we have taken the combined electricity logs [1](../dataclean/combine_datasets.ipynb) and the interpolated weather data retrieved from Vacketvader.com [2]('../retrieval/InterpolateWeatherData.ipynb).\n",
    "The electricity logs contain readings every minute, whilst the weather data, was read at intervals of 10 ,20, 30 or 40 minute has been interpoplated to every 10 minutes.\n",
    "\n",
    "Thus the records have been merged with each waethe reading apllicable to ten electricity log readings.\n",
    "\n",
    "Converting the string based timestamp to a dataframe datetime type simplified the join as as a simple integer comparison , including an offset of 10 minute (600 seconds)\n",
    "\n",
    "----"
   ]
  },
  {
   "cell_type": "code",
   "execution_count": 3,
   "metadata": {},
   "outputs": [
    {
     "data": {
      "text/html": [
       "TRUE"
      ],
      "text/latex": [
       "TRUE"
      ],
      "text/markdown": [
       "TRUE"
      ],
      "text/plain": [
       "[1] TRUE"
      ]
     },
     "metadata": {},
     "output_type": "display_data"
    },
    {
     "data": {
      "text/html": [
       "TRUE"
      ],
      "text/latex": [
       "TRUE"
      ],
      "text/markdown": [
       "TRUE"
      ],
      "text/plain": [
       "[1] TRUE"
      ]
     },
     "metadata": {},
     "output_type": "display_data"
    }
   ],
   "source": [
    "# make copies of files for use\n",
    "# command format: file.copy(\"source_file.txt\", \"destination_folder\")\n",
    "\n",
    "file.copy(\"../dataclean/database/ssen_merged.csv\", \"./database\", overwrite = TRUE)\n",
    "file.copy(\"../retrieval/database/InterpolatedVackerWeather.csv\", \"./database\", overwrite = TRUE)"
   ]
  },
  {
   "cell_type": "code",
   "execution_count": 4,
   "metadata": {},
   "outputs": [],
   "source": [
    "# copy files to dataframes\n",
    "ssen_data <- read.csv(\"./database/ssen_merged.csv\", header=TRUE, sep=\",\", dec=\".\")\n",
    "weather <- read.csv(\"./database/InterpolatedVackerWeather.csv\", header=TRUE, sep=\",\", dec=\".\")"
   ]
  },
  {
   "cell_type": "code",
   "execution_count": 5,
   "metadata": {},
   "outputs": [
    {
     "data": {
      "text/html": [
       "<table>\n",
       "<caption>A data.frame: 6 × 34</caption>\n",
       "<thead>\n",
       "\t<tr><th scope=col>elec_timestamp</th><th scope=col>demand</th><th scope=col>demand_max</th><th scope=col>anm_generated</th><th scope=col>non_anm_generated</th><th scope=col>total_generation_capacity</th><th scope=col>ANM_timestamp</th><th scope=col>operation_core</th><th scope=col>eqpt_core</th><th scope=col>site_core</th><th scope=col>...</th><th scope=col>site_2B</th><th scope=col>operation_3</th><th scope=col>eqpt_3</th><th scope=col>site_3</th><th scope=col>operation_4</th><th scope=col>eqpt_4</th><th scope=col>site_4</th><th scope=col>operation_4A</th><th scope=col>eqpt_4A</th><th scope=col>site_4A</th></tr>\n",
       "\t<tr><th scope=col>&lt;fct&gt;</th><th scope=col>&lt;dbl&gt;</th><th scope=col>&lt;dbl&gt;</th><th scope=col>&lt;dbl&gt;</th><th scope=col>&lt;dbl&gt;</th><th scope=col>&lt;dbl&gt;</th><th scope=col>&lt;fct&gt;</th><th scope=col>&lt;fct&gt;</th><th scope=col>&lt;fct&gt;</th><th scope=col>&lt;fct&gt;</th><th scope=col>...</th><th scope=col>&lt;fct&gt;</th><th scope=col>&lt;fct&gt;</th><th scope=col>&lt;fct&gt;</th><th scope=col>&lt;fct&gt;</th><th scope=col>&lt;fct&gt;</th><th scope=col>&lt;fct&gt;</th><th scope=col>&lt;fct&gt;</th><th scope=col>&lt;fct&gt;</th><th scope=col>&lt;fct&gt;</th><th scope=col>&lt;fct&gt;</th></tr>\n",
       "</thead>\n",
       "<tbody>\n",
       "\t<tr><td>2019-01-16 22:42:03</td><td>19.66</td><td>35.7</td><td>17.145</td><td>17.075</td><td>57.1</td><td>2019-01-16 22:42:33</td><td>ok</td><td>ok</td><td>ok</td><td>...</td><td>ok</td><td>ok</td><td>ok</td><td>ok</td><td>ok</td><td>ok</td><td>ok</td><td>ok</td><td>ok</td><td>ok</td></tr>\n",
       "\t<tr><td>2019-01-16 22:43:03</td><td>19.02</td><td>35.7</td><td>16.829</td><td>17.520</td><td>57.1</td><td>2019-01-16 22:42:33</td><td>ok</td><td>ok</td><td>ok</td><td>...</td><td>ok</td><td>ok</td><td>ok</td><td>ok</td><td>ok</td><td>ok</td><td>ok</td><td>ok</td><td>ok</td><td>ok</td></tr>\n",
       "\t<tr><td>2019-01-16 22:44:03</td><td>18.40</td><td>35.7</td><td>14.394</td><td>17.245</td><td>57.1</td><td>2019-01-16 22:42:33</td><td>ok</td><td>ok</td><td>ok</td><td>...</td><td>ok</td><td>ok</td><td>ok</td><td>ok</td><td>ok</td><td>ok</td><td>ok</td><td>ok</td><td>ok</td><td>ok</td></tr>\n",
       "\t<tr><td>2019-01-16 22:45:03</td><td>18.25</td><td>35.7</td><td>13.674</td><td>17.446</td><td>57.1</td><td>2019-01-16 22:42:33</td><td>ok</td><td>ok</td><td>ok</td><td>...</td><td>ok</td><td>ok</td><td>ok</td><td>ok</td><td>ok</td><td>ok</td><td>ok</td><td>ok</td><td>ok</td><td>ok</td></tr>\n",
       "\t<tr><td>2019-01-16 22:46:03</td><td>18.70</td><td>35.7</td><td>14.572</td><td>16.457</td><td>57.1</td><td>2019-01-16 22:46:25</td><td>ok</td><td>ok</td><td>ok</td><td>...</td><td>ok</td><td>ok</td><td>ok</td><td>ok</td><td>ok</td><td>ok</td><td>ok</td><td>ok</td><td>ok</td><td>ok</td></tr>\n",
       "\t<tr><td>2019-01-16 22:47:03</td><td>18.57</td><td>35.7</td><td>14.000</td><td>16.448</td><td>57.1</td><td>2019-01-16 22:46:25</td><td>ok</td><td>ok</td><td>ok</td><td>...</td><td>ok</td><td>ok</td><td>ok</td><td>ok</td><td>ok</td><td>ok</td><td>ok</td><td>ok</td><td>ok</td><td>ok</td></tr>\n",
       "</tbody>\n",
       "</table>\n"
      ],
      "text/latex": [
       "A data.frame: 6 × 34\n",
       "\\begin{tabular}{r|llllllllllllllllllllllllllllllllll}\n",
       " elec\\_timestamp & demand & demand\\_max & anm\\_generated & non\\_anm\\_generated & total\\_generation\\_capacity & ANM\\_timestamp & operation\\_core & eqpt\\_core & site\\_core & operation\\_1 & eqpt\\_1 & site\\_1 & operation\\_1A & eqpt\\_1A & site\\_1A & operation\\_2 & eqpt\\_2 & site\\_2 & operation\\_2A & eqpt\\_2A & site\\_2A & operation\\_2B & eqpt\\_2B & site\\_2B & operation\\_3 & eqpt\\_3 & site\\_3 & operation\\_4 & eqpt\\_4 & site\\_4 & operation\\_4A & eqpt\\_4A & site\\_4A\\\\\n",
       " <fct> & <dbl> & <dbl> & <dbl> & <dbl> & <dbl> & <fct> & <fct> & <fct> & <fct> & <fct> & <fct> & <fct> & <fct> & <fct> & <fct> & <fct> & <fct> & <fct> & <fct> & <fct> & <fct> & <fct> & <fct> & <fct> & <fct> & <fct> & <fct> & <fct> & <fct> & <fct> & <fct> & <fct> & <fct>\\\\\n",
       "\\hline\n",
       "\t 2019-01-16 22:42:03 & 19.66 & 35.7 & 17.145 & 17.075 & 57.1 & 2019-01-16 22:42:33 & ok & ok & ok & ok & ok & ok & ok & ok & ok & warning & ok & ok & remove & ok & ok & warning & ok & ok & ok & ok & ok & ok & ok & ok & ok & ok & ok\\\\\n",
       "\t 2019-01-16 22:43:03 & 19.02 & 35.7 & 16.829 & 17.520 & 57.1 & 2019-01-16 22:42:33 & ok & ok & ok & ok & ok & ok & ok & ok & ok & warning & ok & ok & remove & ok & ok & warning & ok & ok & ok & ok & ok & ok & ok & ok & ok & ok & ok\\\\\n",
       "\t 2019-01-16 22:44:03 & 18.40 & 35.7 & 14.394 & 17.245 & 57.1 & 2019-01-16 22:42:33 & ok & ok & ok & ok & ok & ok & ok & ok & ok & warning & ok & ok & remove & ok & ok & warning & ok & ok & ok & ok & ok & ok & ok & ok & ok & ok & ok\\\\\n",
       "\t 2019-01-16 22:45:03 & 18.25 & 35.7 & 13.674 & 17.446 & 57.1 & 2019-01-16 22:42:33 & ok & ok & ok & ok & ok & ok & ok & ok & ok & warning & ok & ok & remove & ok & ok & warning & ok & ok & ok & ok & ok & ok & ok & ok & ok & ok & ok\\\\\n",
       "\t 2019-01-16 22:46:03 & 18.70 & 35.7 & 14.572 & 16.457 & 57.1 & 2019-01-16 22:46:25 & ok & ok & ok & ok & ok & ok & ok & ok & ok & warning & ok & ok & remove & ok & ok & warning & ok & ok & ok & ok & ok & ok & ok & ok & ok & ok & ok\\\\\n",
       "\t 2019-01-16 22:47:03 & 18.57 & 35.7 & 14.000 & 16.448 & 57.1 & 2019-01-16 22:46:25 & ok & ok & ok & ok & ok & ok & ok & ok & ok & warning & ok & ok & remove & ok & ok & warning & ok & ok & ok & ok & ok & ok & ok & ok & ok & ok & ok\\\\\n",
       "\\end{tabular}\n"
      ],
      "text/markdown": [
       "\n",
       "A data.frame: 6 × 34\n",
       "\n",
       "| elec_timestamp &lt;fct&gt; | demand &lt;dbl&gt; | demand_max &lt;dbl&gt; | anm_generated &lt;dbl&gt; | non_anm_generated &lt;dbl&gt; | total_generation_capacity &lt;dbl&gt; | ANM_timestamp &lt;fct&gt; | operation_core &lt;fct&gt; | eqpt_core &lt;fct&gt; | site_core &lt;fct&gt; | ... ... | site_2B &lt;fct&gt; | operation_3 &lt;fct&gt; | eqpt_3 &lt;fct&gt; | site_3 &lt;fct&gt; | operation_4 &lt;fct&gt; | eqpt_4 &lt;fct&gt; | site_4 &lt;fct&gt; | operation_4A &lt;fct&gt; | eqpt_4A &lt;fct&gt; | site_4A &lt;fct&gt; |\n",
       "|---|---|---|---|---|---|---|---|---|---|---|---|---|---|---|---|---|---|---|---|---|\n",
       "| 2019-01-16 22:42:03 | 19.66 | 35.7 | 17.145 | 17.075 | 57.1 | 2019-01-16 22:42:33 | ok | ok | ok | ... | ok | ok | ok | ok | ok | ok | ok | ok | ok | ok |\n",
       "| 2019-01-16 22:43:03 | 19.02 | 35.7 | 16.829 | 17.520 | 57.1 | 2019-01-16 22:42:33 | ok | ok | ok | ... | ok | ok | ok | ok | ok | ok | ok | ok | ok | ok |\n",
       "| 2019-01-16 22:44:03 | 18.40 | 35.7 | 14.394 | 17.245 | 57.1 | 2019-01-16 22:42:33 | ok | ok | ok | ... | ok | ok | ok | ok | ok | ok | ok | ok | ok | ok |\n",
       "| 2019-01-16 22:45:03 | 18.25 | 35.7 | 13.674 | 17.446 | 57.1 | 2019-01-16 22:42:33 | ok | ok | ok | ... | ok | ok | ok | ok | ok | ok | ok | ok | ok | ok |\n",
       "| 2019-01-16 22:46:03 | 18.70 | 35.7 | 14.572 | 16.457 | 57.1 | 2019-01-16 22:46:25 | ok | ok | ok | ... | ok | ok | ok | ok | ok | ok | ok | ok | ok | ok |\n",
       "| 2019-01-16 22:47:03 | 18.57 | 35.7 | 14.000 | 16.448 | 57.1 | 2019-01-16 22:46:25 | ok | ok | ok | ... | ok | ok | ok | ok | ok | ok | ok | ok | ok | ok |\n",
       "\n"
      ],
      "text/plain": [
       "  elec_timestamp      demand demand_max anm_generated non_anm_generated\n",
       "1 2019-01-16 22:42:03 19.66  35.7       17.145        17.075           \n",
       "2 2019-01-16 22:43:03 19.02  35.7       16.829        17.520           \n",
       "3 2019-01-16 22:44:03 18.40  35.7       14.394        17.245           \n",
       "4 2019-01-16 22:45:03 18.25  35.7       13.674        17.446           \n",
       "5 2019-01-16 22:46:03 18.70  35.7       14.572        16.457           \n",
       "6 2019-01-16 22:47:03 18.57  35.7       14.000        16.448           \n",
       "  total_generation_capacity ANM_timestamp       operation_core eqpt_core\n",
       "1 57.1                      2019-01-16 22:42:33 ok             ok       \n",
       "2 57.1                      2019-01-16 22:42:33 ok             ok       \n",
       "3 57.1                      2019-01-16 22:42:33 ok             ok       \n",
       "4 57.1                      2019-01-16 22:42:33 ok             ok       \n",
       "5 57.1                      2019-01-16 22:46:25 ok             ok       \n",
       "6 57.1                      2019-01-16 22:46:25 ok             ok       \n",
       "  site_core ... site_2B operation_3 eqpt_3 site_3 operation_4 eqpt_4 site_4\n",
       "1 ok        ... ok      ok          ok     ok     ok          ok     ok    \n",
       "2 ok        ... ok      ok          ok     ok     ok          ok     ok    \n",
       "3 ok        ... ok      ok          ok     ok     ok          ok     ok    \n",
       "4 ok        ... ok      ok          ok     ok     ok          ok     ok    \n",
       "5 ok        ... ok      ok          ok     ok     ok          ok     ok    \n",
       "6 ok        ... ok      ok          ok     ok     ok          ok     ok    \n",
       "  operation_4A eqpt_4A site_4A\n",
       "1 ok           ok      ok     \n",
       "2 ok           ok      ok     \n",
       "3 ok           ok      ok     \n",
       "4 ok           ok      ok     \n",
       "5 ok           ok      ok     \n",
       "6 ok           ok      ok     "
      ]
     },
     "metadata": {},
     "output_type": "display_data"
    }
   ],
   "source": [
    "head(ssen_data)"
   ]
  },
  {
   "cell_type": "code",
   "execution_count": 6,
   "metadata": {},
   "outputs": [
    {
     "data": {
      "text/html": [
       "<table>\n",
       "<caption>A data.frame: 6 × 6</caption>\n",
       "<thead>\n",
       "\t<tr><th scope=col>X</th><th scope=col>dt</th><th scope=col>approxWindSpeed</th><th scope=col>approxWindDirection</th><th scope=col>approxPressure</th><th scope=col>approxTemp</th></tr>\n",
       "\t<tr><th scope=col>&lt;int&gt;</th><th scope=col>&lt;fct&gt;</th><th scope=col>&lt;dbl&gt;</th><th scope=col>&lt;dbl&gt;</th><th scope=col>&lt;dbl&gt;</th><th scope=col>&lt;dbl&gt;</th></tr>\n",
       "</thead>\n",
       "<tbody>\n",
       "\t<tr><td>1</td><td>2018-12-22 00:20:00</td><td>2.600000</td><td>230.0000</td><td>997</td><td>4.000000</td></tr>\n",
       "\t<tr><td>2</td><td>2018-12-22 00:30:00</td><td>2.766667</td><td>226.6667</td><td>997</td><td>4.333333</td></tr>\n",
       "\t<tr><td>3</td><td>2018-12-22 00:40:00</td><td>2.933333</td><td>223.3333</td><td>997</td><td>4.666667</td></tr>\n",
       "\t<tr><td>4</td><td>2018-12-22 00:50:00</td><td>3.100000</td><td>220.0000</td><td>997</td><td>5.000000</td></tr>\n",
       "\t<tr><td>5</td><td>2018-12-22 01:00:00</td><td>3.266667</td><td>223.3333</td><td>997</td><td>5.000000</td></tr>\n",
       "\t<tr><td>6</td><td>2018-12-22 01:10:00</td><td>3.433333</td><td>226.6667</td><td>997</td><td>5.000000</td></tr>\n",
       "</tbody>\n",
       "</table>\n"
      ],
      "text/latex": [
       "A data.frame: 6 × 6\n",
       "\\begin{tabular}{r|llllll}\n",
       " X & dt & approxWindSpeed & approxWindDirection & approxPressure & approxTemp\\\\\n",
       " <int> & <fct> & <dbl> & <dbl> & <dbl> & <dbl>\\\\\n",
       "\\hline\n",
       "\t 1 & 2018-12-22 00:20:00 & 2.600000 & 230.0000 & 997 & 4.000000\\\\\n",
       "\t 2 & 2018-12-22 00:30:00 & 2.766667 & 226.6667 & 997 & 4.333333\\\\\n",
       "\t 3 & 2018-12-22 00:40:00 & 2.933333 & 223.3333 & 997 & 4.666667\\\\\n",
       "\t 4 & 2018-12-22 00:50:00 & 3.100000 & 220.0000 & 997 & 5.000000\\\\\n",
       "\t 5 & 2018-12-22 01:00:00 & 3.266667 & 223.3333 & 997 & 5.000000\\\\\n",
       "\t 6 & 2018-12-22 01:10:00 & 3.433333 & 226.6667 & 997 & 5.000000\\\\\n",
       "\\end{tabular}\n"
      ],
      "text/markdown": [
       "\n",
       "A data.frame: 6 × 6\n",
       "\n",
       "| X &lt;int&gt; | dt &lt;fct&gt; | approxWindSpeed &lt;dbl&gt; | approxWindDirection &lt;dbl&gt; | approxPressure &lt;dbl&gt; | approxTemp &lt;dbl&gt; |\n",
       "|---|---|---|---|---|---|\n",
       "| 1 | 2018-12-22 00:20:00 | 2.600000 | 230.0000 | 997 | 4.000000 |\n",
       "| 2 | 2018-12-22 00:30:00 | 2.766667 | 226.6667 | 997 | 4.333333 |\n",
       "| 3 | 2018-12-22 00:40:00 | 2.933333 | 223.3333 | 997 | 4.666667 |\n",
       "| 4 | 2018-12-22 00:50:00 | 3.100000 | 220.0000 | 997 | 5.000000 |\n",
       "| 5 | 2018-12-22 01:00:00 | 3.266667 | 223.3333 | 997 | 5.000000 |\n",
       "| 6 | 2018-12-22 01:10:00 | 3.433333 | 226.6667 | 997 | 5.000000 |\n",
       "\n"
      ],
      "text/plain": [
       "  X dt                  approxWindSpeed approxWindDirection approxPressure\n",
       "1 1 2018-12-22 00:20:00 2.600000        230.0000            997           \n",
       "2 2 2018-12-22 00:30:00 2.766667        226.6667            997           \n",
       "3 3 2018-12-22 00:40:00 2.933333        223.3333            997           \n",
       "4 4 2018-12-22 00:50:00 3.100000        220.0000            997           \n",
       "5 5 2018-12-22 01:00:00 3.266667        223.3333            997           \n",
       "6 6 2018-12-22 01:10:00 3.433333        226.6667            997           \n",
       "  approxTemp\n",
       "1 4.000000  \n",
       "2 4.333333  \n",
       "3 4.666667  \n",
       "4 5.000000  \n",
       "5 5.000000  \n",
       "6 5.000000  "
      ]
     },
     "metadata": {},
     "output_type": "display_data"
    }
   ],
   "source": [
    "head(weather)"
   ]
  },
  {
   "cell_type": "code",
   "execution_count": 9,
   "metadata": {},
   "outputs": [],
   "source": [
    "# make datetime timestamp from string timestamp(column 1 - dt)  ignoring seconds\n",
    "\n",
    "ssen_data$dt <- as.POSIXct(ssen_data$elec_timestamp,format=\"%Y-%m-%d %H:%M\",tz=\"GMT\")"
   ]
  },
  {
   "cell_type": "code",
   "execution_count": 26,
   "metadata": {},
   "outputs": [
    {
     "data": {
      "text/html": [
       "<table>\n",
       "<caption>A data.frame: 6 × 3</caption>\n",
       "<thead>\n",
       "\t<tr><th scope=col>elec_timestamp</th><th scope=col>ANM_timestamp</th><th scope=col>dt</th></tr>\n",
       "\t<tr><th scope=col>&lt;fct&gt;</th><th scope=col>&lt;fct&gt;</th><th scope=col>&lt;dttm&gt;</th></tr>\n",
       "</thead>\n",
       "<tbody>\n",
       "\t<tr><td>2019-01-16 22:42:03</td><td>2019-01-16 22:42:33</td><td>2019-01-16 22:42:00</td></tr>\n",
       "\t<tr><td>2019-01-16 22:43:03</td><td>2019-01-16 22:42:33</td><td>2019-01-16 22:43:00</td></tr>\n",
       "\t<tr><td>2019-01-16 22:44:03</td><td>2019-01-16 22:42:33</td><td>2019-01-16 22:44:00</td></tr>\n",
       "\t<tr><td>2019-01-16 22:45:03</td><td>2019-01-16 22:42:33</td><td>2019-01-16 22:45:00</td></tr>\n",
       "\t<tr><td>2019-01-16 22:46:03</td><td>2019-01-16 22:46:25</td><td>2019-01-16 22:46:00</td></tr>\n",
       "\t<tr><td>2019-01-16 22:47:03</td><td>2019-01-16 22:46:25</td><td>2019-01-16 22:47:00</td></tr>\n",
       "</tbody>\n",
       "</table>\n"
      ],
      "text/latex": [
       "A data.frame: 6 × 3\n",
       "\\begin{tabular}{r|lll}\n",
       " elec\\_timestamp & ANM\\_timestamp & dt\\\\\n",
       " <fct> & <fct> & <dttm>\\\\\n",
       "\\hline\n",
       "\t 2019-01-16 22:42:03 & 2019-01-16 22:42:33 & 2019-01-16 22:42:00\\\\\n",
       "\t 2019-01-16 22:43:03 & 2019-01-16 22:42:33 & 2019-01-16 22:43:00\\\\\n",
       "\t 2019-01-16 22:44:03 & 2019-01-16 22:42:33 & 2019-01-16 22:44:00\\\\\n",
       "\t 2019-01-16 22:45:03 & 2019-01-16 22:42:33 & 2019-01-16 22:45:00\\\\\n",
       "\t 2019-01-16 22:46:03 & 2019-01-16 22:46:25 & 2019-01-16 22:46:00\\\\\n",
       "\t 2019-01-16 22:47:03 & 2019-01-16 22:46:25 & 2019-01-16 22:47:00\\\\\n",
       "\\end{tabular}\n"
      ],
      "text/markdown": [
       "\n",
       "A data.frame: 6 × 3\n",
       "\n",
       "| elec_timestamp &lt;fct&gt; | ANM_timestamp &lt;fct&gt; | dt &lt;dttm&gt; |\n",
       "|---|---|---|\n",
       "| 2019-01-16 22:42:03 | 2019-01-16 22:42:33 | 2019-01-16 22:42:00 |\n",
       "| 2019-01-16 22:43:03 | 2019-01-16 22:42:33 | 2019-01-16 22:43:00 |\n",
       "| 2019-01-16 22:44:03 | 2019-01-16 22:42:33 | 2019-01-16 22:44:00 |\n",
       "| 2019-01-16 22:45:03 | 2019-01-16 22:42:33 | 2019-01-16 22:45:00 |\n",
       "| 2019-01-16 22:46:03 | 2019-01-16 22:46:25 | 2019-01-16 22:46:00 |\n",
       "| 2019-01-16 22:47:03 | 2019-01-16 22:46:25 | 2019-01-16 22:47:00 |\n",
       "\n"
      ],
      "text/plain": [
       "  elec_timestamp      ANM_timestamp       dt                 \n",
       "1 2019-01-16 22:42:03 2019-01-16 22:42:33 2019-01-16 22:42:00\n",
       "2 2019-01-16 22:43:03 2019-01-16 22:42:33 2019-01-16 22:43:00\n",
       "3 2019-01-16 22:44:03 2019-01-16 22:42:33 2019-01-16 22:44:00\n",
       "4 2019-01-16 22:45:03 2019-01-16 22:42:33 2019-01-16 22:45:00\n",
       "5 2019-01-16 22:46:03 2019-01-16 22:46:25 2019-01-16 22:46:00\n",
       "6 2019-01-16 22:47:03 2019-01-16 22:46:25 2019-01-16 22:47:00"
      ]
     },
     "metadata": {},
     "output_type": "display_data"
    }
   ],
   "source": [
    "ssen_data[1:6, c(1,7,35)]"
   ]
  },
  {
   "cell_type": "code",
   "execution_count": 15,
   "metadata": {},
   "outputs": [],
   "source": [
    "# convert string timestamp to datetime\n",
    "weather$dt <- as.POSIXct(weather$dt,format=\"%Y-%m-%d %H:%M:%S\",tz=\"GMT\")"
   ]
  },
  {
   "cell_type": "code",
   "execution_count": 16,
   "metadata": {},
   "outputs": [
    {
     "data": {
      "text/html": [
       "<table>\n",
       "<caption>A data.frame: 6 × 6</caption>\n",
       "<thead>\n",
       "\t<tr><th scope=col>X</th><th scope=col>dt</th><th scope=col>approxWindSpeed</th><th scope=col>approxWindDirection</th><th scope=col>approxPressure</th><th scope=col>approxTemp</th></tr>\n",
       "\t<tr><th scope=col>&lt;int&gt;</th><th scope=col>&lt;dttm&gt;</th><th scope=col>&lt;dbl&gt;</th><th scope=col>&lt;dbl&gt;</th><th scope=col>&lt;dbl&gt;</th><th scope=col>&lt;dbl&gt;</th></tr>\n",
       "</thead>\n",
       "<tbody>\n",
       "\t<tr><td>1</td><td>2018-12-22 00:20:00</td><td>2.600000</td><td>230.0000</td><td>997</td><td>4.000000</td></tr>\n",
       "\t<tr><td>2</td><td>2018-12-22 00:30:00</td><td>2.766667</td><td>226.6667</td><td>997</td><td>4.333333</td></tr>\n",
       "\t<tr><td>3</td><td>2018-12-22 00:40:00</td><td>2.933333</td><td>223.3333</td><td>997</td><td>4.666667</td></tr>\n",
       "\t<tr><td>4</td><td>2018-12-22 00:50:00</td><td>3.100000</td><td>220.0000</td><td>997</td><td>5.000000</td></tr>\n",
       "\t<tr><td>5</td><td>2018-12-22 01:00:00</td><td>3.266667</td><td>223.3333</td><td>997</td><td>5.000000</td></tr>\n",
       "\t<tr><td>6</td><td>2018-12-22 01:10:00</td><td>3.433333</td><td>226.6667</td><td>997</td><td>5.000000</td></tr>\n",
       "</tbody>\n",
       "</table>\n"
      ],
      "text/latex": [
       "A data.frame: 6 × 6\n",
       "\\begin{tabular}{r|llllll}\n",
       " X & dt & approxWindSpeed & approxWindDirection & approxPressure & approxTemp\\\\\n",
       " <int> & <dttm> & <dbl> & <dbl> & <dbl> & <dbl>\\\\\n",
       "\\hline\n",
       "\t 1 & 2018-12-22 00:20:00 & 2.600000 & 230.0000 & 997 & 4.000000\\\\\n",
       "\t 2 & 2018-12-22 00:30:00 & 2.766667 & 226.6667 & 997 & 4.333333\\\\\n",
       "\t 3 & 2018-12-22 00:40:00 & 2.933333 & 223.3333 & 997 & 4.666667\\\\\n",
       "\t 4 & 2018-12-22 00:50:00 & 3.100000 & 220.0000 & 997 & 5.000000\\\\\n",
       "\t 5 & 2018-12-22 01:00:00 & 3.266667 & 223.3333 & 997 & 5.000000\\\\\n",
       "\t 6 & 2018-12-22 01:10:00 & 3.433333 & 226.6667 & 997 & 5.000000\\\\\n",
       "\\end{tabular}\n"
      ],
      "text/markdown": [
       "\n",
       "A data.frame: 6 × 6\n",
       "\n",
       "| X &lt;int&gt; | dt &lt;dttm&gt; | approxWindSpeed &lt;dbl&gt; | approxWindDirection &lt;dbl&gt; | approxPressure &lt;dbl&gt; | approxTemp &lt;dbl&gt; |\n",
       "|---|---|---|---|---|---|\n",
       "| 1 | 2018-12-22 00:20:00 | 2.600000 | 230.0000 | 997 | 4.000000 |\n",
       "| 2 | 2018-12-22 00:30:00 | 2.766667 | 226.6667 | 997 | 4.333333 |\n",
       "| 3 | 2018-12-22 00:40:00 | 2.933333 | 223.3333 | 997 | 4.666667 |\n",
       "| 4 | 2018-12-22 00:50:00 | 3.100000 | 220.0000 | 997 | 5.000000 |\n",
       "| 5 | 2018-12-22 01:00:00 | 3.266667 | 223.3333 | 997 | 5.000000 |\n",
       "| 6 | 2018-12-22 01:10:00 | 3.433333 | 226.6667 | 997 | 5.000000 |\n",
       "\n"
      ],
      "text/plain": [
       "  X dt                  approxWindSpeed approxWindDirection approxPressure\n",
       "1 1 2018-12-22 00:20:00 2.600000        230.0000            997           \n",
       "2 2 2018-12-22 00:30:00 2.766667        226.6667            997           \n",
       "3 3 2018-12-22 00:40:00 2.933333        223.3333            997           \n",
       "4 4 2018-12-22 00:50:00 3.100000        220.0000            997           \n",
       "5 5 2018-12-22 01:00:00 3.266667        223.3333            997           \n",
       "6 6 2018-12-22 01:10:00 3.433333        226.6667            997           \n",
       "  approxTemp\n",
       "1 4.000000  \n",
       "2 4.333333  \n",
       "3 4.666667  \n",
       "4 5.000000  \n",
       "5 5.000000  \n",
       "6 5.000000  "
      ]
     },
     "metadata": {},
     "output_type": "display_data"
    }
   ],
   "source": [
    "head(weather)"
   ]
  },
  {
   "cell_type": "code",
   "execution_count": 27,
   "metadata": {},
   "outputs": [],
   "source": [
    "library(sqldf)"
   ]
  },
  {
   "cell_type": "code",
   "execution_count": 18,
   "metadata": {},
   "outputs": [],
   "source": [
    "# perform join of minute by minute electricity readings with 10 minute (600 second) interval weather records\n",
    "combined <- sqldf(\"select * from ssen_data d inner join weather w \n",
    "                  on (d.dt >= w.dt and d.dt< (w.dt + 600)) \")"
   ]
  },
  {
   "cell_type": "code",
   "execution_count": 22,
   "metadata": {},
   "outputs": [
    {
     "data": {
      "text/html": [
       "<table>\n",
       "<caption>A data.frame: 20 × 5</caption>\n",
       "<thead>\n",
       "\t<tr><th scope=col>elec_timestamp</th><th scope=col>site_4A</th><th scope=col>dt</th><th scope=col>X</th><th scope=col>dt..37</th></tr>\n",
       "\t<tr><th scope=col>&lt;fct&gt;</th><th scope=col>&lt;fct&gt;</th><th scope=col>&lt;dttm&gt;</th><th scope=col>&lt;int&gt;</th><th scope=col>&lt;dbl&gt;</th></tr>\n",
       "</thead>\n",
       "<tbody>\n",
       "\t<tr><td>2019-01-16 22:42:03</td><td>ok</td><td>2019-01-16 22:42:00</td><td>3735</td><td>1547678400</td></tr>\n",
       "\t<tr><td>2019-01-16 22:43:03</td><td>ok</td><td>2019-01-16 22:43:00</td><td>3735</td><td>1547678400</td></tr>\n",
       "\t<tr><td>2019-01-16 22:44:03</td><td>ok</td><td>2019-01-16 22:44:00</td><td>3735</td><td>1547678400</td></tr>\n",
       "\t<tr><td>2019-01-16 22:45:03</td><td>ok</td><td>2019-01-16 22:45:00</td><td>3735</td><td>1547678400</td></tr>\n",
       "\t<tr><td>2019-01-16 22:46:03</td><td>ok</td><td>2019-01-16 22:46:00</td><td>3735</td><td>1547678400</td></tr>\n",
       "\t<tr><td>2019-01-16 22:47:03</td><td>ok</td><td>2019-01-16 22:47:00</td><td>3735</td><td>1547678400</td></tr>\n",
       "\t<tr><td>2019-01-16 22:48:03</td><td>ok</td><td>2019-01-16 22:48:00</td><td>3735</td><td>1547678400</td></tr>\n",
       "\t<tr><td>2019-01-16 22:49:03</td><td>ok</td><td>2019-01-16 22:49:00</td><td>3735</td><td>1547678400</td></tr>\n",
       "\t<tr><td>2019-01-16 22:50:03</td><td>ok</td><td>2019-01-16 22:50:00</td><td>3736</td><td>1547679000</td></tr>\n",
       "\t<tr><td>2019-01-16 22:51:03</td><td>ok</td><td>2019-01-16 22:51:00</td><td>3736</td><td>1547679000</td></tr>\n",
       "\t<tr><td>2019-01-16 22:52:03</td><td>ok</td><td>2019-01-16 22:52:00</td><td>3736</td><td>1547679000</td></tr>\n",
       "\t<tr><td>2019-01-16 22:53:03</td><td>ok</td><td>2019-01-16 22:53:00</td><td>3736</td><td>1547679000</td></tr>\n",
       "\t<tr><td>2019-01-16 22:54:03</td><td>ok</td><td>2019-01-16 22:54:00</td><td>3736</td><td>1547679000</td></tr>\n",
       "\t<tr><td>2019-01-16 22:55:03</td><td>ok</td><td>2019-01-16 22:55:00</td><td>3736</td><td>1547679000</td></tr>\n",
       "\t<tr><td>2019-01-16 22:56:03</td><td>ok</td><td>2019-01-16 22:56:00</td><td>3736</td><td>1547679000</td></tr>\n",
       "\t<tr><td>2019-01-16 22:57:03</td><td>ok</td><td>2019-01-16 22:57:00</td><td>3736</td><td>1547679000</td></tr>\n",
       "\t<tr><td>2019-01-16 22:58:03</td><td>ok</td><td>2019-01-16 22:58:00</td><td>3736</td><td>1547679000</td></tr>\n",
       "\t<tr><td>2019-01-16 22:59:03</td><td>ok</td><td>2019-01-16 22:59:00</td><td>3736</td><td>1547679000</td></tr>\n",
       "\t<tr><td>2019-01-16 23:00:03</td><td>ok</td><td>2019-01-16 23:00:00</td><td>3737</td><td>1547679600</td></tr>\n",
       "\t<tr><td>2019-01-16 23:01:03</td><td>ok</td><td>2019-01-16 23:01:00</td><td>3737</td><td>1547679600</td></tr>\n",
       "</tbody>\n",
       "</table>\n"
      ],
      "text/latex": [
       "A data.frame: 20 × 5\n",
       "\\begin{tabular}{r|lllll}\n",
       " elec\\_timestamp & site\\_4A & dt & X & dt..37\\\\\n",
       " <fct> & <fct> & <dttm> & <int> & <dbl>\\\\\n",
       "\\hline\n",
       "\t 2019-01-16 22:42:03 & ok & 2019-01-16 22:42:00 & 3735 & 1547678400\\\\\n",
       "\t 2019-01-16 22:43:03 & ok & 2019-01-16 22:43:00 & 3735 & 1547678400\\\\\n",
       "\t 2019-01-16 22:44:03 & ok & 2019-01-16 22:44:00 & 3735 & 1547678400\\\\\n",
       "\t 2019-01-16 22:45:03 & ok & 2019-01-16 22:45:00 & 3735 & 1547678400\\\\\n",
       "\t 2019-01-16 22:46:03 & ok & 2019-01-16 22:46:00 & 3735 & 1547678400\\\\\n",
       "\t 2019-01-16 22:47:03 & ok & 2019-01-16 22:47:00 & 3735 & 1547678400\\\\\n",
       "\t 2019-01-16 22:48:03 & ok & 2019-01-16 22:48:00 & 3735 & 1547678400\\\\\n",
       "\t 2019-01-16 22:49:03 & ok & 2019-01-16 22:49:00 & 3735 & 1547678400\\\\\n",
       "\t 2019-01-16 22:50:03 & ok & 2019-01-16 22:50:00 & 3736 & 1547679000\\\\\n",
       "\t 2019-01-16 22:51:03 & ok & 2019-01-16 22:51:00 & 3736 & 1547679000\\\\\n",
       "\t 2019-01-16 22:52:03 & ok & 2019-01-16 22:52:00 & 3736 & 1547679000\\\\\n",
       "\t 2019-01-16 22:53:03 & ok & 2019-01-16 22:53:00 & 3736 & 1547679000\\\\\n",
       "\t 2019-01-16 22:54:03 & ok & 2019-01-16 22:54:00 & 3736 & 1547679000\\\\\n",
       "\t 2019-01-16 22:55:03 & ok & 2019-01-16 22:55:00 & 3736 & 1547679000\\\\\n",
       "\t 2019-01-16 22:56:03 & ok & 2019-01-16 22:56:00 & 3736 & 1547679000\\\\\n",
       "\t 2019-01-16 22:57:03 & ok & 2019-01-16 22:57:00 & 3736 & 1547679000\\\\\n",
       "\t 2019-01-16 22:58:03 & ok & 2019-01-16 22:58:00 & 3736 & 1547679000\\\\\n",
       "\t 2019-01-16 22:59:03 & ok & 2019-01-16 22:59:00 & 3736 & 1547679000\\\\\n",
       "\t 2019-01-16 23:00:03 & ok & 2019-01-16 23:00:00 & 3737 & 1547679600\\\\\n",
       "\t 2019-01-16 23:01:03 & ok & 2019-01-16 23:01:00 & 3737 & 1547679600\\\\\n",
       "\\end{tabular}\n"
      ],
      "text/markdown": [
       "\n",
       "A data.frame: 20 × 5\n",
       "\n",
       "| elec_timestamp &lt;fct&gt; | site_4A &lt;fct&gt; | dt &lt;dttm&gt; | X &lt;int&gt; | dt..37 &lt;dbl&gt; |\n",
       "|---|---|---|---|---|\n",
       "| 2019-01-16 22:42:03 | ok | 2019-01-16 22:42:00 | 3735 | 1547678400 |\n",
       "| 2019-01-16 22:43:03 | ok | 2019-01-16 22:43:00 | 3735 | 1547678400 |\n",
       "| 2019-01-16 22:44:03 | ok | 2019-01-16 22:44:00 | 3735 | 1547678400 |\n",
       "| 2019-01-16 22:45:03 | ok | 2019-01-16 22:45:00 | 3735 | 1547678400 |\n",
       "| 2019-01-16 22:46:03 | ok | 2019-01-16 22:46:00 | 3735 | 1547678400 |\n",
       "| 2019-01-16 22:47:03 | ok | 2019-01-16 22:47:00 | 3735 | 1547678400 |\n",
       "| 2019-01-16 22:48:03 | ok | 2019-01-16 22:48:00 | 3735 | 1547678400 |\n",
       "| 2019-01-16 22:49:03 | ok | 2019-01-16 22:49:00 | 3735 | 1547678400 |\n",
       "| 2019-01-16 22:50:03 | ok | 2019-01-16 22:50:00 | 3736 | 1547679000 |\n",
       "| 2019-01-16 22:51:03 | ok | 2019-01-16 22:51:00 | 3736 | 1547679000 |\n",
       "| 2019-01-16 22:52:03 | ok | 2019-01-16 22:52:00 | 3736 | 1547679000 |\n",
       "| 2019-01-16 22:53:03 | ok | 2019-01-16 22:53:00 | 3736 | 1547679000 |\n",
       "| 2019-01-16 22:54:03 | ok | 2019-01-16 22:54:00 | 3736 | 1547679000 |\n",
       "| 2019-01-16 22:55:03 | ok | 2019-01-16 22:55:00 | 3736 | 1547679000 |\n",
       "| 2019-01-16 22:56:03 | ok | 2019-01-16 22:56:00 | 3736 | 1547679000 |\n",
       "| 2019-01-16 22:57:03 | ok | 2019-01-16 22:57:00 | 3736 | 1547679000 |\n",
       "| 2019-01-16 22:58:03 | ok | 2019-01-16 22:58:00 | 3736 | 1547679000 |\n",
       "| 2019-01-16 22:59:03 | ok | 2019-01-16 22:59:00 | 3736 | 1547679000 |\n",
       "| 2019-01-16 23:00:03 | ok | 2019-01-16 23:00:00 | 3737 | 1547679600 |\n",
       "| 2019-01-16 23:01:03 | ok | 2019-01-16 23:01:00 | 3737 | 1547679600 |\n",
       "\n"
      ],
      "text/plain": [
       "   elec_timestamp      site_4A dt                  X    dt..37    \n",
       "1  2019-01-16 22:42:03 ok      2019-01-16 22:42:00 3735 1547678400\n",
       "2  2019-01-16 22:43:03 ok      2019-01-16 22:43:00 3735 1547678400\n",
       "3  2019-01-16 22:44:03 ok      2019-01-16 22:44:00 3735 1547678400\n",
       "4  2019-01-16 22:45:03 ok      2019-01-16 22:45:00 3735 1547678400\n",
       "5  2019-01-16 22:46:03 ok      2019-01-16 22:46:00 3735 1547678400\n",
       "6  2019-01-16 22:47:03 ok      2019-01-16 22:47:00 3735 1547678400\n",
       "7  2019-01-16 22:48:03 ok      2019-01-16 22:48:00 3735 1547678400\n",
       "8  2019-01-16 22:49:03 ok      2019-01-16 22:49:00 3735 1547678400\n",
       "9  2019-01-16 22:50:03 ok      2019-01-16 22:50:00 3736 1547679000\n",
       "10 2019-01-16 22:51:03 ok      2019-01-16 22:51:00 3736 1547679000\n",
       "11 2019-01-16 22:52:03 ok      2019-01-16 22:52:00 3736 1547679000\n",
       "12 2019-01-16 22:53:03 ok      2019-01-16 22:53:00 3736 1547679000\n",
       "13 2019-01-16 22:54:03 ok      2019-01-16 22:54:00 3736 1547679000\n",
       "14 2019-01-16 22:55:03 ok      2019-01-16 22:55:00 3736 1547679000\n",
       "15 2019-01-16 22:56:03 ok      2019-01-16 22:56:00 3736 1547679000\n",
       "16 2019-01-16 22:57:03 ok      2019-01-16 22:57:00 3736 1547679000\n",
       "17 2019-01-16 22:58:03 ok      2019-01-16 22:58:00 3736 1547679000\n",
       "18 2019-01-16 22:59:03 ok      2019-01-16 22:59:00 3736 1547679000\n",
       "19 2019-01-16 23:00:03 ok      2019-01-16 23:00:00 3737 1547679600\n",
       "20 2019-01-16 23:01:03 ok      2019-01-16 23:01:00 3737 1547679600"
      ]
     },
     "metadata": {},
     "output_type": "display_data"
    }
   ],
   "source": [
    "# display successful join - weather timestamp is displayed as a  unix epoch timestamp (mins since 1970-1-1 00:00)\n",
    "combined[1:20 ,c(1,34,35,36,37)]"
   ]
  },
  {
   "cell_type": "code",
   "execution_count": 23,
   "metadata": {},
   "outputs": [],
   "source": [
    "# export data as comma separated variable file.\n",
    "write.csv(combined, './database/combined_ssen_weather.csv')"
   ]
  }
 ],
 "metadata": {
  "kernelspec": {
   "display_name": "R",
   "language": "R",
   "name": "ir"
  },
  "language_info": {
   "codemirror_mode": "r",
   "file_extension": ".r",
   "mimetype": "text/x-r-source",
   "name": "R",
   "pygments_lexer": "r",
   "version": "3.5.2"
  }
 },
 "nbformat": 4,
 "nbformat_minor": 4
}
