{
 "cells": [
  {
   "cell_type": "markdown",
   "metadata": {},
   "source": [
    "# Retrieve domestic wind turbine generation data "
   ]
  },
  {
   "cell_type": "markdown",
   "metadata": {},
   "source": [
    "<img src='../images/Evance_9000_WindTurbine.JPG' align='right' alt='Evance R9000 wind turbine and rainbow'>\n",
    "Orkney Rewnewable Energy Forum (OREF) http://www.oref.co.uk/ own and run an Evance R9000 5kW domestic wind turbine.\n",
    "\n",
    "The production data for this turbine has been recorded since 2012 and is publically available on [sunnyportal.com](https://www.sunnyportal.com/Templates/PublicPageOverview.aspx?plant=7c8677c0-4e37-42d6-a115-d356f13a3120)"
   ]
  },
  {
   "cell_type": "markdown",
   "metadata": {},
   "source": [
    "There is no API for the data so it must be screenscraped from the relevant webpage that displays the data in tabular form.\n",
    "\n",
    "https://www.sunnyportal.com/Templates/PublicChartValues.aspx?ID=aa6b2b6e-f836-4ff5-b90c-91754955b988&endTime=21/05/2019%2010:59:59&splang=en-GB&plantTimezoneBias=60&name=\n",
    "\n",
    "The url is made up of a unit id (`ID=aa6b2b6e-f836-4ff5-b90c-91754955b988`) and a datetime marking the end of the dataset required (`endTime=21/05/2019%2023:59:59`)\n",
    "\n",
    "* The returned data spans from midnight two days prior to the requested day until midnight of the requested day.\n",
    "* Note that the final value is 00:00 of the following day rather than 24:00 of the requested day.\n",
    "* Note also that ony the date of the datetime submitted in the url is used by the website, the time value has no effect. The url also works with only a date submitted.\n",
    "\n",
    "an example of returned data is shown below"
   ]
  },
  {
   "cell_type": "markdown",
   "metadata": {},
   "source": [
    "<table style=\"border-collapse:collapse;\" cellspacing=\"0\" cellpadding=\"0\">\n",
    "\t<tbody>\n",
    "        <tr>\n",
    "            <td></td>\n",
    "            <td>Quarry House<br>Power<br>Mean values  [kW]</td>\n",
    "            <td>Quarry House<br>Total yield<br>Meter change  [kWh]</td>\n",
    "        </tr><tr>\n",
    "\t\t<td>01:00/ 20</td><td>0.014</td><td>0.009</td></tr><tr>\n",
    "\t\t<td>02:00/ 20</td><td>0.072</td><td>0.064</td></tr><tr>\n",
    "\t\t<td>03:00/ 20</td><td>0.005</td><td>0.010</td></tr><tr>\n",
    "\t\t<td>04:00/ 20</td><td>0.084</td><td>0.135</td></tr><tr>\n",
    "\t\t<td>05:00/ 20</td><td>0.139</td><td>0.095</td></tr><tr>\n",
    "\t\t<td>06:00/ 20</td><td>0.122</td><td>0.145</td></tr><tr>\n",
    "\t\t<td>07:00/ 20</td><td>0.060</td><td>0.026</td></tr><tr>\n",
    "\t\t<td>08:00/ 20</td><td>0.007</td><td>0.012</td></tr><tr>\n",
    "\t\t<td>09:00/ 20</td><td>0.109</td><td>0.136</td></tr><tr>\n",
    "\t\t<td>10:00/ 20</td><td>0.165</td><td>0.171</td></tr><tr>\n",
    "\t\t<td>11:00/ 20</td><td>0.127</td><td>0.096</td></tr><tr>\n",
    "\t\t<td>12:00/ 20</td><td>0.011</td><td>0.006</td></tr><tr>\n",
    "\t\t<td>13:00/ 20</td><td>0.001</td><td>0.005</td></tr><tr>\n",
    "\t\t<td>14:00/ 20</td><td>0.038</td><td>0.092</td></tr><tr>\n",
    "\t\t<td>15:00/ 20</td><td>0.234</td><td>0.181</td></tr><tr>\n",
    "\t\t<td>16:00/ 20</td><td>0.003</td><td>0.000</td></tr><tr>\n",
    "\t\t<td>17:00/ 20</td><td>0.000</td><td>0.001</td></tr><tr>\n",
    "\t\t<td>18:00/ 20</td><td>0.002</td><td>0.002</td></tr><tr>\n",
    "\t\t<td>19:00/ 20</td><td>0.000</td><td>0.000</td></tr><tr>\n",
    "\t\t<td>20:00/ 20</td><td>0.001</td><td>0.001</td></tr><tr>\n",
    "\t\t<td>21:00/ 20</td><td>0.000</td><td>0.000</td></tr><tr>\n",
    "\t\t<td>22:00/ 20</td><td>0.000</td><td>0.000</td></tr><tr>\n",
    "\t\t<td>23:00/ 20</td><td>0.003</td><td>0.001</td></tr><tr>\n",
    "\t\t<td>00:00/ 21</td><td>0.058</td><td>0.062</td></tr><tr>\n",
    "\t\t<td>01:00/ 21</td><td>0.159</td><td>0.203</td></tr><tr>\n",
    "\t\t<td>02:00/ 21</td><td>0.216</td><td>0.182</td></tr><tr>\n",
    "\t\t<td>03:00/ 21</td><td>0.145</td><td>0.252</td></tr><tr>\n",
    "\t\t<td>04:00/ 21</td><td>0.355</td><td>0.290</td></tr><tr>\n",
    "\t\t<td>05:00/ 21</td><td>0.400</td><td>0.429</td></tr><tr>\n",
    "\t\t<td>06:00/ 21</td><td>0.373</td><td>0.417</td></tr><tr>\n",
    "\t\t<td>07:00/ 21</td><td>0.596</td><td>0.614</td></tr><tr>\n",
    "\t\t<td>08:00/ 21</td><td>0.464</td><td>0.373</td></tr><tr>\n",
    "\t\t<td>09:00/ 21</td><td>0.322</td><td>0.355</td></tr><tr>\n",
    "\t\t<td>10:00/ 21</td><td>0.350</td><td>0.325</td></tr><tr>\n",
    "\t\t<td>11:00/ 21</td><td>0.309</td><td>0.333</td></tr><tr>\n",
    "\t\t<td>12:00/ 21</td><td>0.199</td><td>0.170</td></tr><tr>\n",
    "\t\t<td>13:00/ 21</td><td>0.229</td><td>0.290</td></tr><tr>\n",
    "\t\t<td>14:00/ 21</td><td>0.547</td><td>0.651</td></tr><tr>\n",
    "\t\t<td>15:00/ 21</td><td>1.413</td><td>1.701</td></tr><tr>\n",
    "\t\t<td>16:00/ 21</td><td>2.227</td><td>2.354</td></tr><tr>\n",
    "\t\t<td>17:00/ 21</td><td>2.296</td><td>2.189</td></tr><tr>\n",
    "\t\t<td>18:00/ 21</td><td>2.371</td><td>2.529</td></tr><tr>\n",
    "\t\t<td>19:00/ 21</td><td>2.395</td><td>2.323</td></tr><tr>\n",
    "\t\t<td>20:00/ 21</td><td>2.378</td><td>2.366</td></tr><tr>\n",
    "\t\t<td>21:00/ 21</td><td>2.425</td><td>2.322</td></tr><tr>\n",
    "\t\t<td>22:00/ 21</td><td>2.025</td><td>0.024</td></tr><tr>\n",
    "\t\t<td>23:00/ 21</td><td></td><td></td></tr><tr>\n",
    "\t\t<td>00:00/ 22</td><td></td><td></td></tr>\n",
    "</tbody></table>"
   ]
  },
  {
   "cell_type": "code",
   "execution_count": 1,
   "metadata": {},
   "outputs": [],
   "source": [
    "#Setup the kernel with the required libraries\n",
    "# and set some constants\n",
    "\n",
    "import urllib.request, json\n",
    "import datetime\n",
    "from bs4 import BeautifulSoup\n",
    "import re\n",
    "\n",
    "URL =\"https://www.sunnyportal.com/Templates/PublicChartValues.aspx\\\n",
    "?ID=aa6b2b6e-f836-4ff5-b90c-91754955b988\\\n",
    "&splang=en-GB\\\n",
    "&plantTimezoneBias=0\\\n",
    "&name=\\\n",
    "&endTime=\"\n",
    "\n",
    "recDate =datetime.datetime(2019, 5, 12, 23, 59, 59)"
   ]
  },
  {
   "cell_type": "code",
   "execution_count": 2,
   "metadata": {},
   "outputs": [],
   "source": [
    "#get the page\n",
    "callurl = URL+recDate.strftime('%Y/%m/%d%%20%H:%M:%S')\n",
    "with urllib.request.urlopen(callurl) as url:\n",
    "  page = url.read()"
   ]
  },
  {
   "cell_type": "code",
   "execution_count": 3,
   "metadata": {
    "scrolled": true
   },
   "outputs": [
    {
     "data": {
      "text/plain": [
       "b' onKeyPress(e) {\\n   if (e.which == 13) {\\n\\tif (!isMultiLineTextElement(e.target) && !isAnchor(e.target)) {\\n\\t\\te.cancelBubble = true;\\n\\t\\te.returnValue = false;\\n\\t}\\n\\t}\\n}\\n\\tfunction isMultiLineTextElement(elem) {\\n\\t\\treturn (elem.tagName == \"TEXTAREA\");}\\n\\tfunction isAnchor(elem) {\\n\\t\\treturn (elem.tagName == \"A\");}\\n// -->\\n</script>\\n\\r\\n            \\r\\n    <div id=\"content\" style=\"border:0;padding:0;margin:5px\">\\r\\n        <div style=\"float:left\">\\r\\n            <h2><span id=\"ctl00_ContentPlaceHolder1_title\">Diagram values</span></h2>\\r\\n        </div>\\r\\n        <div style=\"float:right\">\\r\\n            <div id=\"ctl00_ContentPlaceHolder1_MyDivClose\" style=\"FLOAT: right; MARGIN-RIGHT: 15px; text-align:right;\"><a href=\"javascript:window.close()\"><img src=\"../Images/window-close16.png\" width=\"16\" height=\"16\" alt=\"\" title=\"Close\"/></a></div>\\r\\n            <div id=\"ctl00_ContentPlaceHolder1_MyDivPrint\" style=\"FLOAT: right; MARGIN-RIGHT: 15px; text-align:right;\"><a href=\"javascript:window.print()\"><img src=\"../Images/printer16.png\" width=\"16\" height=\"16\" alt=\"\" title=\"Print\"/></a></div>\\r\\n        </div>\\r\\n        <div style=\"CLEAR: both\">\\r\\n            <br />\\r\\n            \\r\\n\\r\\n\\r\\n\\r\\n<div id=\"ctl00_ContentPlaceHolder1_UserControlChartValues1_Table1Div\" class=\"tabelle\">\\r\\n    <table id=\"ctl00_ContentPlaceHolder1_UserControlChartValues1_Table1\" class=\"base-grid\" cellspacing=\"0\" cellpadding=\"0\">\\r\\n\\t<tr>\\r\\n\\t\\t<td class=\"base-grid-header-cell\" align=\"right\"></td><td class=\"base-grid-header-cell\" align=\"right\">Quarry House<br>Power<br>Mean values  [kW]</td><td class=\"base-grid-header-cell\" align=\"right\">Quarry House<br>Total yield<br>Meter change  [kWh]</td>\\r\\n\\t</tr><tr class=\"base-grid-item\">\\r\\n\\t\\t<td class=\"base-grid-item-cell\">01:00/ 11</td><td class=\"base-grid-item-cell\" align=\"right\"></td><td class=\"base-grid-item-cell\" align=\"right\"></td>\\r\\n\\t</tr><tr class=\"base-grid-item-alternate\">\\r\\n\\t\\t<td class=\"base-grid-item-cell\">02:00/ 11</td><td class=\"base-grid-item-cell\" align=\"right\">0.307</td><td class=\"base-grid-item-c'"
      ]
     },
     "execution_count": 3,
     "metadata": {},
     "output_type": "execute_result"
    }
   ],
   "source": [
    "# display an example of the page data\n",
    "page[3000:5000]"
   ]
  },
  {
   "cell_type": "markdown",
   "metadata": {},
   "source": [
    "The page contains a single table, easily identified with `<table> </table>` tags.  Each row of the table, within `<tr> <\\tr>` tags, represents a single record.  The 'BeautifulSoup' library is used to strip this information out. "
   ]
  },
  {
   "cell_type": "code",
   "execution_count": 4,
   "metadata": {},
   "outputs": [],
   "source": [
    "soup = BeautifulSoup(page, 'html.parser')\n",
    "DataTable = soup.find('table',)\n",
    "rows = DataTable.find_all('tr')"
   ]
  },
  {
   "cell_type": "code",
   "execution_count": 5,
   "metadata": {
    "scrolled": true
   },
   "outputs": [
    {
     "data": {
      "text/plain": [
       "[<tr>\n",
       " <td align=\"right\" class=\"base-grid-header-cell\"></td><td align=\"right\" class=\"base-grid-header-cell\">Quarry House<br/>Power<br/>Mean values  [kW]</td><td align=\"right\" class=\"base-grid-header-cell\">Quarry House<br/>Total yield<br/>Meter change  [kWh]</td>\n",
       " </tr>, <tr class=\"base-grid-item\">\n",
       " <td class=\"base-grid-item-cell\">01:00/ 11</td><td align=\"right\" class=\"base-grid-item-cell\"></td><td align=\"right\" class=\"base-grid-item-cell\"></td>\n",
       " </tr>, <tr class=\"base-grid-item-alternate\">\n",
       " <td class=\"base-grid-item-cell\">02:00/ 11</td><td align=\"right\" class=\"base-grid-item-cell\">0.307</td><td align=\"right\" class=\"base-grid-item-cell\">0.078</td>\n",
       " </tr>, <tr class=\"base-grid-item\">\n",
       " <td class=\"base-grid-item-cell\">03:00/ 11</td><td align=\"right\" class=\"base-grid-item-cell\">0.029</td><td align=\"right\" class=\"base-grid-item-cell\">0.001</td>\n",
       " </tr>, <tr class=\"base-grid-item-alternate\">\n",
       " <td class=\"base-grid-item-cell\">04:00/ 11</td><td align=\"right\" class=\"base-grid-item-cell\">0.000</td><td align=\"right\" class=\"base-grid-item-cell\">0.028</td>\n",
       " </tr>]"
      ]
     },
     "execution_count": 5,
     "metadata": {},
     "output_type": "execute_result"
    }
   ],
   "source": [
    "# display an example of row data\n",
    "rows[:5]"
   ]
  },
  {
   "cell_type": "markdown",
   "metadata": {},
   "source": [
    "The values within each of the rows can be retrieved"
   ]
  },
  {
   "cell_type": "code",
   "execution_count": 6,
   "metadata": {
    "scrolled": true
   },
   "outputs": [
    {
     "name": "stdout",
     "output_type": "stream",
     "text": [
      "01:00/ 11  \n",
      "02:00/ 11 0.307 0.078\n",
      "03:00/ 11 0.029 0.001\n",
      "04:00/ 11 0.000 0.028\n",
      "05:00/ 11  \n",
      "06:00/ 11  \n",
      "07:00/ 11 0.257 0.025\n",
      "08:00/ 11 0.308 0.511\n",
      "09:00/ 11 0.593 0.479\n"
     ]
    }
   ],
   "source": [
    "for row in rows[1:10]:\n",
    "  entry = row.find_all('td')\n",
    "  print(entry[0].text,entry[1].text, entry[2].text)"
   ]
  },
  {
   "cell_type": "markdown",
   "metadata": {},
   "source": [
    "**the text data needs to be converted to date and numeric types:**\n",
    "* The first column of date and time is in an unusual format consisting of the time followed by the day of month.  The date within the query string is required to provide the month and year fields.\n",
    "* some periods of inactivity result in missing values: these need to be converted to zero (of type float): '0.0'  "
   ]
  },
  {
   "cell_type": "code",
   "execution_count": 7,
   "metadata": {
    "scrolled": true
   },
   "outputs": [
    {
     "name": "stdout",
     "output_type": "stream",
     "text": [
      "2019-05-09\n"
     ]
    }
   ],
   "source": [
    "# this simple formula does not allow for date ranges that span the month begining/end\n",
    "#  e.g. when recDate is 2019-04-01 the previous date is 2019-03-31  \n",
    "print(datetime.date(recDate.year,recDate.month,int('09')))"
   ]
  },
  {
   "cell_type": "code",
   "execution_count": 8,
   "metadata": {},
   "outputs": [],
   "source": [
    "# function to convert 2 digit date (datestring)\n",
    "# to datetime based on supplied date (inputDate)\n",
    "# timedelta is used to ensure correct month is rendered.\n",
    "\n",
    "def datestamp(inputDate, datestring):\n",
    "    prevdate = inputDate - datetime.timedelta(days=1)\n",
    "    nextdate = inputDate + datetime.timedelta(days=1)\n",
    "    returndate = inputDate\n",
    "    \n",
    "    if (int(datestring)== prevdate.date().day): returndate=prevdate\n",
    "    if (int(datestring)== nextdate.date().day): returndate=nextdate\n",
    "    return returndate"
   ]
  },
  {
   "cell_type": "code",
   "execution_count": 9,
   "metadata": {},
   "outputs": [],
   "source": [
    "def datestamp_convert(inputDate, datestring):\n",
    "    day = datestring.text[7:9]\n",
    "    time = datestring.text[:5]\n",
    "    \n",
    "    return str(datestamp(inputDate, day).date())+' '+time"
   ]
  },
  {
   "cell_type": "code",
   "execution_count": 10,
   "metadata": {},
   "outputs": [],
   "source": [
    "# convert power readings to float and fill any gaps with 0.0 \n",
    "\n",
    "def textToFloat(string):\n",
    "    if (string):\n",
    "        return float(string)\n",
    "    else:\n",
    "        return 0.0"
   ]
  },
  {
   "cell_type": "code",
   "execution_count": 11,
   "metadata": {},
   "outputs": [],
   "source": [
    "data=[]\n",
    "\n",
    "for row in rows[1:]:\n",
    "  entry = row.find_all('td')\n",
    "  timestamp = datestamp_convert(recDate, entry[0])\n",
    "  data.append((timestamp, textToFloat(entry[1].text),textToFloat(entry[2].text)))"
   ]
  },
  {
   "cell_type": "code",
   "execution_count": 13,
   "metadata": {
    "scrolled": true
   },
   "outputs": [
    {
     "data": {
      "text/plain": [
       "[('2019-05-11 01:00', 0.0, 0.0),\n",
       " ('2019-05-11 02:00', 0.307, 0.078),\n",
       " ('2019-05-11 03:00', 0.029, 0.001),\n",
       " ('2019-05-11 04:00', 0.0, 0.028),\n",
       " ('2019-05-11 05:00', 0.0, 0.0),\n",
       " ('2019-05-11 06:00', 0.0, 0.0),\n",
       " ('2019-05-11 07:00', 0.257, 0.025),\n",
       " ('2019-05-11 08:00', 0.308, 0.511),\n",
       " ('2019-05-11 09:00', 0.593, 0.479),\n",
       " ('2019-05-11 10:00', 0.519, 0.578)]"
      ]
     },
     "execution_count": 13,
     "metadata": {},
     "output_type": "execute_result"
    }
   ],
   "source": [
    "# display example of resultant data\n",
    "data[:10]"
   ]
  },
  {
   "cell_type": "markdown",
   "metadata": {},
   "source": [
    "## Conclusion\n",
    "This data is now fully processed and can be analysed further or stored in a database, for example.\n",
    "\n",
    "By repeatedly calling the URL for different, sequential (2days) dates the required amount of data can be obtained. "
   ]
  }
 ],
 "metadata": {
  "kernelspec": {
   "display_name": "Python 3",
   "language": "python",
   "name": "python3"
  },
  "language_info": {
   "codemirror_mode": {
    "name": "ipython",
    "version": 3
   },
   "file_extension": ".py",
   "mimetype": "text/x-python",
   "name": "python",
   "nbconvert_exporter": "python",
   "pygments_lexer": "ipython3",
   "version": "3.7.3"
  }
 },
 "nbformat": 4,
 "nbformat_minor": 2
}
