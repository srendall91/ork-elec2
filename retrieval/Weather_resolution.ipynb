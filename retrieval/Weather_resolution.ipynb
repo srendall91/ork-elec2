{
 "cells": [
  {
   "cell_type": "markdown",
   "metadata": {},
   "source": [
    "# Investigate weather data resolution"
   ]
  },
  {
   "cell_type": "markdown",
   "metadata": {},
   "source": [
    "When drawing charts realative to the temperature readings using this dataset obtained from the VakerVader webservice, it is noticable that particular values dominate the dataset.  \n",
    "\n",
    "It can be seen that all reading that that occur on the hour x:00 are read to a precison of 0.1$^\\circ$C, whilst all others are read to a precision of 1$^\\circ$C.\n",
    "\n",
    "This suggests that these rounded temperature measurements have been obtained from a different datasource, or using an alternative method that inadvertently truncates the precision of the reading. The reason behind this has not been established nor the implications explored.\n",
    "\n",
    "This does not appear to be the case for the Windspeed readings "
   ]
  },
  {
   "cell_type": "code",
   "execution_count": 8,
   "metadata": {},
   "outputs": [],
   "source": [
    "# read the data file generated using the retrieved weather records from vakervader.se\n",
    "data <- read.csv(\"./database/vackerWeather.csv\", header=TRUE, sep=\",\", dec=\".\")"
   ]
  },
  {
   "cell_type": "code",
   "execution_count": 3,
   "metadata": {},
   "outputs": [
    {
     "data": {
      "text/html": [
       "<ol class=list-inline>\n",
       "\t<li>'X'</li>\n",
       "\t<li>'timestamp'</li>\n",
       "\t<li>'Temp'</li>\n",
       "\t<li>'Pressure'</li>\n",
       "\t<li>'WindSpeed'</li>\n",
       "\t<li>'Precipitation'</li>\n",
       "\t<li>'Humidity'</li>\n",
       "\t<li>'WindDirection'</li>\n",
       "\t<li>'Visibility'</li>\n",
       "\t<li>'CloudCover'</li>\n",
       "\t<li>'CloudHeight'</li>\n",
       "</ol>\n"
      ],
      "text/latex": [
       "\\begin{enumerate*}\n",
       "\\item 'X'\n",
       "\\item 'timestamp'\n",
       "\\item 'Temp'\n",
       "\\item 'Pressure'\n",
       "\\item 'WindSpeed'\n",
       "\\item 'Precipitation'\n",
       "\\item 'Humidity'\n",
       "\\item 'WindDirection'\n",
       "\\item 'Visibility'\n",
       "\\item 'CloudCover'\n",
       "\\item 'CloudHeight'\n",
       "\\end{enumerate*}\n"
      ],
      "text/markdown": [
       "1. 'X'\n",
       "2. 'timestamp'\n",
       "3. 'Temp'\n",
       "4. 'Pressure'\n",
       "5. 'WindSpeed'\n",
       "6. 'Precipitation'\n",
       "7. 'Humidity'\n",
       "8. 'WindDirection'\n",
       "9. 'Visibility'\n",
       "10. 'CloudCover'\n",
       "11. 'CloudHeight'\n",
       "\n",
       "\n"
      ],
      "text/plain": [
       " [1] \"X\"             \"timestamp\"     \"Temp\"          \"Pressure\"     \n",
       " [5] \"WindSpeed\"     \"Precipitation\" \"Humidity\"      \"WindDirection\"\n",
       " [9] \"Visibility\"    \"CloudCover\"    \"CloudHeight\"  "
      ]
     },
     "metadata": {},
     "output_type": "display_data"
    }
   ],
   "source": [
    "colnames(data)"
   ]
  },
  {
   "cell_type": "code",
   "execution_count": 49,
   "metadata": {},
   "outputs": [
    {
     "data": {
      "text/html": [
       "<table>\n",
       "<caption>A data.frame: 15 × 2</caption>\n",
       "<thead>\n",
       "\t<tr><th></th><th scope=col>x</th><th scope=col>freq</th></tr>\n",
       "\t<tr><th></th><th scope=col>&lt;dbl&gt;</th><th scope=col>&lt;int&gt;</th></tr>\n",
       "</thead>\n",
       "<tbody>\n",
       "\t<tr><th scope=row>1</th><td>-1.4</td><td> 2</td></tr>\n",
       "\t<tr><th scope=row>2</th><td>-1.2</td><td> 1</td></tr>\n",
       "\t<tr><th scope=row>3</th><td>-1.1</td><td> 1</td></tr>\n",
       "\t<tr><th scope=row>4</th><td>-1.0</td><td>23</td></tr>\n",
       "\t<tr><th scope=row>5</th><td>-0.9</td><td> 1</td></tr>\n",
       "\t<tr><th scope=row>6</th><td>-0.8</td><td> 1</td></tr>\n",
       "\t<tr><th scope=row>7</th><td>-0.7</td><td> 1</td></tr>\n",
       "\t<tr><th scope=row>8</th><td>-0.6</td><td> 4</td></tr>\n",
       "\t<tr><th scope=row>9</th><td>-0.5</td><td> 1</td></tr>\n",
       "\t<tr><th scope=row>10</th><td>-0.4</td><td> 1</td></tr>\n",
       "\t<tr><th scope=row>11</th><td>-0.3</td><td> 1</td></tr>\n",
       "\t<tr><th scope=row>12</th><td>-0.2</td><td> 3</td></tr>\n",
       "\t<tr><th scope=row>13</th><td>-0.1</td><td> 5</td></tr>\n",
       "\t<tr><th scope=row>14</th><td> 0.0</td><td>65</td></tr>\n",
       "\t<tr><th scope=row>15</th><td> 0.1</td><td> 5</td></tr>\n",
       "</tbody>\n",
       "</table>\n"
      ],
      "text/latex": [
       "A data.frame: 15 × 2\n",
       "\\begin{tabular}{r|ll}\n",
       "  & x & freq\\\\\n",
       "  & <dbl> & <int>\\\\\n",
       "\\hline\n",
       "\t1 & -1.4 &  2\\\\\n",
       "\t2 & -1.2 &  1\\\\\n",
       "\t3 & -1.1 &  1\\\\\n",
       "\t4 & -1.0 & 23\\\\\n",
       "\t5 & -0.9 &  1\\\\\n",
       "\t6 & -0.8 &  1\\\\\n",
       "\t7 & -0.7 &  1\\\\\n",
       "\t8 & -0.6 &  4\\\\\n",
       "\t9 & -0.5 &  1\\\\\n",
       "\t10 & -0.4 &  1\\\\\n",
       "\t11 & -0.3 &  1\\\\\n",
       "\t12 & -0.2 &  3\\\\\n",
       "\t13 & -0.1 &  5\\\\\n",
       "\t14 &  0.0 & 65\\\\\n",
       "\t15 &  0.1 &  5\\\\\n",
       "\\end{tabular}\n"
      ],
      "text/markdown": [
       "\n",
       "A data.frame: 15 × 2\n",
       "\n",
       "| <!--/--> | x &lt;dbl&gt; | freq &lt;int&gt; |\n",
       "|---|---|---|\n",
       "| 1 | -1.4 |  2 |\n",
       "| 2 | -1.2 |  1 |\n",
       "| 3 | -1.1 |  1 |\n",
       "| 4 | -1.0 | 23 |\n",
       "| 5 | -0.9 |  1 |\n",
       "| 6 | -0.8 |  1 |\n",
       "| 7 | -0.7 |  1 |\n",
       "| 8 | -0.6 |  4 |\n",
       "| 9 | -0.5 |  1 |\n",
       "| 10 | -0.4 |  1 |\n",
       "| 11 | -0.3 |  1 |\n",
       "| 12 | -0.2 |  3 |\n",
       "| 13 | -0.1 |  5 |\n",
       "| 14 |  0.0 | 65 |\n",
       "| 15 |  0.1 |  5 |\n",
       "\n"
      ],
      "text/plain": [
       "   x    freq\n",
       "1  -1.4  2  \n",
       "2  -1.2  1  \n",
       "3  -1.1  1  \n",
       "4  -1.0 23  \n",
       "5  -0.9  1  \n",
       "6  -0.8  1  \n",
       "7  -0.7  1  \n",
       "8  -0.6  4  \n",
       "9  -0.5  1  \n",
       "10 -0.4  1  \n",
       "11 -0.3  1  \n",
       "12 -0.2  3  \n",
       "13 -0.1  5  \n",
       "14  0.0 65  \n",
       "15  0.1  5  "
      ]
     },
     "metadata": {},
     "output_type": "display_data"
    }
   ],
   "source": [
    "#display the first few rows of a table showing \n",
    "# the number of records for each temperature value\n",
    "library(plyr)\n",
    "\n",
    "head(count(data$Temp), 15)"
   ]
  },
  {
   "cell_type": "markdown",
   "metadata": {},
   "source": [
    "It can be seen from the above table that the are considerably more readings for the unitary values  (x.0) than for the fractional values.\n",
    "\n",
    "Plotting as a histogram illustrates this also.  A number of regular tall peaks are present with much fewer values between them.   "
   ]
  },
  {
   "cell_type": "code",
   "execution_count": 15,
   "metadata": {},
   "outputs": [
    {
     "data": {
      "image/png": "[encoded data removed]",
      "text/plain": [
       "Plot with title “Histogram of all temperature readings”"
      ]
     },
     "metadata": {
      "image/png": {
       "height": 420,
       "width": 420
      },
      "text/plain": {
       "height": 420,
       "width": 420
      }
     },
     "output_type": "display_data"
    }
   ],
   "source": [
    "hist(data$Temp,200, main = \"Histogram of all temperature readings\", xlab = expression(paste(\"Temperature (\",degree,\"C)\")), ylab = \"Frequency\" )"
   ]
  },
  {
   "cell_type": "code",
   "execution_count": null,
   "metadata": {},
   "outputs": [],
   "source": []
  },
  {
   "cell_type": "code",
   "execution_count": 3,
   "metadata": {},
   "outputs": [
    {
     "data": {
      "text/html": [
       "4229"
      ],
      "text/latex": [
       "4229"
      ],
      "text/markdown": [
       "4229"
      ],
      "text/plain": [
       "[1] 4229"
      ]
     },
     "metadata": {},
     "output_type": "display_data"
    },
    {
     "data": {
      "text/html": [
       "<table>\n",
       "<caption>A data.frame: 12 × 3</caption>\n",
       "<thead>\n",
       "\t<tr><th></th><th scope=col>X</th><th scope=col>dt</th><th scope=col>Temp</th></tr>\n",
       "\t<tr><th></th><th scope=col>&lt;int&gt;</th><th scope=col>&lt;dttm&gt;</th><th scope=col>&lt;dbl&gt;</th></tr>\n",
       "</thead>\n",
       "<tbody>\n",
       "\t<tr><th scope=row>4</th><td> 3</td><td>2018-12-22 02:00:00</td><td>5.2</td></tr>\n",
       "\t<tr><th scope=row>6</th><td> 5</td><td>2018-12-22 03:00:00</td><td>4.6</td></tr>\n",
       "\t<tr><th scope=row>10</th><td> 9</td><td>2018-12-22 05:00:00</td><td>5.3</td></tr>\n",
       "\t<tr><th scope=row>15</th><td>14</td><td>2018-12-22 07:00:00</td><td>5.2</td></tr>\n",
       "\t<tr><th scope=row>20</th><td>19</td><td>2018-12-22 09:00:00</td><td>5.6</td></tr>\n",
       "\t<tr><th scope=row>22</th><td>21</td><td>2018-12-22 10:00:00</td><td>4.3</td></tr>\n",
       "\t<tr><th scope=row>28</th><td>27</td><td>2018-12-22 12:00:00</td><td>5.3</td></tr>\n",
       "\t<tr><th scope=row>30</th><td>29</td><td>2018-12-22 13:00:00</td><td>5.5</td></tr>\n",
       "\t<tr><th scope=row>33</th><td>32</td><td>2018-12-22 14:00:00</td><td>5.6</td></tr>\n",
       "\t<tr><th scope=row>35</th><td>34</td><td>2018-12-22 15:00:00</td><td>5.6</td></tr>\n",
       "\t<tr><th scope=row>38</th><td>37</td><td>2018-12-22 16:00:00</td><td>5.2</td></tr>\n",
       "\t<tr><th scope=row>40</th><td>39</td><td>2018-12-22 17:00:00</td><td>4.1</td></tr>\n",
       "</tbody>\n",
       "</table>\n"
      ],
      "text/latex": [
       "A data.frame: 12 × 3\n",
       "\\begin{tabular}{r|lll}\n",
       "  & X & dt & Temp\\\\\n",
       "  & <int> & <dttm> & <dbl>\\\\\n",
       "\\hline\n",
       "\t4 &  3 & 2018-12-22 02:00:00 & 5.2\\\\\n",
       "\t6 &  5 & 2018-12-22 03:00:00 & 4.6\\\\\n",
       "\t10 &  9 & 2018-12-22 05:00:00 & 5.3\\\\\n",
       "\t15 & 14 & 2018-12-22 07:00:00 & 5.2\\\\\n",
       "\t20 & 19 & 2018-12-22 09:00:00 & 5.6\\\\\n",
       "\t22 & 21 & 2018-12-22 10:00:00 & 4.3\\\\\n",
       "\t28 & 27 & 2018-12-22 12:00:00 & 5.3\\\\\n",
       "\t30 & 29 & 2018-12-22 13:00:00 & 5.5\\\\\n",
       "\t33 & 32 & 2018-12-22 14:00:00 & 5.6\\\\\n",
       "\t35 & 34 & 2018-12-22 15:00:00 & 5.6\\\\\n",
       "\t38 & 37 & 2018-12-22 16:00:00 & 5.2\\\\\n",
       "\t40 & 39 & 2018-12-22 17:00:00 & 4.1\\\\\n",
       "\\end{tabular}\n"
      ],
      "text/markdown": [
       "\n",
       "A data.frame: 12 × 3\n",
       "\n",
       "| <!--/--> | X &lt;int&gt; | dt &lt;dttm&gt; | Temp &lt;dbl&gt; |\n",
       "|---|---|---|---|\n",
       "| 4 |  3 | 2018-12-22 02:00:00 | 5.2 |\n",
       "| 6 |  5 | 2018-12-22 03:00:00 | 4.6 |\n",
       "| 10 |  9 | 2018-12-22 05:00:00 | 5.3 |\n",
       "| 15 | 14 | 2018-12-22 07:00:00 | 5.2 |\n",
       "| 20 | 19 | 2018-12-22 09:00:00 | 5.6 |\n",
       "| 22 | 21 | 2018-12-22 10:00:00 | 4.3 |\n",
       "| 28 | 27 | 2018-12-22 12:00:00 | 5.3 |\n",
       "| 30 | 29 | 2018-12-22 13:00:00 | 5.5 |\n",
       "| 33 | 32 | 2018-12-22 14:00:00 | 5.6 |\n",
       "| 35 | 34 | 2018-12-22 15:00:00 | 5.6 |\n",
       "| 38 | 37 | 2018-12-22 16:00:00 | 5.2 |\n",
       "| 40 | 39 | 2018-12-22 17:00:00 | 4.1 |\n",
       "\n"
      ],
      "text/plain": [
       "   X  dt                  Temp\n",
       "4   3 2018-12-22 02:00:00 5.2 \n",
       "6   5 2018-12-22 03:00:00 4.6 \n",
       "10  9 2018-12-22 05:00:00 5.3 \n",
       "15 14 2018-12-22 07:00:00 5.2 \n",
       "20 19 2018-12-22 09:00:00 5.6 \n",
       "22 21 2018-12-22 10:00:00 4.3 \n",
       "28 27 2018-12-22 12:00:00 5.3 \n",
       "30 29 2018-12-22 13:00:00 5.5 \n",
       "33 32 2018-12-22 14:00:00 5.6 \n",
       "35 34 2018-12-22 15:00:00 5.6 \n",
       "38 37 2018-12-22 16:00:00 5.2 \n",
       "40 39 2018-12-22 17:00:00 4.1 "
      ]
     },
     "metadata": {},
     "output_type": "display_data"
    }
   ],
   "source": [
    "# create a new column of type 'R' datetime converted from the unix timestamp of each row \n",
    "data$dt <- as.POSIXct(data$timestamp, origin=\"1970-01-01\") \n",
    "\n",
    "#data[(round(data$Temp))!=data$Temp]\n",
    "#head(subset(data, (round(data$Temp))!=data$Temp))\n",
    "nrow(data[data$Temp!=round(data$Temp),])\n",
    "head(data[data$Temp!=round(data$Temp), c(1,12,3)], 12)"
   ]
  },
  {
   "cell_type": "code",
   "execution_count": 6,
   "metadata": {},
   "outputs": [
    {
     "data": {
      "text/html": [
       "<table>\n",
       "<caption>A data.frame: 15 × 3</caption>\n",
       "<thead>\n",
       "\t<tr><th></th><th scope=col>X</th><th scope=col>dt</th><th scope=col>Temp</th></tr>\n",
       "\t<tr><th></th><th scope=col>&lt;int&gt;</th><th scope=col>&lt;dttm&gt;</th><th scope=col>&lt;dbl&gt;</th></tr>\n",
       "</thead>\n",
       "<tbody>\n",
       "\t<tr><th scope=row>1</th><td> 0</td><td>2018-12-22 00:20:00</td><td>4.0</td></tr>\n",
       "\t<tr><th scope=row>2</th><td> 1</td><td>2018-12-22 00:50:00</td><td>5.0</td></tr>\n",
       "\t<tr><th scope=row>3</th><td> 2</td><td>2018-12-22 01:20:00</td><td>5.0</td></tr>\n",
       "\t<tr><th scope=row>4</th><td> 3</td><td>2018-12-22 02:00:00</td><td>5.2</td></tr>\n",
       "\t<tr><th scope=row>5</th><td> 4</td><td>2018-12-22 02:20:00</td><td>5.0</td></tr>\n",
       "\t<tr><th scope=row>6</th><td> 5</td><td>2018-12-22 03:00:00</td><td>4.6</td></tr>\n",
       "\t<tr><th scope=row>7</th><td> 6</td><td>2018-12-22 03:20:00</td><td>5.0</td></tr>\n",
       "\t<tr><th scope=row>8</th><td> 7</td><td>2018-12-22 03:50:00</td><td>5.0</td></tr>\n",
       "\t<tr><th scope=row>9</th><td> 8</td><td>2018-12-22 04:20:00</td><td>4.0</td></tr>\n",
       "\t<tr><th scope=row>10</th><td> 9</td><td>2018-12-22 05:00:00</td><td>5.3</td></tr>\n",
       "\t<tr><th scope=row>11</th><td>10</td><td>2018-12-22 05:20:00</td><td>5.0</td></tr>\n",
       "\t<tr><th scope=row>12</th><td>11</td><td>2018-12-22 05:50:00</td><td>5.0</td></tr>\n",
       "\t<tr><th scope=row>13</th><td>12</td><td>2018-12-22 06:20:00</td><td>4.0</td></tr>\n",
       "\t<tr><th scope=row>14</th><td>13</td><td>2018-12-22 06:50:00</td><td>5.0</td></tr>\n",
       "\t<tr><th scope=row>15</th><td>14</td><td>2018-12-22 07:00:00</td><td>5.2</td></tr>\n",
       "</tbody>\n",
       "</table>\n"
      ],
      "text/latex": [
       "A data.frame: 15 × 3\n",
       "\\begin{tabular}{r|lll}\n",
       "  & X & dt & Temp\\\\\n",
       "  & <int> & <dttm> & <dbl>\\\\\n",
       "\\hline\n",
       "\t1 &  0 & 2018-12-22 00:20:00 & 4.0\\\\\n",
       "\t2 &  1 & 2018-12-22 00:50:00 & 5.0\\\\\n",
       "\t3 &  2 & 2018-12-22 01:20:00 & 5.0\\\\\n",
       "\t4 &  3 & 2018-12-22 02:00:00 & 5.2\\\\\n",
       "\t5 &  4 & 2018-12-22 02:20:00 & 5.0\\\\\n",
       "\t6 &  5 & 2018-12-22 03:00:00 & 4.6\\\\\n",
       "\t7 &  6 & 2018-12-22 03:20:00 & 5.0\\\\\n",
       "\t8 &  7 & 2018-12-22 03:50:00 & 5.0\\\\\n",
       "\t9 &  8 & 2018-12-22 04:20:00 & 4.0\\\\\n",
       "\t10 &  9 & 2018-12-22 05:00:00 & 5.3\\\\\n",
       "\t11 & 10 & 2018-12-22 05:20:00 & 5.0\\\\\n",
       "\t12 & 11 & 2018-12-22 05:50:00 & 5.0\\\\\n",
       "\t13 & 12 & 2018-12-22 06:20:00 & 4.0\\\\\n",
       "\t14 & 13 & 2018-12-22 06:50:00 & 5.0\\\\\n",
       "\t15 & 14 & 2018-12-22 07:00:00 & 5.2\\\\\n",
       "\\end{tabular}\n"
      ],
      "text/markdown": [
       "\n",
       "A data.frame: 15 × 3\n",
       "\n",
       "| <!--/--> | X &lt;int&gt; | dt &lt;dttm&gt; | Temp &lt;dbl&gt; |\n",
       "|---|---|---|---|\n",
       "| 1 |  0 | 2018-12-22 00:20:00 | 4.0 |\n",
       "| 2 |  1 | 2018-12-22 00:50:00 | 5.0 |\n",
       "| 3 |  2 | 2018-12-22 01:20:00 | 5.0 |\n",
       "| 4 |  3 | 2018-12-22 02:00:00 | 5.2 |\n",
       "| 5 |  4 | 2018-12-22 02:20:00 | 5.0 |\n",
       "| 6 |  5 | 2018-12-22 03:00:00 | 4.6 |\n",
       "| 7 |  6 | 2018-12-22 03:20:00 | 5.0 |\n",
       "| 8 |  7 | 2018-12-22 03:50:00 | 5.0 |\n",
       "| 9 |  8 | 2018-12-22 04:20:00 | 4.0 |\n",
       "| 10 |  9 | 2018-12-22 05:00:00 | 5.3 |\n",
       "| 11 | 10 | 2018-12-22 05:20:00 | 5.0 |\n",
       "| 12 | 11 | 2018-12-22 05:50:00 | 5.0 |\n",
       "| 13 | 12 | 2018-12-22 06:20:00 | 4.0 |\n",
       "| 14 | 13 | 2018-12-22 06:50:00 | 5.0 |\n",
       "| 15 | 14 | 2018-12-22 07:00:00 | 5.2 |\n",
       "\n"
      ],
      "text/plain": [
       "   X  dt                  Temp\n",
       "1   0 2018-12-22 00:20:00 4.0 \n",
       "2   1 2018-12-22 00:50:00 5.0 \n",
       "3   2 2018-12-22 01:20:00 5.0 \n",
       "4   3 2018-12-22 02:00:00 5.2 \n",
       "5   4 2018-12-22 02:20:00 5.0 \n",
       "6   5 2018-12-22 03:00:00 4.6 \n",
       "7   6 2018-12-22 03:20:00 5.0 \n",
       "8   7 2018-12-22 03:50:00 5.0 \n",
       "9   8 2018-12-22 04:20:00 4.0 \n",
       "10  9 2018-12-22 05:00:00 5.3 \n",
       "11 10 2018-12-22 05:20:00 5.0 \n",
       "12 11 2018-12-22 05:50:00 5.0 \n",
       "13 12 2018-12-22 06:20:00 4.0 \n",
       "14 13 2018-12-22 06:50:00 5.0 \n",
       "15 14 2018-12-22 07:00:00 5.2 "
      ]
     },
     "metadata": {},
     "output_type": "display_data"
    }
   ],
   "source": [
    "head(data[, c(1,12,3)],15)"
   ]
  },
  {
   "cell_type": "code",
   "execution_count": 12,
   "metadata": {},
   "outputs": [
    {
     "data": {
      "image/png": "[encoded data removed]",
      "text/plain": [
       "Plot with title “Histogram of fractional temperature readings”"
      ]
     },
     "metadata": {
      "image/png": {
       "height": 420,
       "width": 420
      },
      "text/plain": {
       "height": 420,
       "width": 420
      }
     },
     "output_type": "display_data"
    }
   ],
   "source": [
    "# histogram of fractional temperature values (x.1 - x.9)\n",
    "hist(subset(data$Temp, (round(data$Temp))!=data$Temp),200, main = \"Histogram of fractional temperature readings\", xlab = expression(paste(\"Temperature (\",degree,\"C)\")), ylab = \"Frequency\" )"
   ]
  },
  {
   "cell_type": "code",
   "execution_count": 51,
   "metadata": {},
   "outputs": [
    {
     "data": {
      "text/html": [
       "8892"
      ],
      "text/latex": [
       "8892"
      ],
      "text/markdown": [
       "8892"
      ],
      "text/plain": [
       "[1] 8892"
      ]
     },
     "metadata": {},
     "output_type": "display_data"
    },
    {
     "data": {
      "text/html": [
       "<table>\n",
       "<caption>A data.frame: 12 × 3</caption>\n",
       "<thead>\n",
       "\t<tr><th></th><th scope=col>X</th><th scope=col>dt</th><th scope=col>Temp</th></tr>\n",
       "\t<tr><th></th><th scope=col>&lt;int&gt;</th><th scope=col>&lt;dttm&gt;</th><th scope=col>&lt;dbl&gt;</th></tr>\n",
       "</thead>\n",
       "<tbody>\n",
       "\t<tr><th scope=row>1</th><td> 0</td><td>2018-12-22 00:20:00</td><td>4</td></tr>\n",
       "\t<tr><th scope=row>2</th><td> 1</td><td>2018-12-22 00:50:00</td><td>5</td></tr>\n",
       "\t<tr><th scope=row>3</th><td> 2</td><td>2018-12-22 01:20:00</td><td>5</td></tr>\n",
       "\t<tr><th scope=row>5</th><td> 4</td><td>2018-12-22 02:20:00</td><td>5</td></tr>\n",
       "\t<tr><th scope=row>7</th><td> 6</td><td>2018-12-22 03:20:00</td><td>5</td></tr>\n",
       "\t<tr><th scope=row>8</th><td> 7</td><td>2018-12-22 03:50:00</td><td>5</td></tr>\n",
       "\t<tr><th scope=row>9</th><td> 8</td><td>2018-12-22 04:20:00</td><td>4</td></tr>\n",
       "\t<tr><th scope=row>11</th><td>10</td><td>2018-12-22 05:20:00</td><td>5</td></tr>\n",
       "\t<tr><th scope=row>12</th><td>11</td><td>2018-12-22 05:50:00</td><td>5</td></tr>\n",
       "\t<tr><th scope=row>13</th><td>12</td><td>2018-12-22 06:20:00</td><td>4</td></tr>\n",
       "\t<tr><th scope=row>14</th><td>13</td><td>2018-12-22 06:50:00</td><td>5</td></tr>\n",
       "\t<tr><th scope=row>16</th><td>15</td><td>2018-12-22 07:20:00</td><td>5</td></tr>\n",
       "</tbody>\n",
       "</table>\n"
      ],
      "text/latex": [
       "A data.frame: 12 × 3\n",
       "\\begin{tabular}{r|lll}\n",
       "  & X & dt & Temp\\\\\n",
       "  & <int> & <dttm> & <dbl>\\\\\n",
       "\\hline\n",
       "\t1 &  0 & 2018-12-22 00:20:00 & 4\\\\\n",
       "\t2 &  1 & 2018-12-22 00:50:00 & 5\\\\\n",
       "\t3 &  2 & 2018-12-22 01:20:00 & 5\\\\\n",
       "\t5 &  4 & 2018-12-22 02:20:00 & 5\\\\\n",
       "\t7 &  6 & 2018-12-22 03:20:00 & 5\\\\\n",
       "\t8 &  7 & 2018-12-22 03:50:00 & 5\\\\\n",
       "\t9 &  8 & 2018-12-22 04:20:00 & 4\\\\\n",
       "\t11 & 10 & 2018-12-22 05:20:00 & 5\\\\\n",
       "\t12 & 11 & 2018-12-22 05:50:00 & 5\\\\\n",
       "\t13 & 12 & 2018-12-22 06:20:00 & 4\\\\\n",
       "\t14 & 13 & 2018-12-22 06:50:00 & 5\\\\\n",
       "\t16 & 15 & 2018-12-22 07:20:00 & 5\\\\\n",
       "\\end{tabular}\n"
      ],
      "text/markdown": [
       "\n",
       "A data.frame: 12 × 3\n",
       "\n",
       "| <!--/--> | X &lt;int&gt; | dt &lt;dttm&gt; | Temp &lt;dbl&gt; |\n",
       "|---|---|---|---|\n",
       "| 1 |  0 | 2018-12-22 00:20:00 | 4 |\n",
       "| 2 |  1 | 2018-12-22 00:50:00 | 5 |\n",
       "| 3 |  2 | 2018-12-22 01:20:00 | 5 |\n",
       "| 5 |  4 | 2018-12-22 02:20:00 | 5 |\n",
       "| 7 |  6 | 2018-12-22 03:20:00 | 5 |\n",
       "| 8 |  7 | 2018-12-22 03:50:00 | 5 |\n",
       "| 9 |  8 | 2018-12-22 04:20:00 | 4 |\n",
       "| 11 | 10 | 2018-12-22 05:20:00 | 5 |\n",
       "| 12 | 11 | 2018-12-22 05:50:00 | 5 |\n",
       "| 13 | 12 | 2018-12-22 06:20:00 | 4 |\n",
       "| 14 | 13 | 2018-12-22 06:50:00 | 5 |\n",
       "| 16 | 15 | 2018-12-22 07:20:00 | 5 |\n",
       "\n"
      ],
      "text/plain": [
       "   X  dt                  Temp\n",
       "1   0 2018-12-22 00:20:00 4   \n",
       "2   1 2018-12-22 00:50:00 5   \n",
       "3   2 2018-12-22 01:20:00 5   \n",
       "5   4 2018-12-22 02:20:00 5   \n",
       "7   6 2018-12-22 03:20:00 5   \n",
       "8   7 2018-12-22 03:50:00 5   \n",
       "9   8 2018-12-22 04:20:00 4   \n",
       "11 10 2018-12-22 05:20:00 5   \n",
       "12 11 2018-12-22 05:50:00 5   \n",
       "13 12 2018-12-22 06:20:00 4   \n",
       "14 13 2018-12-22 06:50:00 5   \n",
       "16 15 2018-12-22 07:20:00 5   "
      ]
     },
     "metadata": {},
     "output_type": "display_data"
    }
   ],
   "source": [
    "# head(subset(data, (round(data$Temp))==data$Temp), c(1, 12, 3))\n",
    "nrow(data[data$Temp==round(data$Temp),])\n",
    "head(data[data$Temp==round(data$Temp), c(1,12,3)], 12)"
   ]
  },
  {
   "cell_type": "code",
   "execution_count": 13,
   "metadata": {},
   "outputs": [
    {
     "data": {
      "image/png": "[encoded data removed]",
      "text/plain": [
       "Plot with title “Histogram of unitary temperature readings”"
      ]
     },
     "metadata": {
      "image/png": {
       "height": 420,
       "width": 420
      },
      "text/plain": {
       "height": 420,
       "width": 420
      }
     },
     "output_type": "display_data"
    }
   ],
   "source": [
    "# histogram of unitary temperature values (x.0)\n",
    "hist(subset(data$Temp, (round(data$Temp))==data$Temp),200, main = \"Histogram of unitary temperature readings\", xlab = expression(paste(\"Temperature (\",degree,\"C)\")), ylab = \"Frequency\" )"
   ]
  },
  {
   "cell_type": "markdown",
   "metadata": {},
   "source": [
    "The Windspeed values do not suffer from a similar problem to the Temperature values.\n",
    "\n",
    "The histogram below shows all windspeed values generally following a skewed distribution curve."
   ]
  },
  {
   "cell_type": "code",
   "execution_count": 14,
   "metadata": {},
   "outputs": [
    {
     "data": {
      "image/png": "[encoded data removed]",
      "text/plain": [
       "Plot with title “Histogram of windspeed readings”"
      ]
     },
     "metadata": {
      "image/png": {
       "height": 420,
       "width": 420
      },
      "text/plain": {
       "height": 420,
       "width": 420
      }
     },
     "output_type": "display_data"
    }
   ],
   "source": [
    "#histogram of windspeed values\n",
    "hist(data$WindSpeed,1000, main = \"Histogram of windspeed readings\", xlab = \"windspeed (ms-1)\", ylab = \"Frequency\" )"
   ]
  },
  {
   "cell_type": "code",
   "execution_count": 16,
   "metadata": {},
   "outputs": [
    {
     "data": {
      "image/png": "[encoded data removed]",
      "text/plain": [
       "Plot with title “Histogram of pressure readings”"
      ]
     },
     "metadata": {
      "image/png": {
       "height": 420,
       "width": 420
      },
      "text/plain": {
       "height": 420,
       "width": 420
      }
     },
     "output_type": "display_data"
    }
   ],
   "source": [
    "#histogram of pressure values\n",
    "hist(data$Pressure,1000, main = \"Histogram of pressure readings\", xlab = \"pressure (mbar)\", ylab = \"Frequency\" )"
   ]
  },
  {
   "cell_type": "code",
   "execution_count": 18,
   "metadata": {},
   "outputs": [
    {
     "data": {
      "image/png": "[encoded data removed]",
      "text/plain": [
       "Plot with title “Histogram of wind direction readings”"
      ]
     },
     "metadata": {
      "image/png": {
       "height": 420,
       "width": 420
      },
      "text/plain": {
       "height": 420,
       "width": 420
      }
     },
     "output_type": "display_data"
    }
   ],
   "source": [
    "#histogram of wind direction values\n",
    "hist(data$WindDirection,1000, main = \"Histogram of wind direction readings\", xlab = \"Direction (degrees)\", ylab = \"Frequency\" )"
   ]
  },
  {
   "cell_type": "code",
   "execution_count": null,
   "metadata": {},
   "outputs": [],
   "source": []
  }
 ],
 "metadata": {
  "kernelspec": {
   "display_name": "R",
   "language": "R",
   "name": "ir"
  },
  "language_info": {
   "codemirror_mode": "r",
   "file_extension": ".r",
   "mimetype": "text/x-r-source",
   "name": "R",
   "pygments_lexer": "r",
   "version": "3.6.3"
  }
 },
 "nbformat": 4,
 "nbformat_minor": 2
}
