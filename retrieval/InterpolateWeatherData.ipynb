{
 "cells": [
  {
   "cell_type": "markdown",
   "metadata": {},
   "source": [
    "# first look at Vacker weather data"
   ]
  },
  {
   "cell_type": "code",
   "execution_count": 8,
   "metadata": {},
   "outputs": [],
   "source": [
    "data <- read.csv(\"./database/vackerWeather.csv\", header=TRUE, sep=\",\", dec=\".\")"
   ]
  },
  {
   "cell_type": "code",
   "execution_count": 9,
   "metadata": {},
   "outputs": [
    {
     "data": {
      "text/html": [
       "<table>\n",
       "<caption>A data.frame: 6 × 11</caption>\n",
       "<thead>\n",
       "\t<tr><th scope=col>X</th><th scope=col>timestamp</th><th scope=col>Temp</th><th scope=col>Pressure</th><th scope=col>WindSpeed</th><th scope=col>Precipitation</th><th scope=col>Humidity</th><th scope=col>WindDirection</th><th scope=col>Visibility</th><th scope=col>CloudCover</th><th scope=col>CloudHeight</th></tr>\n",
       "\t<tr><th scope=col>&lt;int&gt;</th><th scope=col>&lt;int&gt;</th><th scope=col>&lt;dbl&gt;</th><th scope=col>&lt;dbl&gt;</th><th scope=col>&lt;dbl&gt;</th><th scope=col>&lt;dbl&gt;</th><th scope=col>&lt;dbl&gt;</th><th scope=col>&lt;dbl&gt;</th><th scope=col>&lt;dbl&gt;</th><th scope=col>&lt;dbl&gt;</th><th scope=col>&lt;dbl&gt;</th></tr>\n",
       "</thead>\n",
       "<tbody>\n",
       "\t<tr><td>0</td><td>1545438000</td><td>4.0</td><td>997.0</td><td>2.6</td><td>NA</td><td>100</td><td>230</td><td>10000</td><td> 0.0</td><td> NA</td></tr>\n",
       "\t<tr><td>1</td><td>1545439800</td><td>5.0</td><td>997.0</td><td>3.1</td><td>NA</td><td> 93</td><td>220</td><td>10000</td><td> 0.0</td><td> NA</td></tr>\n",
       "\t<tr><td>2</td><td>1545441600</td><td>5.0</td><td>997.0</td><td>3.6</td><td>NA</td><td> 93</td><td>230</td><td>10000</td><td> 0.0</td><td> NA</td></tr>\n",
       "\t<tr><td>3</td><td>1545444000</td><td>5.2</td><td>995.0</td><td>3.6</td><td>NA</td><td> 97</td><td>210</td><td>50000</td><td>25.0</td><td> NA</td></tr>\n",
       "\t<tr><td>4</td><td>1545445200</td><td>5.0</td><td>998.0</td><td>3.1</td><td>NA</td><td> 93</td><td>210</td><td>10000</td><td>75.0</td><td>975</td></tr>\n",
       "\t<tr><td>5</td><td>1545447600</td><td>4.6</td><td>995.6</td><td>3.1</td><td>NA</td><td> 97</td><td>200</td><td>50000</td><td>12.5</td><td> NA</td></tr>\n",
       "</tbody>\n",
       "</table>\n"
      ],
      "text/latex": [
       "A data.frame: 6 × 11\n",
       "\\begin{tabular}{r|lllllllllll}\n",
       " X & timestamp & Temp & Pressure & WindSpeed & Precipitation & Humidity & WindDirection & Visibility & CloudCover & CloudHeight\\\\\n",
       " <int> & <int> & <dbl> & <dbl> & <dbl> & <dbl> & <dbl> & <dbl> & <dbl> & <dbl> & <dbl>\\\\\n",
       "\\hline\n",
       "\t 0 & 1545438000 & 4.0 & 997.0 & 2.6 & NA & 100 & 230 & 10000 &  0.0 &  NA\\\\\n",
       "\t 1 & 1545439800 & 5.0 & 997.0 & 3.1 & NA &  93 & 220 & 10000 &  0.0 &  NA\\\\\n",
       "\t 2 & 1545441600 & 5.0 & 997.0 & 3.6 & NA &  93 & 230 & 10000 &  0.0 &  NA\\\\\n",
       "\t 3 & 1545444000 & 5.2 & 995.0 & 3.6 & NA &  97 & 210 & 50000 & 25.0 &  NA\\\\\n",
       "\t 4 & 1545445200 & 5.0 & 998.0 & 3.1 & NA &  93 & 210 & 10000 & 75.0 & 975\\\\\n",
       "\t 5 & 1545447600 & 4.6 & 995.6 & 3.1 & NA &  97 & 200 & 50000 & 12.5 &  NA\\\\\n",
       "\\end{tabular}\n"
      ],
      "text/markdown": [
       "\n",
       "A data.frame: 6 × 11\n",
       "\n",
       "| X &lt;int&gt; | timestamp &lt;int&gt; | Temp &lt;dbl&gt; | Pressure &lt;dbl&gt; | WindSpeed &lt;dbl&gt; | Precipitation &lt;dbl&gt; | Humidity &lt;dbl&gt; | WindDirection &lt;dbl&gt; | Visibility &lt;dbl&gt; | CloudCover &lt;dbl&gt; | CloudHeight &lt;dbl&gt; |\n",
       "|---|---|---|---|---|---|---|---|---|---|---|\n",
       "| 0 | 1545438000 | 4.0 | 997.0 | 2.6 | NA | 100 | 230 | 10000 |  0.0 |  NA |\n",
       "| 1 | 1545439800 | 5.0 | 997.0 | 3.1 | NA |  93 | 220 | 10000 |  0.0 |  NA |\n",
       "| 2 | 1545441600 | 5.0 | 997.0 | 3.6 | NA |  93 | 230 | 10000 |  0.0 |  NA |\n",
       "| 3 | 1545444000 | 5.2 | 995.0 | 3.6 | NA |  97 | 210 | 50000 | 25.0 |  NA |\n",
       "| 4 | 1545445200 | 5.0 | 998.0 | 3.1 | NA |  93 | 210 | 10000 | 75.0 | 975 |\n",
       "| 5 | 1545447600 | 4.6 | 995.6 | 3.1 | NA |  97 | 200 | 50000 | 12.5 |  NA |\n",
       "\n"
      ],
      "text/plain": [
       "  X timestamp  Temp Pressure WindSpeed Precipitation Humidity WindDirection\n",
       "1 0 1545438000 4.0  997.0    2.6       NA            100      230          \n",
       "2 1 1545439800 5.0  997.0    3.1       NA             93      220          \n",
       "3 2 1545441600 5.0  997.0    3.6       NA             93      230          \n",
       "4 3 1545444000 5.2  995.0    3.6       NA             97      210          \n",
       "5 4 1545445200 5.0  998.0    3.1       NA             93      210          \n",
       "6 5 1545447600 4.6  995.6    3.1       NA             97      200          \n",
       "  Visibility CloudCover CloudHeight\n",
       "1 10000       0.0        NA        \n",
       "2 10000       0.0        NA        \n",
       "3 10000       0.0        NA        \n",
       "4 50000      25.0        NA        \n",
       "5 10000      75.0       975        \n",
       "6 50000      12.5        NA        "
      ]
     },
     "metadata": {},
     "output_type": "display_data"
    }
   ],
   "source": [
    "head(data)"
   ]
  },
  {
   "cell_type": "code",
   "execution_count": 14,
   "metadata": {},
   "outputs": [],
   "source": [
    "data$dt <- as.POSIXct(data$timestamp, origin=\"1970-01-01\") "
   ]
  },
  {
   "cell_type": "code",
   "execution_count": 18,
   "metadata": {},
   "outputs": [
    {
     "data": {
      "text/plain": [
       "       X           timestamp              Temp           Pressure     \n",
       " Min.   :    0   Min.   :1.545e+09   Min.   :-1.400   Min.   : 958.7  \n",
       " 1st Qu.: 3280   1st Qu.:1.551e+09   1st Qu.: 6.000   1st Qu.:1002.0  \n",
       " Median : 6560   Median :1.556e+09   Median : 8.000   Median :1011.0  \n",
       " Mean   : 6560   Mean   :1.556e+09   Mean   : 8.276   Mean   :1010.3  \n",
       " 3rd Qu.: 9840   3rd Qu.:1.561e+09   3rd Qu.:11.000   3rd Qu.:1020.1  \n",
       " Max.   :13120   Max.   :1.573e+09   Max.   :22.800   Max.   :1044.0  \n",
       "                                                                      \n",
       "   WindSpeed      Precipitation      Humidity      WindDirection  \n",
       " Min.   : 0.000   Min.   :11.30   Min.   : 33.00   Min.   : 10.0  \n",
       " 1st Qu.: 3.600   1st Qu.:15.90   1st Qu.: 77.00   1st Qu.:140.0  \n",
       " Median : 5.700   Median :18.50   Median : 86.00   Median :200.0  \n",
       " Mean   : 6.066   Mean   :19.07   Mean   : 83.97   Mean   :202.2  \n",
       " 3rd Qu.: 8.200   3rd Qu.:21.60   3rd Qu.: 93.00   3rd Qu.:270.0  \n",
       " Max.   :22.600   Max.   :32.40   Max.   :100.00   Max.   :360.0  \n",
       " NA's   :40       NA's   :12777   NA's   :3        NA's   :392    \n",
       "   Visibility      CloudCover      CloudHeight         dt                     \n",
       " Min.   :   50   Min.   :  0.00   Min.   :   0   Min.   :2018-12-22 00:20:00  \n",
       " 1st Qu.:10000   1st Qu.: 12.50   1st Qu.: 426   1st Qu.:2019-02-19 06:20:00  \n",
       " Median :10000   Median : 50.00   Median : 762   Median :2019-04-18 22:00:00  \n",
       " Mean   :16572   Mean   : 51.57   Mean   : 748   Mean   :2019-04-24 14:31:02  \n",
       " 3rd Qu.:17000   3rd Qu.: 75.00   3rd Qu.:1066   3rd Qu.:2019-06-19 18:20:00  \n",
       " Max.   :70000   Max.   :100.00   Max.   :1493   Max.   :2019-11-09 21:50:00  \n",
       " NA's   :316     NA's   :448      NA's   :5979                                "
      ]
     },
     "metadata": {},
     "output_type": "display_data"
    }
   ],
   "source": [
    "summary(data)"
   ]
  },
  {
   "cell_type": "code",
   "execution_count": 30,
   "metadata": {},
   "outputs": [
    {
     "data": {
      "text/plain": [
       "  [1] \"2018-12-22 00:20:00 GMT\" \"2018-12-22 00:50:00 GMT\"\n",
       "  [3] \"2018-12-22 01:20:00 GMT\" \"2018-12-22 02:00:00 GMT\"\n",
       "  [5] \"2018-12-22 02:20:00 GMT\" \"2018-12-22 03:00:00 GMT\"\n",
       "  [7] \"2018-12-22 03:20:00 GMT\" \"2018-12-22 03:50:00 GMT\"\n",
       "  [9] \"2018-12-22 04:20:00 GMT\" \"2018-12-22 05:00:00 GMT\"\n",
       " [11] \"2018-12-22 05:20:00 GMT\" \"2018-12-22 05:50:00 GMT\"\n",
       " [13] \"2018-12-22 06:20:00 GMT\" \"2018-12-22 06:50:00 GMT\"\n",
       " [15] \"2018-12-22 07:00:00 GMT\" \"2018-12-22 07:20:00 GMT\"\n",
       " [17] \"2018-12-22 07:50:00 GMT\" \"2018-12-22 08:20:00 GMT\"\n",
       " [19] \"2018-12-22 08:50:00 GMT\" \"2018-12-22 09:00:00 GMT\"\n",
       " [21] \"2018-12-22 09:20:00 GMT\" \"2018-12-22 10:00:00 GMT\"\n",
       " [23] \"2018-12-22 10:20:00 GMT\" \"2018-12-22 10:50:00 GMT\"\n",
       " [25] \"2018-12-22 11:00:00 GMT\" \"2018-12-22 11:20:00 GMT\"\n",
       " [27] \"2018-12-22 11:50:00 GMT\" \"2018-12-22 12:00:00 GMT\"\n",
       " [29] \"2018-12-22 12:20:00 GMT\" \"2018-12-22 13:00:00 GMT\"\n",
       " [31] \"2018-12-22 13:20:00 GMT\" \"2018-12-22 13:50:00 GMT\"\n",
       " [33] \"2018-12-22 14:00:00 GMT\" \"2018-12-22 14:20:00 GMT\"\n",
       " [35] \"2018-12-22 15:00:00 GMT\" \"2018-12-22 15:20:00 GMT\"\n",
       " [37] \"2018-12-22 15:50:00 GMT\" \"2018-12-22 16:00:00 GMT\"\n",
       " [39] \"2018-12-22 16:20:00 GMT\" \"2018-12-22 17:00:00 GMT\"\n",
       " [41] \"2018-12-22 17:20:00 GMT\" \"2018-12-22 17:50:00 GMT\"\n",
       " [43] \"2018-12-22 18:20:00 GMT\" \"2018-12-22 18:50:00 GMT\"\n",
       " [45] \"2018-12-22 19:00:00 GMT\" \"2018-12-22 19:20:00 GMT\"\n",
       " [47] \"2018-12-22 19:50:00 GMT\" \"2018-12-22 20:00:00 GMT\"\n",
       " [49] \"2018-12-22 20:20:00 GMT\" \"2018-12-22 20:50:00 GMT\"\n",
       " [51] \"2018-12-22 21:00:00 GMT\" \"2018-12-22 21:20:00 GMT\"\n",
       " [53] \"2018-12-22 21:50:00 GMT\" \"2018-12-22 22:00:00 GMT\"\n",
       " [55] \"2018-12-22 22:20:00 GMT\" \"2018-12-22 22:50:00 GMT\"\n",
       " [57] \"2018-12-22 23:00:00 GMT\" \"2018-12-22 23:20:00 GMT\"\n",
       " [59] \"2018-12-23 00:20:00 GMT\" \"2018-12-23 01:00:00 GMT\"\n",
       " [61] \"2018-12-23 01:20:00 GMT\" \"2018-12-23 02:00:00 GMT\"\n",
       " [63] \"2018-12-23 02:20:00 GMT\" \"2018-12-23 02:50:00 GMT\"\n",
       " [65] \"2018-12-23 03:20:00 GMT\" \"2018-12-23 03:50:00 GMT\"\n",
       " [67] \"2018-12-23 04:00:00 GMT\" \"2018-12-23 04:20:00 GMT\"\n",
       " [69] \"2018-12-23 05:00:00 GMT\" \"2018-12-23 05:20:00 GMT\"\n",
       " [71] \"2018-12-23 05:50:00 GMT\" \"2018-12-23 06:00:00 GMT\"\n",
       " [73] \"2018-12-23 06:20:00 GMT\" \"2018-12-23 06:50:00 GMT\"\n",
       " [75] \"2018-12-23 07:00:00 GMT\" \"2018-12-23 07:20:00 GMT\"\n",
       " [77] \"2018-12-23 07:50:00 GMT\" \"2018-12-23 08:00:00 GMT\"\n",
       " [79] \"2018-12-23 08:20:00 GMT\" \"2018-12-23 08:50:00 GMT\"\n",
       " [81] \"2018-12-23 09:00:00 GMT\" \"2018-12-23 09:20:00 GMT\"\n",
       " [83] \"2018-12-23 09:50:00 GMT\" \"2018-12-23 10:00:00 GMT\"\n",
       " [85] \"2018-12-23 10:20:00 GMT\" \"2018-12-23 10:50:00 GMT\"\n",
       " [87] \"2018-12-23 11:00:00 GMT\" \"2018-12-23 11:20:00 GMT\"\n",
       " [89] \"2018-12-23 12:00:00 GMT\" \"2018-12-23 12:20:00 GMT\"\n",
       " [91] \"2018-12-23 13:00:00 GMT\" \"2018-12-23 13:20:00 GMT\"\n",
       " [93] \"2018-12-23 14:00:00 GMT\" \"2018-12-23 14:20:00 GMT\"\n",
       " [95] \"2018-12-23 14:50:00 GMT\" \"2018-12-23 15:00:00 GMT\"\n",
       " [97] \"2018-12-23 15:20:00 GMT\" \"2018-12-23 15:50:00 GMT\"\n",
       " [99] \"2018-12-23 16:00:00 GMT\" \"2018-12-23 16:20:00 GMT\""
      ]
     },
     "metadata": {},
     "output_type": "display_data"
    }
   ],
   "source": [
    "data[0:100,12]"
   ]
  },
  {
   "cell_type": "code",
   "execution_count": 35,
   "metadata": {},
   "outputs": [
    {
     "name": "stdout",
     "output_type": "stream",
     "text": [
      "package 'zoo' successfully unpacked and MD5 sums checked\n",
      "\n",
      "The downloaded binary packages are in\n",
      "\tC:\\Users\\Stuart\\AppData\\Local\\Temp\\RtmpOc93gg\\downloaded_packages\n"
     ]
    }
   ],
   "source": [
    "install.packages(\"zoo\", repos='http://cran.us.r-project.org')"
   ]
  },
  {
   "cell_type": "code",
   "execution_count": 43,
   "metadata": {},
   "outputs": [],
   "source": [
    "# https://stackoverflow.com/questions/33186316/linear-interpolate-missing-values-in-time-series\n",
    "\n",
    "library(dplyr)\n",
    "library(zoo)\n",
    "\n",
    "filleddata <- data.frame(dt = seq(data$dt[1], data$dt[nrow(data)], by = 600, ))\n",
    "filleddata <- full_join(filleddata, data, by = \"dt\")\n",
    "filleddata <- mutate(filleddata, approxWindSpeed = na.approx(WindSpeed))\n",
    "filleddata <- mutate(filleddata, approxPressure = na.approx(Pressure))\n",
    "filleddata <- mutate(filleddata, approxTemp = na.approx(Temp))\n",
    "filleddata <- mutate(filleddata, approxWindDirection = na.approx(WindDirection))\n"
   ]
  },
  {
   "cell_type": "code",
   "execution_count": 44,
   "metadata": {},
   "outputs": [
    {
     "data": {
      "text/html": [
       "<table>\n",
       "<caption>A data.frame: 24 × 16</caption>\n",
       "<thead>\n",
       "\t<tr><th scope=col>dt</th><th scope=col>X</th><th scope=col>timestamp</th><th scope=col>Temp</th><th scope=col>Pressure</th><th scope=col>WindSpeed</th><th scope=col>Precipitation</th><th scope=col>Humidity</th><th scope=col>WindDirection</th><th scope=col>Visibility</th><th scope=col>CloudCover</th><th scope=col>CloudHeight</th><th scope=col>approxWindSpeed</th><th scope=col>approxPressure</th><th scope=col>approxTemp</th><th scope=col>approxWindDirection</th></tr>\n",
       "\t<tr><th scope=col>&lt;dttm&gt;</th><th scope=col>&lt;int&gt;</th><th scope=col>&lt;int&gt;</th><th scope=col>&lt;dbl&gt;</th><th scope=col>&lt;dbl&gt;</th><th scope=col>&lt;dbl&gt;</th><th scope=col>&lt;dbl&gt;</th><th scope=col>&lt;dbl&gt;</th><th scope=col>&lt;dbl&gt;</th><th scope=col>&lt;dbl&gt;</th><th scope=col>&lt;dbl&gt;</th><th scope=col>&lt;dbl&gt;</th><th scope=col>&lt;dbl&gt;</th><th scope=col>&lt;dbl&gt;</th><th scope=col>&lt;dbl&gt;</th><th scope=col>&lt;dbl&gt;</th></tr>\n",
       "</thead>\n",
       "<tbody>\n",
       "\t<tr><td>2018-12-22 00:20:00</td><td> 0</td><td>1545438000</td><td>4.0</td><td>997.0</td><td>2.6</td><td>NA</td><td>100</td><td>230</td><td>10000</td><td> 0.0</td><td> NA</td><td>2.600000</td><td>997.0000</td><td>4.000000</td><td>230.0000</td></tr>\n",
       "\t<tr><td>2018-12-22 00:30:00</td><td>NA</td><td>        NA</td><td> NA</td><td>   NA</td><td> NA</td><td>NA</td><td> NA</td><td> NA</td><td>   NA</td><td>  NA</td><td> NA</td><td>2.766667</td><td>997.0000</td><td>4.333333</td><td>226.6667</td></tr>\n",
       "\t<tr><td>2018-12-22 00:40:00</td><td>NA</td><td>        NA</td><td> NA</td><td>   NA</td><td> NA</td><td>NA</td><td> NA</td><td> NA</td><td>   NA</td><td>  NA</td><td> NA</td><td>2.933333</td><td>997.0000</td><td>4.666667</td><td>223.3333</td></tr>\n",
       "\t<tr><td>2018-12-22 00:50:00</td><td> 1</td><td>1545439800</td><td>5.0</td><td>997.0</td><td>3.1</td><td>NA</td><td> 93</td><td>220</td><td>10000</td><td> 0.0</td><td> NA</td><td>3.100000</td><td>997.0000</td><td>5.000000</td><td>220.0000</td></tr>\n",
       "\t<tr><td>2018-12-22 01:00:00</td><td>NA</td><td>        NA</td><td> NA</td><td>   NA</td><td> NA</td><td>NA</td><td> NA</td><td> NA</td><td>   NA</td><td>  NA</td><td> NA</td><td>3.266667</td><td>997.0000</td><td>5.000000</td><td>223.3333</td></tr>\n",
       "\t<tr><td>2018-12-22 01:10:00</td><td>NA</td><td>        NA</td><td> NA</td><td>   NA</td><td> NA</td><td>NA</td><td> NA</td><td> NA</td><td>   NA</td><td>  NA</td><td> NA</td><td>3.433333</td><td>997.0000</td><td>5.000000</td><td>226.6667</td></tr>\n",
       "\t<tr><td>2018-12-22 01:20:00</td><td> 2</td><td>1545441600</td><td>5.0</td><td>997.0</td><td>3.6</td><td>NA</td><td> 93</td><td>230</td><td>10000</td><td> 0.0</td><td> NA</td><td>3.600000</td><td>997.0000</td><td>5.000000</td><td>230.0000</td></tr>\n",
       "\t<tr><td>2018-12-22 01:30:00</td><td>NA</td><td>        NA</td><td> NA</td><td>   NA</td><td> NA</td><td>NA</td><td> NA</td><td> NA</td><td>   NA</td><td>  NA</td><td> NA</td><td>3.600000</td><td>996.5000</td><td>5.050000</td><td>225.0000</td></tr>\n",
       "\t<tr><td>2018-12-22 01:40:00</td><td>NA</td><td>        NA</td><td> NA</td><td>   NA</td><td> NA</td><td>NA</td><td> NA</td><td> NA</td><td>   NA</td><td>  NA</td><td> NA</td><td>3.600000</td><td>996.0000</td><td>5.100000</td><td>220.0000</td></tr>\n",
       "\t<tr><td>2018-12-22 01:50:00</td><td>NA</td><td>        NA</td><td> NA</td><td>   NA</td><td> NA</td><td>NA</td><td> NA</td><td> NA</td><td>   NA</td><td>  NA</td><td> NA</td><td>3.600000</td><td>995.5000</td><td>5.150000</td><td>215.0000</td></tr>\n",
       "\t<tr><td>2018-12-22 02:00:00</td><td> 3</td><td>1545444000</td><td>5.2</td><td>995.0</td><td>3.6</td><td>NA</td><td> 97</td><td>210</td><td>50000</td><td>25.0</td><td> NA</td><td>3.600000</td><td>995.0000</td><td>5.200000</td><td>210.0000</td></tr>\n",
       "\t<tr><td>2018-12-22 02:10:00</td><td>NA</td><td>        NA</td><td> NA</td><td>   NA</td><td> NA</td><td>NA</td><td> NA</td><td> NA</td><td>   NA</td><td>  NA</td><td> NA</td><td>3.350000</td><td>996.5000</td><td>5.100000</td><td>210.0000</td></tr>\n",
       "\t<tr><td>2018-12-22 02:20:00</td><td> 4</td><td>1545445200</td><td>5.0</td><td>998.0</td><td>3.1</td><td>NA</td><td> 93</td><td>210</td><td>10000</td><td>75.0</td><td>975</td><td>3.100000</td><td>998.0000</td><td>5.000000</td><td>210.0000</td></tr>\n",
       "\t<tr><td>2018-12-22 02:30:00</td><td>NA</td><td>        NA</td><td> NA</td><td>   NA</td><td> NA</td><td>NA</td><td> NA</td><td> NA</td><td>   NA</td><td>  NA</td><td> NA</td><td>3.100000</td><td>997.4000</td><td>4.900000</td><td>207.5000</td></tr>\n",
       "\t<tr><td>2018-12-22 02:40:00</td><td>NA</td><td>        NA</td><td> NA</td><td>   NA</td><td> NA</td><td>NA</td><td> NA</td><td> NA</td><td>   NA</td><td>  NA</td><td> NA</td><td>3.100000</td><td>996.8000</td><td>4.800000</td><td>205.0000</td></tr>\n",
       "\t<tr><td>2018-12-22 02:50:00</td><td>NA</td><td>        NA</td><td> NA</td><td>   NA</td><td> NA</td><td>NA</td><td> NA</td><td> NA</td><td>   NA</td><td>  NA</td><td> NA</td><td>3.100000</td><td>996.2000</td><td>4.700000</td><td>202.5000</td></tr>\n",
       "\t<tr><td>2018-12-22 03:00:00</td><td> 5</td><td>1545447600</td><td>4.6</td><td>995.6</td><td>3.1</td><td>NA</td><td> 97</td><td>200</td><td>50000</td><td>12.5</td><td> NA</td><td>3.100000</td><td>995.6000</td><td>4.600000</td><td>200.0000</td></tr>\n",
       "\t<tr><td>2018-12-22 03:10:00</td><td>NA</td><td>        NA</td><td> NA</td><td>   NA</td><td> NA</td><td>NA</td><td> NA</td><td> NA</td><td>   NA</td><td>  NA</td><td> NA</td><td>2.600000</td><td>996.8000</td><td>4.800000</td><td>205.0000</td></tr>\n",
       "\t<tr><td>2018-12-22 03:20:00</td><td> 6</td><td>1545448800</td><td>5.0</td><td>998.0</td><td>2.1</td><td>NA</td><td> 93</td><td>210</td><td>10000</td><td> 0.0</td><td> NA</td><td>2.100000</td><td>998.0000</td><td>5.000000</td><td>210.0000</td></tr>\n",
       "\t<tr><td>2018-12-22 03:30:00</td><td>NA</td><td>        NA</td><td> NA</td><td>   NA</td><td> NA</td><td>NA</td><td> NA</td><td> NA</td><td>   NA</td><td>  NA</td><td> NA</td><td>2.266667</td><td>998.3333</td><td>5.000000</td><td>203.3333</td></tr>\n",
       "\t<tr><td>2018-12-22 03:40:00</td><td>NA</td><td>        NA</td><td> NA</td><td>   NA</td><td> NA</td><td>NA</td><td> NA</td><td> NA</td><td>   NA</td><td>  NA</td><td> NA</td><td>2.433333</td><td>998.6667</td><td>5.000000</td><td>196.6667</td></tr>\n",
       "\t<tr><td>2018-12-22 03:50:00</td><td> 7</td><td>1545450600</td><td>5.0</td><td>999.0</td><td>2.6</td><td>NA</td><td> 93</td><td>190</td><td>10000</td><td> 0.0</td><td> NA</td><td>2.600000</td><td>999.0000</td><td>5.000000</td><td>190.0000</td></tr>\n",
       "\t<tr><td>2018-12-22 04:00:00</td><td>NA</td><td>        NA</td><td> NA</td><td>   NA</td><td> NA</td><td>NA</td><td> NA</td><td> NA</td><td>   NA</td><td>  NA</td><td> NA</td><td>2.766667</td><td>999.0000</td><td>4.666667</td><td>193.3333</td></tr>\n",
       "\t<tr><td>2018-12-22 04:10:00</td><td>NA</td><td>        NA</td><td> NA</td><td>   NA</td><td> NA</td><td>NA</td><td> NA</td><td> NA</td><td>   NA</td><td>  NA</td><td> NA</td><td>2.933333</td><td>999.0000</td><td>4.333333</td><td>196.6667</td></tr>\n",
       "</tbody>\n",
       "</table>\n"
      ],
      "text/latex": [
       "A data.frame: 24 × 16\n",
       "\\begin{tabular}{r|llllllllllllllll}\n",
       " dt & X & timestamp & Temp & Pressure & WindSpeed & Precipitation & Humidity & WindDirection & Visibility & CloudCover & CloudHeight & approxWindSpeed & approxPressure & approxTemp & approxWindDirection\\\\\n",
       " <dttm> & <int> & <int> & <dbl> & <dbl> & <dbl> & <dbl> & <dbl> & <dbl> & <dbl> & <dbl> & <dbl> & <dbl> & <dbl> & <dbl> & <dbl>\\\\\n",
       "\\hline\n",
       "\t 2018-12-22 00:20:00 &  0 & 1545438000 & 4.0 & 997.0 & 2.6 & NA & 100 & 230 & 10000 &  0.0 &  NA & 2.600000 & 997.0000 & 4.000000 & 230.0000\\\\\n",
       "\t 2018-12-22 00:30:00 & NA &         NA &  NA &    NA &  NA & NA &  NA &  NA &    NA &   NA &  NA & 2.766667 & 997.0000 & 4.333333 & 226.6667\\\\\n",
       "\t 2018-12-22 00:40:00 & NA &         NA &  NA &    NA &  NA & NA &  NA &  NA &    NA &   NA &  NA & 2.933333 & 997.0000 & 4.666667 & 223.3333\\\\\n",
       "\t 2018-12-22 00:50:00 &  1 & 1545439800 & 5.0 & 997.0 & 3.1 & NA &  93 & 220 & 10000 &  0.0 &  NA & 3.100000 & 997.0000 & 5.000000 & 220.0000\\\\\n",
       "\t 2018-12-22 01:00:00 & NA &         NA &  NA &    NA &  NA & NA &  NA &  NA &    NA &   NA &  NA & 3.266667 & 997.0000 & 5.000000 & 223.3333\\\\\n",
       "\t 2018-12-22 01:10:00 & NA &         NA &  NA &    NA &  NA & NA &  NA &  NA &    NA &   NA &  NA & 3.433333 & 997.0000 & 5.000000 & 226.6667\\\\\n",
       "\t 2018-12-22 01:20:00 &  2 & 1545441600 & 5.0 & 997.0 & 3.6 & NA &  93 & 230 & 10000 &  0.0 &  NA & 3.600000 & 997.0000 & 5.000000 & 230.0000\\\\\n",
       "\t 2018-12-22 01:30:00 & NA &         NA &  NA &    NA &  NA & NA &  NA &  NA &    NA &   NA &  NA & 3.600000 & 996.5000 & 5.050000 & 225.0000\\\\\n",
       "\t 2018-12-22 01:40:00 & NA &         NA &  NA &    NA &  NA & NA &  NA &  NA &    NA &   NA &  NA & 3.600000 & 996.0000 & 5.100000 & 220.0000\\\\\n",
       "\t 2018-12-22 01:50:00 & NA &         NA &  NA &    NA &  NA & NA &  NA &  NA &    NA &   NA &  NA & 3.600000 & 995.5000 & 5.150000 & 215.0000\\\\\n",
       "\t 2018-12-22 02:00:00 &  3 & 1545444000 & 5.2 & 995.0 & 3.6 & NA &  97 & 210 & 50000 & 25.0 &  NA & 3.600000 & 995.0000 & 5.200000 & 210.0000\\\\\n",
       "\t 2018-12-22 02:10:00 & NA &         NA &  NA &    NA &  NA & NA &  NA &  NA &    NA &   NA &  NA & 3.350000 & 996.5000 & 5.100000 & 210.0000\\\\\n",
       "\t 2018-12-22 02:20:00 &  4 & 1545445200 & 5.0 & 998.0 & 3.1 & NA &  93 & 210 & 10000 & 75.0 & 975 & 3.100000 & 998.0000 & 5.000000 & 210.0000\\\\\n",
       "\t 2018-12-22 02:30:00 & NA &         NA &  NA &    NA &  NA & NA &  NA &  NA &    NA &   NA &  NA & 3.100000 & 997.4000 & 4.900000 & 207.5000\\\\\n",
       "\t 2018-12-22 02:40:00 & NA &         NA &  NA &    NA &  NA & NA &  NA &  NA &    NA &   NA &  NA & 3.100000 & 996.8000 & 4.800000 & 205.0000\\\\\n",
       "\t 2018-12-22 02:50:00 & NA &         NA &  NA &    NA &  NA & NA &  NA &  NA &    NA &   NA &  NA & 3.100000 & 996.2000 & 4.700000 & 202.5000\\\\\n",
       "\t 2018-12-22 03:00:00 &  5 & 1545447600 & 4.6 & 995.6 & 3.1 & NA &  97 & 200 & 50000 & 12.5 &  NA & 3.100000 & 995.6000 & 4.600000 & 200.0000\\\\\n",
       "\t 2018-12-22 03:10:00 & NA &         NA &  NA &    NA &  NA & NA &  NA &  NA &    NA &   NA &  NA & 2.600000 & 996.8000 & 4.800000 & 205.0000\\\\\n",
       "\t 2018-12-22 03:20:00 &  6 & 1545448800 & 5.0 & 998.0 & 2.1 & NA &  93 & 210 & 10000 &  0.0 &  NA & 2.100000 & 998.0000 & 5.000000 & 210.0000\\\\\n",
       "\t 2018-12-22 03:30:00 & NA &         NA &  NA &    NA &  NA & NA &  NA &  NA &    NA &   NA &  NA & 2.266667 & 998.3333 & 5.000000 & 203.3333\\\\\n",
       "\t 2018-12-22 03:40:00 & NA &         NA &  NA &    NA &  NA & NA &  NA &  NA &    NA &   NA &  NA & 2.433333 & 998.6667 & 5.000000 & 196.6667\\\\\n",
       "\t 2018-12-22 03:50:00 &  7 & 1545450600 & 5.0 & 999.0 & 2.6 & NA &  93 & 190 & 10000 &  0.0 &  NA & 2.600000 & 999.0000 & 5.000000 & 190.0000\\\\\n",
       "\t 2018-12-22 04:00:00 & NA &         NA &  NA &    NA &  NA & NA &  NA &  NA &    NA &   NA &  NA & 2.766667 & 999.0000 & 4.666667 & 193.3333\\\\\n",
       "\t 2018-12-22 04:10:00 & NA &         NA &  NA &    NA &  NA & NA &  NA &  NA &    NA &   NA &  NA & 2.933333 & 999.0000 & 4.333333 & 196.6667\\\\\n",
       "\\end{tabular}\n"
      ],
      "text/markdown": [
       "\n",
       "A data.frame: 24 × 16\n",
       "\n",
       "| dt &lt;dttm&gt; | X &lt;int&gt; | timestamp &lt;int&gt; | Temp &lt;dbl&gt; | Pressure &lt;dbl&gt; | WindSpeed &lt;dbl&gt; | Precipitation &lt;dbl&gt; | Humidity &lt;dbl&gt; | WindDirection &lt;dbl&gt; | Visibility &lt;dbl&gt; | CloudCover &lt;dbl&gt; | CloudHeight &lt;dbl&gt; | approxWindSpeed &lt;dbl&gt; | approxPressure &lt;dbl&gt; | approxTemp &lt;dbl&gt; | approxWindDirection &lt;dbl&gt; |\n",
       "|---|---|---|---|---|---|---|---|---|---|---|---|---|---|---|---|\n",
       "| 2018-12-22 00:20:00 |  0 | 1545438000 | 4.0 | 997.0 | 2.6 | NA | 100 | 230 | 10000 |  0.0 |  NA | 2.600000 | 997.0000 | 4.000000 | 230.0000 |\n",
       "| 2018-12-22 00:30:00 | NA |         NA |  NA |    NA |  NA | NA |  NA |  NA |    NA |   NA |  NA | 2.766667 | 997.0000 | 4.333333 | 226.6667 |\n",
       "| 2018-12-22 00:40:00 | NA |         NA |  NA |    NA |  NA | NA |  NA |  NA |    NA |   NA |  NA | 2.933333 | 997.0000 | 4.666667 | 223.3333 |\n",
       "| 2018-12-22 00:50:00 |  1 | 1545439800 | 5.0 | 997.0 | 3.1 | NA |  93 | 220 | 10000 |  0.0 |  NA | 3.100000 | 997.0000 | 5.000000 | 220.0000 |\n",
       "| 2018-12-22 01:00:00 | NA |         NA |  NA |    NA |  NA | NA |  NA |  NA |    NA |   NA |  NA | 3.266667 | 997.0000 | 5.000000 | 223.3333 |\n",
       "| 2018-12-22 01:10:00 | NA |         NA |  NA |    NA |  NA | NA |  NA |  NA |    NA |   NA |  NA | 3.433333 | 997.0000 | 5.000000 | 226.6667 |\n",
       "| 2018-12-22 01:20:00 |  2 | 1545441600 | 5.0 | 997.0 | 3.6 | NA |  93 | 230 | 10000 |  0.0 |  NA | 3.600000 | 997.0000 | 5.000000 | 230.0000 |\n",
       "| 2018-12-22 01:30:00 | NA |         NA |  NA |    NA |  NA | NA |  NA |  NA |    NA |   NA |  NA | 3.600000 | 996.5000 | 5.050000 | 225.0000 |\n",
       "| 2018-12-22 01:40:00 | NA |         NA |  NA |    NA |  NA | NA |  NA |  NA |    NA |   NA |  NA | 3.600000 | 996.0000 | 5.100000 | 220.0000 |\n",
       "| 2018-12-22 01:50:00 | NA |         NA |  NA |    NA |  NA | NA |  NA |  NA |    NA |   NA |  NA | 3.600000 | 995.5000 | 5.150000 | 215.0000 |\n",
       "| 2018-12-22 02:00:00 |  3 | 1545444000 | 5.2 | 995.0 | 3.6 | NA |  97 | 210 | 50000 | 25.0 |  NA | 3.600000 | 995.0000 | 5.200000 | 210.0000 |\n",
       "| 2018-12-22 02:10:00 | NA |         NA |  NA |    NA |  NA | NA |  NA |  NA |    NA |   NA |  NA | 3.350000 | 996.5000 | 5.100000 | 210.0000 |\n",
       "| 2018-12-22 02:20:00 |  4 | 1545445200 | 5.0 | 998.0 | 3.1 | NA |  93 | 210 | 10000 | 75.0 | 975 | 3.100000 | 998.0000 | 5.000000 | 210.0000 |\n",
       "| 2018-12-22 02:30:00 | NA |         NA |  NA |    NA |  NA | NA |  NA |  NA |    NA |   NA |  NA | 3.100000 | 997.4000 | 4.900000 | 207.5000 |\n",
       "| 2018-12-22 02:40:00 | NA |         NA |  NA |    NA |  NA | NA |  NA |  NA |    NA |   NA |  NA | 3.100000 | 996.8000 | 4.800000 | 205.0000 |\n",
       "| 2018-12-22 02:50:00 | NA |         NA |  NA |    NA |  NA | NA |  NA |  NA |    NA |   NA |  NA | 3.100000 | 996.2000 | 4.700000 | 202.5000 |\n",
       "| 2018-12-22 03:00:00 |  5 | 1545447600 | 4.6 | 995.6 | 3.1 | NA |  97 | 200 | 50000 | 12.5 |  NA | 3.100000 | 995.6000 | 4.600000 | 200.0000 |\n",
       "| 2018-12-22 03:10:00 | NA |         NA |  NA |    NA |  NA | NA |  NA |  NA |    NA |   NA |  NA | 2.600000 | 996.8000 | 4.800000 | 205.0000 |\n",
       "| 2018-12-22 03:20:00 |  6 | 1545448800 | 5.0 | 998.0 | 2.1 | NA |  93 | 210 | 10000 |  0.0 |  NA | 2.100000 | 998.0000 | 5.000000 | 210.0000 |\n",
       "| 2018-12-22 03:30:00 | NA |         NA |  NA |    NA |  NA | NA |  NA |  NA |    NA |   NA |  NA | 2.266667 | 998.3333 | 5.000000 | 203.3333 |\n",
       "| 2018-12-22 03:40:00 | NA |         NA |  NA |    NA |  NA | NA |  NA |  NA |    NA |   NA |  NA | 2.433333 | 998.6667 | 5.000000 | 196.6667 |\n",
       "| 2018-12-22 03:50:00 |  7 | 1545450600 | 5.0 | 999.0 | 2.6 | NA |  93 | 190 | 10000 |  0.0 |  NA | 2.600000 | 999.0000 | 5.000000 | 190.0000 |\n",
       "| 2018-12-22 04:00:00 | NA |         NA |  NA |    NA |  NA | NA |  NA |  NA |    NA |   NA |  NA | 2.766667 | 999.0000 | 4.666667 | 193.3333 |\n",
       "| 2018-12-22 04:10:00 | NA |         NA |  NA |    NA |  NA | NA |  NA |  NA |    NA |   NA |  NA | 2.933333 | 999.0000 | 4.333333 | 196.6667 |\n",
       "\n"
      ],
      "text/plain": [
       "   dt                  X  timestamp  Temp Pressure WindSpeed Precipitation\n",
       "1  2018-12-22 00:20:00  0 1545438000 4.0  997.0    2.6       NA           \n",
       "2  2018-12-22 00:30:00 NA         NA  NA     NA     NA       NA           \n",
       "3  2018-12-22 00:40:00 NA         NA  NA     NA     NA       NA           \n",
       "4  2018-12-22 00:50:00  1 1545439800 5.0  997.0    3.1       NA           \n",
       "5  2018-12-22 01:00:00 NA         NA  NA     NA     NA       NA           \n",
       "6  2018-12-22 01:10:00 NA         NA  NA     NA     NA       NA           \n",
       "7  2018-12-22 01:20:00  2 1545441600 5.0  997.0    3.6       NA           \n",
       "8  2018-12-22 01:30:00 NA         NA  NA     NA     NA       NA           \n",
       "9  2018-12-22 01:40:00 NA         NA  NA     NA     NA       NA           \n",
       "10 2018-12-22 01:50:00 NA         NA  NA     NA     NA       NA           \n",
       "11 2018-12-22 02:00:00  3 1545444000 5.2  995.0    3.6       NA           \n",
       "12 2018-12-22 02:10:00 NA         NA  NA     NA     NA       NA           \n",
       "13 2018-12-22 02:20:00  4 1545445200 5.0  998.0    3.1       NA           \n",
       "14 2018-12-22 02:30:00 NA         NA  NA     NA     NA       NA           \n",
       "15 2018-12-22 02:40:00 NA         NA  NA     NA     NA       NA           \n",
       "16 2018-12-22 02:50:00 NA         NA  NA     NA     NA       NA           \n",
       "17 2018-12-22 03:00:00  5 1545447600 4.6  995.6    3.1       NA           \n",
       "18 2018-12-22 03:10:00 NA         NA  NA     NA     NA       NA           \n",
       "19 2018-12-22 03:20:00  6 1545448800 5.0  998.0    2.1       NA           \n",
       "20 2018-12-22 03:30:00 NA         NA  NA     NA     NA       NA           \n",
       "21 2018-12-22 03:40:00 NA         NA  NA     NA     NA       NA           \n",
       "22 2018-12-22 03:50:00  7 1545450600 5.0  999.0    2.6       NA           \n",
       "23 2018-12-22 04:00:00 NA         NA  NA     NA     NA       NA           \n",
       "24 2018-12-22 04:10:00 NA         NA  NA     NA     NA       NA           \n",
       "   Humidity WindDirection Visibility CloudCover CloudHeight approxWindSpeed\n",
       "1  100      230           10000       0.0        NA         2.600000       \n",
       "2   NA       NA              NA        NA        NA         2.766667       \n",
       "3   NA       NA              NA        NA        NA         2.933333       \n",
       "4   93      220           10000       0.0        NA         3.100000       \n",
       "5   NA       NA              NA        NA        NA         3.266667       \n",
       "6   NA       NA              NA        NA        NA         3.433333       \n",
       "7   93      230           10000       0.0        NA         3.600000       \n",
       "8   NA       NA              NA        NA        NA         3.600000       \n",
       "9   NA       NA              NA        NA        NA         3.600000       \n",
       "10  NA       NA              NA        NA        NA         3.600000       \n",
       "11  97      210           50000      25.0        NA         3.600000       \n",
       "12  NA       NA              NA        NA        NA         3.350000       \n",
       "13  93      210           10000      75.0       975         3.100000       \n",
       "14  NA       NA              NA        NA        NA         3.100000       \n",
       "15  NA       NA              NA        NA        NA         3.100000       \n",
       "16  NA       NA              NA        NA        NA         3.100000       \n",
       "17  97      200           50000      12.5        NA         3.100000       \n",
       "18  NA       NA              NA        NA        NA         2.600000       \n",
       "19  93      210           10000       0.0        NA         2.100000       \n",
       "20  NA       NA              NA        NA        NA         2.266667       \n",
       "21  NA       NA              NA        NA        NA         2.433333       \n",
       "22  93      190           10000       0.0        NA         2.600000       \n",
       "23  NA       NA              NA        NA        NA         2.766667       \n",
       "24  NA       NA              NA        NA        NA         2.933333       \n",
       "   approxPressure approxTemp approxWindDirection\n",
       "1  997.0000       4.000000   230.0000           \n",
       "2  997.0000       4.333333   226.6667           \n",
       "3  997.0000       4.666667   223.3333           \n",
       "4  997.0000       5.000000   220.0000           \n",
       "5  997.0000       5.000000   223.3333           \n",
       "6  997.0000       5.000000   226.6667           \n",
       "7  997.0000       5.000000   230.0000           \n",
       "8  996.5000       5.050000   225.0000           \n",
       "9  996.0000       5.100000   220.0000           \n",
       "10 995.5000       5.150000   215.0000           \n",
       "11 995.0000       5.200000   210.0000           \n",
       "12 996.5000       5.100000   210.0000           \n",
       "13 998.0000       5.000000   210.0000           \n",
       "14 997.4000       4.900000   207.5000           \n",
       "15 996.8000       4.800000   205.0000           \n",
       "16 996.2000       4.700000   202.5000           \n",
       "17 995.6000       4.600000   200.0000           \n",
       "18 996.8000       4.800000   205.0000           \n",
       "19 998.0000       5.000000   210.0000           \n",
       "20 998.3333       5.000000   203.3333           \n",
       "21 998.6667       5.000000   196.6667           \n",
       "22 999.0000       5.000000   190.0000           \n",
       "23 999.0000       4.666667   193.3333           \n",
       "24 999.0000       4.333333   196.6667           "
      ]
     },
     "metadata": {},
     "output_type": "display_data"
    }
   ],
   "source": [
    "filleddata[1:24,]"
   ]
  },
  {
   "cell_type": "code",
   "execution_count": 54,
   "metadata": {},
   "outputs": [],
   "source": [
    "exportdata <- filleddata[,c(1,13,16,14,15)]"
   ]
  },
  {
   "cell_type": "code",
   "execution_count": 55,
   "metadata": {},
   "outputs": [
    {
     "data": {
      "text/html": [
       "<table>\n",
       "<caption>A data.frame: 6 × 5</caption>\n",
       "<thead>\n",
       "\t<tr><th scope=col>dt</th><th scope=col>approxWindSpeed</th><th scope=col>approxWindDirection</th><th scope=col>approxPressure</th><th scope=col>approxTemp</th></tr>\n",
       "\t<tr><th scope=col>&lt;dttm&gt;</th><th scope=col>&lt;dbl&gt;</th><th scope=col>&lt;dbl&gt;</th><th scope=col>&lt;dbl&gt;</th><th scope=col>&lt;dbl&gt;</th></tr>\n",
       "</thead>\n",
       "<tbody>\n",
       "\t<tr><td>2018-12-22 00:20:00</td><td>2.600000</td><td>230.0000</td><td>997</td><td>4.000000</td></tr>\n",
       "\t<tr><td>2018-12-22 00:30:00</td><td>2.766667</td><td>226.6667</td><td>997</td><td>4.333333</td></tr>\n",
       "\t<tr><td>2018-12-22 00:40:00</td><td>2.933333</td><td>223.3333</td><td>997</td><td>4.666667</td></tr>\n",
       "\t<tr><td>2018-12-22 00:50:00</td><td>3.100000</td><td>220.0000</td><td>997</td><td>5.000000</td></tr>\n",
       "\t<tr><td>2018-12-22 01:00:00</td><td>3.266667</td><td>223.3333</td><td>997</td><td>5.000000</td></tr>\n",
       "\t<tr><td>2018-12-22 01:10:00</td><td>3.433333</td><td>226.6667</td><td>997</td><td>5.000000</td></tr>\n",
       "</tbody>\n",
       "</table>\n"
      ],
      "text/latex": [
       "A data.frame: 6 × 5\n",
       "\\begin{tabular}{r|lllll}\n",
       " dt & approxWindSpeed & approxWindDirection & approxPressure & approxTemp\\\\\n",
       " <dttm> & <dbl> & <dbl> & <dbl> & <dbl>\\\\\n",
       "\\hline\n",
       "\t 2018-12-22 00:20:00 & 2.600000 & 230.0000 & 997 & 4.000000\\\\\n",
       "\t 2018-12-22 00:30:00 & 2.766667 & 226.6667 & 997 & 4.333333\\\\\n",
       "\t 2018-12-22 00:40:00 & 2.933333 & 223.3333 & 997 & 4.666667\\\\\n",
       "\t 2018-12-22 00:50:00 & 3.100000 & 220.0000 & 997 & 5.000000\\\\\n",
       "\t 2018-12-22 01:00:00 & 3.266667 & 223.3333 & 997 & 5.000000\\\\\n",
       "\t 2018-12-22 01:10:00 & 3.433333 & 226.6667 & 997 & 5.000000\\\\\n",
       "\\end{tabular}\n"
      ],
      "text/markdown": [
       "\n",
       "A data.frame: 6 × 5\n",
       "\n",
       "| dt &lt;dttm&gt; | approxWindSpeed &lt;dbl&gt; | approxWindDirection &lt;dbl&gt; | approxPressure &lt;dbl&gt; | approxTemp &lt;dbl&gt; |\n",
       "|---|---|---|---|---|\n",
       "| 2018-12-22 00:20:00 | 2.600000 | 230.0000 | 997 | 4.000000 |\n",
       "| 2018-12-22 00:30:00 | 2.766667 | 226.6667 | 997 | 4.333333 |\n",
       "| 2018-12-22 00:40:00 | 2.933333 | 223.3333 | 997 | 4.666667 |\n",
       "| 2018-12-22 00:50:00 | 3.100000 | 220.0000 | 997 | 5.000000 |\n",
       "| 2018-12-22 01:00:00 | 3.266667 | 223.3333 | 997 | 5.000000 |\n",
       "| 2018-12-22 01:10:00 | 3.433333 | 226.6667 | 997 | 5.000000 |\n",
       "\n"
      ],
      "text/plain": [
       "  dt                  approxWindSpeed approxWindDirection approxPressure\n",
       "1 2018-12-22 00:20:00 2.600000        230.0000            997           \n",
       "2 2018-12-22 00:30:00 2.766667        226.6667            997           \n",
       "3 2018-12-22 00:40:00 2.933333        223.3333            997           \n",
       "4 2018-12-22 00:50:00 3.100000        220.0000            997           \n",
       "5 2018-12-22 01:00:00 3.266667        223.3333            997           \n",
       "6 2018-12-22 01:10:00 3.433333        226.6667            997           \n",
       "  approxTemp\n",
       "1 4.000000  \n",
       "2 4.333333  \n",
       "3 4.666667  \n",
       "4 5.000000  \n",
       "5 5.000000  \n",
       "6 5.000000  "
      ]
     },
     "metadata": {},
     "output_type": "display_data"
    }
   ],
   "source": [
    "head(exportdata)"
   ]
  },
  {
   "cell_type": "code",
   "execution_count": 56,
   "metadata": {},
   "outputs": [],
   "source": [
    "write.csv(exportdata, './database/InterpolatedVackerWeather.csv')"
   ]
  }
 ],
 "metadata": {
  "kernelspec": {
   "display_name": "R",
   "language": "R",
   "name": "ir"
  },
  "language_info": {
   "codemirror_mode": "r",
   "file_extension": ".r",
   "mimetype": "text/x-r-source",
   "name": "R",
   "pygments_lexer": "r",
   "version": "3.5.2"
  }
 },
 "nbformat": 4,
 "nbformat_minor": 4
}
