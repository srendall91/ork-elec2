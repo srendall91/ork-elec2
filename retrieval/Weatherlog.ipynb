{
 "cells": [
  {
   "cell_type": "markdown",
   "metadata": {},
   "source": [
    "# Aquire and store historical weather data for Kirkwall Airport from WeatherHQ"
   ]
  },
  {
   "cell_type": "markdown",
   "metadata": {},
   "source": [
    "https://www.weatherhq.co.uk/weather-station/kirkwall-airport\n",
    "\n",
    "https://www.vackertvader.se/v%C3%A4derstation/kirkwall-airport\n",
    "\n",
    "http://archive.vackertvader.se/archive/epoch_observations?station_id=3017&start=1517734899000&end=1549275655000\n",
    "\n",
    "stationid kirkwall airport - 3017\n",
    "\n",
    "2999\t\n",
    "```\n",
    "0\t1549273800000 - timestamp*1000\n",
    "1\t4 - temperature degrees celcius\n",
    "2\tnull\n",
    "3\t1002 - pressure mbar\n",
    "4\t3.6 wind speed - m/s\n",
    "5\tnull\n",
    "6\t93 - humidity %\n",
    "7\t280 - winddirection degrees\n",
    "8\tnull\n",
    "9\t10000 - visibility m\n",
    "10\t37.5 - cloud cover %\n",
    "11\t1036 - cloud height m\n",
    "```"
   ]
  },
  {
   "cell_type": "code",
   "execution_count": 1,
   "metadata": {},
   "outputs": [
    {
     "data": {
      "text/plain": [
       "'2005-07-14T12:30:00'"
      ]
     },
     "execution_count": 1,
     "metadata": {},
     "output_type": "execute_result"
    }
   ],
   "source": [
    "from datetime import datetime, date, time\n",
    "t = datetime(2005, 7, 14, 12, 30)\n",
    "t.isoformat()"
   ]
  },
  {
   "cell_type": "code",
   "execution_count": 2,
   "metadata": {},
   "outputs": [
    {
     "name": "stdout",
     "output_type": "stream",
     "text": [
      "1572894133 2019-11-04 19:02:13.064409\n"
     ]
    }
   ],
   "source": [
    "from datetime import datetime\n",
    "import calendar\n",
    "\n",
    "d = datetime.utcnow()\n",
    "unixtime = calendar.timegm(d.utctimetuple())\n",
    "print (unixtime, d)"
   ]
  },
  {
   "cell_type": "code",
   "execution_count": 3,
   "metadata": {},
   "outputs": [
    {
     "name": "stdout",
     "output_type": "stream",
     "text": [
      "1547640000\n",
      "1572894133\n"
     ]
    }
   ],
   "source": [
    "def unixtime(d):\n",
    "    return calendar.timegm(d.utctimetuple())\n",
    "\n",
    "startdate = datetime(2019,1, 16, 12, 0)\n",
    "enddate = datetime.utcnow()\n",
    "print(unixtime(startdate))\n",
    "print(unixtime(enddate))"
   ]
  },
  {
   "cell_type": "code",
   "execution_count": 4,
   "metadata": {},
   "outputs": [
    {
     "name": "stdout",
     "output_type": "stream",
     "text": [
      "1547640000000\n"
     ]
    }
   ],
   "source": [
    "print(str(1000*unixtime(startdate)))"
   ]
  },
  {
   "cell_type": "code",
   "execution_count": null,
   "metadata": {},
   "outputs": [],
   "source": []
  },
  {
   "cell_type": "code",
   "execution_count": 5,
   "metadata": {},
   "outputs": [
    {
     "name": "stdout",
     "output_type": "stream",
     "text": [
      "http://archive.vackertvader.se/archive/epoch_observations?station_id=3017&start=1547640000000&end=1572894133000\n"
     ]
    }
   ],
   "source": [
    "print('http://archive.vackertvader.se/archive/epoch_observations?station_id=3017&start='+str(1000*unixtime(startdate))+'&end='+str(1000*unixtime(enddate)))"
   ]
  },
  {
   "cell_type": "code",
   "execution_count": 6,
   "metadata": {},
   "outputs": [
    {
     "name": "stdout",
     "output_type": "stream",
     "text": [
      "http://archive.vackertvader.se/archive/epoch_observations?station_id=3017&start=1547510399000&end=1572894133000\n"
     ]
    },
    {
     "ename": "HTTPError",
     "evalue": "HTTP Error 403: Forbidden",
     "output_type": "error",
     "traceback": [
      "\u001b[1;31m---------------------------------------------------------------------------\u001b[0m",
      "\u001b[1;31mHTTPError\u001b[0m                                 Traceback (most recent call last)",
      "\u001b[1;32m<ipython-input-6-b6af8e540375>\u001b[0m in \u001b[0;36m<module>\u001b[1;34m\u001b[0m\n\u001b[0;32m     13\u001b[0m \u001b[0mprint\u001b[0m\u001b[1;33m(\u001b[0m\u001b[0mURL\u001b[0m\u001b[1;33m)\u001b[0m\u001b[1;33m\u001b[0m\u001b[1;33m\u001b[0m\u001b[0m\n\u001b[0;32m     14\u001b[0m \u001b[1;33m\u001b[0m\u001b[0m\n\u001b[1;32m---> 15\u001b[1;33m \u001b[0murl\u001b[0m \u001b[1;33m=\u001b[0m \u001b[0murllib\u001b[0m\u001b[1;33m.\u001b[0m\u001b[0mrequest\u001b[0m\u001b[1;33m.\u001b[0m\u001b[0murlopen\u001b[0m\u001b[1;33m(\u001b[0m\u001b[0mURL\u001b[0m\u001b[1;33m)\u001b[0m\u001b[1;33m\u001b[0m\u001b[1;33m\u001b[0m\u001b[0m\n\u001b[0m\u001b[0;32m     16\u001b[0m \u001b[0mpage\u001b[0m \u001b[1;33m=\u001b[0m \u001b[0murl\u001b[0m\u001b[1;33m.\u001b[0m\u001b[0mread\u001b[0m\u001b[1;33m(\u001b[0m\u001b[1;33m)\u001b[0m\u001b[1;33m\u001b[0m\u001b[1;33m\u001b[0m\u001b[0m\n\u001b[0;32m     17\u001b[0m \u001b[1;31m#data = json.load(page)\u001b[0m\u001b[1;33m\u001b[0m\u001b[1;33m\u001b[0m\u001b[1;33m\u001b[0m\u001b[0m\n",
      "\u001b[1;32mc:\\users\\dad\\appdata\\local\\programs\\python\\python37-32\\lib\\urllib\\request.py\u001b[0m in \u001b[0;36murlopen\u001b[1;34m(url, data, timeout, cafile, capath, cadefault, context)\u001b[0m\n\u001b[0;32m    220\u001b[0m     \u001b[1;32melse\u001b[0m\u001b[1;33m:\u001b[0m\u001b[1;33m\u001b[0m\u001b[1;33m\u001b[0m\u001b[0m\n\u001b[0;32m    221\u001b[0m         \u001b[0mopener\u001b[0m \u001b[1;33m=\u001b[0m \u001b[0m_opener\u001b[0m\u001b[1;33m\u001b[0m\u001b[1;33m\u001b[0m\u001b[0m\n\u001b[1;32m--> 222\u001b[1;33m     \u001b[1;32mreturn\u001b[0m \u001b[0mopener\u001b[0m\u001b[1;33m.\u001b[0m\u001b[0mopen\u001b[0m\u001b[1;33m(\u001b[0m\u001b[0murl\u001b[0m\u001b[1;33m,\u001b[0m \u001b[0mdata\u001b[0m\u001b[1;33m,\u001b[0m \u001b[0mtimeout\u001b[0m\u001b[1;33m)\u001b[0m\u001b[1;33m\u001b[0m\u001b[1;33m\u001b[0m\u001b[0m\n\u001b[0m\u001b[0;32m    223\u001b[0m \u001b[1;33m\u001b[0m\u001b[0m\n\u001b[0;32m    224\u001b[0m \u001b[1;32mdef\u001b[0m \u001b[0minstall_opener\u001b[0m\u001b[1;33m(\u001b[0m\u001b[0mopener\u001b[0m\u001b[1;33m)\u001b[0m\u001b[1;33m:\u001b[0m\u001b[1;33m\u001b[0m\u001b[1;33m\u001b[0m\u001b[0m\n",
      "\u001b[1;32mc:\\users\\dad\\appdata\\local\\programs\\python\\python37-32\\lib\\urllib\\request.py\u001b[0m in \u001b[0;36mopen\u001b[1;34m(self, fullurl, data, timeout)\u001b[0m\n\u001b[0;32m    529\u001b[0m         \u001b[1;32mfor\u001b[0m \u001b[0mprocessor\u001b[0m \u001b[1;32min\u001b[0m \u001b[0mself\u001b[0m\u001b[1;33m.\u001b[0m\u001b[0mprocess_response\u001b[0m\u001b[1;33m.\u001b[0m\u001b[0mget\u001b[0m\u001b[1;33m(\u001b[0m\u001b[0mprotocol\u001b[0m\u001b[1;33m,\u001b[0m \u001b[1;33m[\u001b[0m\u001b[1;33m]\u001b[0m\u001b[1;33m)\u001b[0m\u001b[1;33m:\u001b[0m\u001b[1;33m\u001b[0m\u001b[1;33m\u001b[0m\u001b[0m\n\u001b[0;32m    530\u001b[0m             \u001b[0mmeth\u001b[0m \u001b[1;33m=\u001b[0m \u001b[0mgetattr\u001b[0m\u001b[1;33m(\u001b[0m\u001b[0mprocessor\u001b[0m\u001b[1;33m,\u001b[0m \u001b[0mmeth_name\u001b[0m\u001b[1;33m)\u001b[0m\u001b[1;33m\u001b[0m\u001b[1;33m\u001b[0m\u001b[0m\n\u001b[1;32m--> 531\u001b[1;33m             \u001b[0mresponse\u001b[0m \u001b[1;33m=\u001b[0m \u001b[0mmeth\u001b[0m\u001b[1;33m(\u001b[0m\u001b[0mreq\u001b[0m\u001b[1;33m,\u001b[0m \u001b[0mresponse\u001b[0m\u001b[1;33m)\u001b[0m\u001b[1;33m\u001b[0m\u001b[1;33m\u001b[0m\u001b[0m\n\u001b[0m\u001b[0;32m    532\u001b[0m \u001b[1;33m\u001b[0m\u001b[0m\n\u001b[0;32m    533\u001b[0m         \u001b[1;32mreturn\u001b[0m \u001b[0mresponse\u001b[0m\u001b[1;33m\u001b[0m\u001b[1;33m\u001b[0m\u001b[0m\n",
      "\u001b[1;32mc:\\users\\dad\\appdata\\local\\programs\\python\\python37-32\\lib\\urllib\\request.py\u001b[0m in \u001b[0;36mhttp_response\u001b[1;34m(self, request, response)\u001b[0m\n\u001b[0;32m    639\u001b[0m         \u001b[1;32mif\u001b[0m \u001b[1;32mnot\u001b[0m \u001b[1;33m(\u001b[0m\u001b[1;36m200\u001b[0m \u001b[1;33m<=\u001b[0m \u001b[0mcode\u001b[0m \u001b[1;33m<\u001b[0m \u001b[1;36m300\u001b[0m\u001b[1;33m)\u001b[0m\u001b[1;33m:\u001b[0m\u001b[1;33m\u001b[0m\u001b[1;33m\u001b[0m\u001b[0m\n\u001b[0;32m    640\u001b[0m             response = self.parent.error(\n\u001b[1;32m--> 641\u001b[1;33m                 'http', request, response, code, msg, hdrs)\n\u001b[0m\u001b[0;32m    642\u001b[0m \u001b[1;33m\u001b[0m\u001b[0m\n\u001b[0;32m    643\u001b[0m         \u001b[1;32mreturn\u001b[0m \u001b[0mresponse\u001b[0m\u001b[1;33m\u001b[0m\u001b[1;33m\u001b[0m\u001b[0m\n",
      "\u001b[1;32mc:\\users\\dad\\appdata\\local\\programs\\python\\python37-32\\lib\\urllib\\request.py\u001b[0m in \u001b[0;36merror\u001b[1;34m(self, proto, *args)\u001b[0m\n\u001b[0;32m    567\u001b[0m         \u001b[1;32mif\u001b[0m \u001b[0mhttp_err\u001b[0m\u001b[1;33m:\u001b[0m\u001b[1;33m\u001b[0m\u001b[1;33m\u001b[0m\u001b[0m\n\u001b[0;32m    568\u001b[0m             \u001b[0margs\u001b[0m \u001b[1;33m=\u001b[0m \u001b[1;33m(\u001b[0m\u001b[0mdict\u001b[0m\u001b[1;33m,\u001b[0m \u001b[1;34m'default'\u001b[0m\u001b[1;33m,\u001b[0m \u001b[1;34m'http_error_default'\u001b[0m\u001b[1;33m)\u001b[0m \u001b[1;33m+\u001b[0m \u001b[0morig_args\u001b[0m\u001b[1;33m\u001b[0m\u001b[1;33m\u001b[0m\u001b[0m\n\u001b[1;32m--> 569\u001b[1;33m             \u001b[1;32mreturn\u001b[0m \u001b[0mself\u001b[0m\u001b[1;33m.\u001b[0m\u001b[0m_call_chain\u001b[0m\u001b[1;33m(\u001b[0m\u001b[1;33m*\u001b[0m\u001b[0margs\u001b[0m\u001b[1;33m)\u001b[0m\u001b[1;33m\u001b[0m\u001b[1;33m\u001b[0m\u001b[0m\n\u001b[0m\u001b[0;32m    570\u001b[0m \u001b[1;33m\u001b[0m\u001b[0m\n\u001b[0;32m    571\u001b[0m \u001b[1;31m# XXX probably also want an abstract factory that knows when it makes\u001b[0m\u001b[1;33m\u001b[0m\u001b[1;33m\u001b[0m\u001b[1;33m\u001b[0m\u001b[0m\n",
      "\u001b[1;32mc:\\users\\dad\\appdata\\local\\programs\\python\\python37-32\\lib\\urllib\\request.py\u001b[0m in \u001b[0;36m_call_chain\u001b[1;34m(self, chain, kind, meth_name, *args)\u001b[0m\n\u001b[0;32m    501\u001b[0m         \u001b[1;32mfor\u001b[0m \u001b[0mhandler\u001b[0m \u001b[1;32min\u001b[0m \u001b[0mhandlers\u001b[0m\u001b[1;33m:\u001b[0m\u001b[1;33m\u001b[0m\u001b[1;33m\u001b[0m\u001b[0m\n\u001b[0;32m    502\u001b[0m             \u001b[0mfunc\u001b[0m \u001b[1;33m=\u001b[0m \u001b[0mgetattr\u001b[0m\u001b[1;33m(\u001b[0m\u001b[0mhandler\u001b[0m\u001b[1;33m,\u001b[0m \u001b[0mmeth_name\u001b[0m\u001b[1;33m)\u001b[0m\u001b[1;33m\u001b[0m\u001b[1;33m\u001b[0m\u001b[0m\n\u001b[1;32m--> 503\u001b[1;33m             \u001b[0mresult\u001b[0m \u001b[1;33m=\u001b[0m \u001b[0mfunc\u001b[0m\u001b[1;33m(\u001b[0m\u001b[1;33m*\u001b[0m\u001b[0margs\u001b[0m\u001b[1;33m)\u001b[0m\u001b[1;33m\u001b[0m\u001b[1;33m\u001b[0m\u001b[0m\n\u001b[0m\u001b[0;32m    504\u001b[0m             \u001b[1;32mif\u001b[0m \u001b[0mresult\u001b[0m \u001b[1;32mis\u001b[0m \u001b[1;32mnot\u001b[0m \u001b[1;32mNone\u001b[0m\u001b[1;33m:\u001b[0m\u001b[1;33m\u001b[0m\u001b[1;33m\u001b[0m\u001b[0m\n\u001b[0;32m    505\u001b[0m                 \u001b[1;32mreturn\u001b[0m \u001b[0mresult\u001b[0m\u001b[1;33m\u001b[0m\u001b[1;33m\u001b[0m\u001b[0m\n",
      "\u001b[1;32mc:\\users\\dad\\appdata\\local\\programs\\python\\python37-32\\lib\\urllib\\request.py\u001b[0m in \u001b[0;36mhttp_error_default\u001b[1;34m(self, req, fp, code, msg, hdrs)\u001b[0m\n\u001b[0;32m    647\u001b[0m \u001b[1;32mclass\u001b[0m \u001b[0mHTTPDefaultErrorHandler\u001b[0m\u001b[1;33m(\u001b[0m\u001b[0mBaseHandler\u001b[0m\u001b[1;33m)\u001b[0m\u001b[1;33m:\u001b[0m\u001b[1;33m\u001b[0m\u001b[1;33m\u001b[0m\u001b[0m\n\u001b[0;32m    648\u001b[0m     \u001b[1;32mdef\u001b[0m \u001b[0mhttp_error_default\u001b[0m\u001b[1;33m(\u001b[0m\u001b[0mself\u001b[0m\u001b[1;33m,\u001b[0m \u001b[0mreq\u001b[0m\u001b[1;33m,\u001b[0m \u001b[0mfp\u001b[0m\u001b[1;33m,\u001b[0m \u001b[0mcode\u001b[0m\u001b[1;33m,\u001b[0m \u001b[0mmsg\u001b[0m\u001b[1;33m,\u001b[0m \u001b[0mhdrs\u001b[0m\u001b[1;33m)\u001b[0m\u001b[1;33m:\u001b[0m\u001b[1;33m\u001b[0m\u001b[1;33m\u001b[0m\u001b[0m\n\u001b[1;32m--> 649\u001b[1;33m         \u001b[1;32mraise\u001b[0m \u001b[0mHTTPError\u001b[0m\u001b[1;33m(\u001b[0m\u001b[0mreq\u001b[0m\u001b[1;33m.\u001b[0m\u001b[0mfull_url\u001b[0m\u001b[1;33m,\u001b[0m \u001b[0mcode\u001b[0m\u001b[1;33m,\u001b[0m \u001b[0mmsg\u001b[0m\u001b[1;33m,\u001b[0m \u001b[0mhdrs\u001b[0m\u001b[1;33m,\u001b[0m \u001b[0mfp\u001b[0m\u001b[1;33m)\u001b[0m\u001b[1;33m\u001b[0m\u001b[1;33m\u001b[0m\u001b[0m\n\u001b[0m\u001b[0;32m    650\u001b[0m \u001b[1;33m\u001b[0m\u001b[0m\n\u001b[0;32m    651\u001b[0m \u001b[1;32mclass\u001b[0m \u001b[0mHTTPRedirectHandler\u001b[0m\u001b[1;33m(\u001b[0m\u001b[0mBaseHandler\u001b[0m\u001b[1;33m)\u001b[0m\u001b[1;33m:\u001b[0m\u001b[1;33m\u001b[0m\u001b[1;33m\u001b[0m\u001b[0m\n",
      "\u001b[1;31mHTTPError\u001b[0m: HTTP Error 403: Forbidden"
     ]
    }
   ],
   "source": [
    "#!/usr/bin/env python3\n",
    "# this retuen http erro 403forbidden \n",
    "# according to https://stackoverflow.com/questions/16627227/http-error-403-in-python-3-web-scraping\n",
    "# This is probably because of mod_security or some similar server security feature which blocks known spider/bot user agents (urllib uses something like python urllib/3.3.0, it's easily detected). Try setting a known browser user agent with:\n",
    "\n",
    "import urllib\n",
    "import json\n",
    "\n",
    "startdate =datetime(2019, 1, 14, 23, 59, 59)\n",
    "enddate =datetime.now()\n",
    "URL = 'http://archive.vackertvader.se/archive/epoch_observations?station_id=3017&start='+str(1000*unixtime(startdate))+'&end='+str(1000*unixtime(enddate))\n",
    "\n",
    "print(URL)\n",
    "\n",
    "url = urllib.request.urlopen(URL)\n",
    "page = url.read()\n",
    "#data = json.load(page)\n",
    "print(page)       \n",
    "#import urllib2\n",
    "#response = urllib2.urlopen('https://api.instagram.com/v1/tags/pizza/media/XXXXXX')\n",
    "#html=response.read()\n",
    "#print html"
   ]
  },
  {
   "cell_type": "code",
   "execution_count": 7,
   "metadata": {},
   "outputs": [],
   "source": [
    "from urllib.request import Request, urlopen\n",
    "\n",
    "req = Request('http://archive.vackertvader.se/archive/epoch_observations?station_id=3017&start='+str(1000*unixtime(startdate))+'&end='+str(1000*unixtime(enddate)), headers={'User-Agent': 'Mozilla/5.0'})\n",
    "webpage = urlopen(req).read()\n",
    "data = json.loads(webpage)"
   ]
  },
  {
   "cell_type": "markdown",
   "metadata": {},
   "source": [
    "data returned is not the range requested.  \n",
    "posiibly limited to 3000 records"
   ]
  },
  {
   "cell_type": "code",
   "execution_count": 68,
   "metadata": {},
   "outputs": [
    {
     "data": {
      "text/plain": [
       "[1561314000000, 12.0, None, 1024.0, 4.6, None, 93, 110, None, 1400, 100.0, 30]"
      ]
     },
     "execution_count": 68,
     "metadata": {},
     "output_type": "execute_result"
    }
   ],
   "source": [
    "data['data'][0]"
   ]
  },
  {
   "cell_type": "code",
   "execution_count": 72,
   "metadata": {},
   "outputs": [
    {
     "data": {
      "text/plain": [
       "[1572886800000, 8.0, None, 997.3, 8.7, None, 69, 50, None, 45000, 87.5, None]"
      ]
     },
     "execution_count": 72,
     "metadata": {},
     "output_type": "execute_result"
    }
   ],
   "source": [
    "data['data'][-1]"
   ]
  },
  {
   "cell_type": "code",
   "execution_count": 87,
   "metadata": {
    "scrolled": true
   },
   "outputs": [
    {
     "name": "stdout",
     "output_type": "stream",
     "text": [
      "from:  1546646399000 to:  1573758133000\n",
      "from:  2019-01-04 23:59:59 to:  2019-11-14 19:02:13\n",
      "range 313\n",
      "<class 'int'>\n",
      "from:  2019-06-23 19:20:00 to:  2019-11-04 17:00:00\n",
      "range 133\n"
     ]
    }
   ],
   "source": [
    "print ('from: ', data['from'], 'to: ',data['to'])\n",
    "print ('from: ', datetime.fromtimestamp(data['from']/1000, tz=None), 'to: ',datetime.fromtimestamp(data['to']/1000, tz=None))\n",
    "dt = datetime.fromtimestamp(data['to']/1000, tz=None)-datetime.fromtimestamp(data['from']/1000)\n",
    "print ('range', dt.days)\n",
    "\n",
    "returned_start= int(data['data'][0][0])//1000 \n",
    "returned_end= data['data'][-1][0]//1000 \n",
    "\n",
    "print(type(returned_end))\n",
    "print ('from: ', datetime.fromtimestamp(returned_start, tz=None), 'to: ',datetime.fromtimestamp(returned_end, tz=None))\n",
    "dt = datetime.fromtimestamp(returned_end, tz=None)-datetime.fromtimestamp(returned_start)\n",
    "print ('range', dt.days)\n"
   ]
  },
  {
   "cell_type": "code",
   "execution_count": 93,
   "metadata": {},
   "outputs": [],
   "source": [
    "startdate = datetime(2019,1, 16, 12, 0)\n",
    "enddate = datetime(2019,6,16,12,0)\n",
    "\n",
    "req = Request('http://archive.vackertvader.se/archive/epoch_observations?station_id=3017&start='+str(1000*unixtime(startdate))+'&end='+str(1000*unixtime(enddate)), headers={'User-Agent': 'Mozilla/5.0'})\n",
    "webpage = urlopen(req).read()\n",
    "data = json.loads(webpage)"
   ]
  },
  {
   "cell_type": "code",
   "execution_count": 94,
   "metadata": {
    "scrolled": true
   },
   "outputs": [
    {
     "name": "stdout",
     "output_type": "stream",
     "text": [
      "from:  1546776000000 to:  1561550400000\n",
      "from:  2019-01-06 12:00:00 to:  2019-06-26 13:00:00\n",
      "range 171\n",
      "<class 'int'>\n",
      "from:  2019-04-30 17:00:00 to:  2019-06-26 12:50:00\n",
      "range 56\n"
     ]
    }
   ],
   "source": [
    "print ('from: ', data['from'], 'to: ',data['to'])\n",
    "print ('from: ', datetime.fromtimestamp(data['from']/1000, tz=None), 'to: ',datetime.fromtimestamp(data['to']/1000, tz=None))\n",
    "dt = datetime.fromtimestamp(data['to']/1000, tz=None)-datetime.fromtimestamp(data['from']/1000)\n",
    "print ('range', dt.days)\n",
    "\n",
    "returned_start= int(data['data'][0][0])//1000 \n",
    "returned_end= data['data'][-1][0]//1000 \n",
    "\n",
    "print(type(returned_end))\n",
    "print ('from: ', datetime.fromtimestamp(returned_start, tz=None), 'to: ',datetime.fromtimestamp(returned_end, tz=None))\n",
    "dt = datetime.fromtimestamp(returned_end, tz=None)-datetime.fromtimestamp(returned_start)\n",
    "print ('range', dt.days)\n"
   ]
  },
  {
   "cell_type": "code",
   "execution_count": 99,
   "metadata": {},
   "outputs": [
    {
     "name": "stdout",
     "output_type": "stream",
     "text": [
      "<class 'list'>\n",
      "3000\n"
     ]
    }
   ],
   "source": [
    "print (type(data['data']))\n",
    "print (len(data['data']))"
   ]
  },
  {
   "cell_type": "code",
   "execution_count": null,
   "metadata": {},
   "outputs": [],
   "source": [
    "maximumm lentgh of records 3000\n"
   ]
  },
  {
   "cell_type": "code",
   "execution_count": 9,
   "metadata": {},
   "outputs": [],
   "source": [
    "import pandas as pd\n",
    "\n",
    "df = pd.DataFrame.from_records(data['data'])"
   ]
  },
  {
   "cell_type": "code",
   "execution_count": 49,
   "metadata": {},
   "outputs": [
    {
     "data": {
      "text/html": [
       "<div>\n",
       "<style scoped>\n",
       "    .dataframe tbody tr th:only-of-type {\n",
       "        vertical-align: middle;\n",
       "    }\n",
       "\n",
       "    .dataframe tbody tr th {\n",
       "        vertical-align: top;\n",
       "    }\n",
       "\n",
       "    .dataframe thead th {\n",
       "        text-align: right;\n",
       "    }\n",
       "</style>\n",
       "<table border=\"1\" class=\"dataframe\">\n",
       "  <thead>\n",
       "    <tr style=\"text-align: right;\">\n",
       "      <th></th>\n",
       "      <th>timestamp</th>\n",
       "      <th>Temp</th>\n",
       "      <th>Pressure</th>\n",
       "      <th>WindSpeed</th>\n",
       "      <th>Humidity</th>\n",
       "      <th>WindDirection</th>\n",
       "      <th>Visibility</th>\n",
       "      <th>CloudCover</th>\n",
       "      <th>CloudHeight</th>\n",
       "    </tr>\n",
       "  </thead>\n",
       "  <tbody>\n",
       "    <tr>\n",
       "      <th>0</th>\n",
       "      <td>1561314000</td>\n",
       "      <td>12.0</td>\n",
       "      <td>1024.0</td>\n",
       "      <td>4.6</td>\n",
       "      <td>93</td>\n",
       "      <td>110.0</td>\n",
       "      <td>1400.0</td>\n",
       "      <td>100.0</td>\n",
       "      <td>30.0</td>\n",
       "    </tr>\n",
       "    <tr>\n",
       "      <th>1</th>\n",
       "      <td>1561315800</td>\n",
       "      <td>12.0</td>\n",
       "      <td>1025.0</td>\n",
       "      <td>5.1</td>\n",
       "      <td>100</td>\n",
       "      <td>110.0</td>\n",
       "      <td>10000.0</td>\n",
       "      <td>75.0</td>\n",
       "      <td>61.0</td>\n",
       "    </tr>\n",
       "    <tr>\n",
       "      <th>2</th>\n",
       "      <td>1561316400</td>\n",
       "      <td>12.5</td>\n",
       "      <td>1021.6</td>\n",
       "      <td>5.7</td>\n",
       "      <td>92</td>\n",
       "      <td>100.0</td>\n",
       "      <td>18000.0</td>\n",
       "      <td>87.5</td>\n",
       "      <td>NaN</td>\n",
       "    </tr>\n",
       "    <tr>\n",
       "      <th>3</th>\n",
       "      <td>1561317600</td>\n",
       "      <td>13.0</td>\n",
       "      <td>1025.0</td>\n",
       "      <td>5.1</td>\n",
       "      <td>93</td>\n",
       "      <td>110.0</td>\n",
       "      <td>10000.0</td>\n",
       "      <td>100.0</td>\n",
       "      <td>152.0</td>\n",
       "    </tr>\n",
       "    <tr>\n",
       "      <th>4</th>\n",
       "      <td>1561320000</td>\n",
       "      <td>12.4</td>\n",
       "      <td>1021.9</td>\n",
       "      <td>4.6</td>\n",
       "      <td>92</td>\n",
       "      <td>100.0</td>\n",
       "      <td>15000.0</td>\n",
       "      <td>37.5</td>\n",
       "      <td>NaN</td>\n",
       "    </tr>\n",
       "  </tbody>\n",
       "</table>\n",
       "</div>"
      ],
      "text/plain": [
       "    timestamp  Temp  Pressure  WindSpeed  Humidity  WindDirection  Visibility  \\\n",
       "0  1561314000  12.0    1024.0        4.6        93          110.0      1400.0   \n",
       "1  1561315800  12.0    1025.0        5.1       100          110.0     10000.0   \n",
       "2  1561316400  12.5    1021.6        5.7        92          100.0     18000.0   \n",
       "3  1561317600  13.0    1025.0        5.1        93          110.0     10000.0   \n",
       "4  1561320000  12.4    1021.9        4.6        92          100.0     15000.0   \n",
       "\n",
       "   CloudCover  CloudHeight  \n",
       "0       100.0         30.0  \n",
       "1        75.0         61.0  \n",
       "2        87.5          NaN  \n",
       "3       100.0        152.0  \n",
       "4        37.5          NaN  "
      ]
     },
     "execution_count": 49,
     "metadata": {},
     "output_type": "execute_result"
    }
   ],
   "source": [
    "df.head()"
   ]
  },
  {
   "cell_type": "code",
   "execution_count": 48,
   "metadata": {},
   "outputs": [
    {
     "data": {
      "text/html": [
       "<div>\n",
       "<style scoped>\n",
       "    .dataframe tbody tr th:only-of-type {\n",
       "        vertical-align: middle;\n",
       "    }\n",
       "\n",
       "    .dataframe tbody tr th {\n",
       "        vertical-align: top;\n",
       "    }\n",
       "\n",
       "    .dataframe thead th {\n",
       "        text-align: right;\n",
       "    }\n",
       "</style>\n",
       "<table border=\"1\" class=\"dataframe\">\n",
       "  <thead>\n",
       "    <tr style=\"text-align: right;\">\n",
       "      <th></th>\n",
       "      <th>timestamp</th>\n",
       "      <th>Temp</th>\n",
       "      <th>Pressure</th>\n",
       "      <th>WindSpeed</th>\n",
       "      <th>Humidity</th>\n",
       "      <th>WindDirection</th>\n",
       "      <th>Visibility</th>\n",
       "      <th>CloudCover</th>\n",
       "      <th>CloudHeight</th>\n",
       "    </tr>\n",
       "  </thead>\n",
       "  <tbody>\n",
       "    <tr>\n",
       "      <th>2995</th>\n",
       "      <td>1572861600</td>\n",
       "      <td>8.1</td>\n",
       "      <td>993.1</td>\n",
       "      <td>NaN</td>\n",
       "      <td>92</td>\n",
       "      <td>NaN</td>\n",
       "      <td>23000.0</td>\n",
       "      <td>12.5</td>\n",
       "      <td>NaN</td>\n",
       "    </tr>\n",
       "    <tr>\n",
       "      <th>2996</th>\n",
       "      <td>1572865200</td>\n",
       "      <td>7.9</td>\n",
       "      <td>993.6</td>\n",
       "      <td>NaN</td>\n",
       "      <td>90</td>\n",
       "      <td>NaN</td>\n",
       "      <td>6000.0</td>\n",
       "      <td>75.0</td>\n",
       "      <td>NaN</td>\n",
       "    </tr>\n",
       "    <tr>\n",
       "      <th>2997</th>\n",
       "      <td>1572872400</td>\n",
       "      <td>8.7</td>\n",
       "      <td>994.8</td>\n",
       "      <td>NaN</td>\n",
       "      <td>78</td>\n",
       "      <td>NaN</td>\n",
       "      <td>45000.0</td>\n",
       "      <td>25.0</td>\n",
       "      <td>NaN</td>\n",
       "    </tr>\n",
       "    <tr>\n",
       "      <th>2998</th>\n",
       "      <td>1572883200</td>\n",
       "      <td>8.1</td>\n",
       "      <td>996.8</td>\n",
       "      <td>NaN</td>\n",
       "      <td>71</td>\n",
       "      <td>NaN</td>\n",
       "      <td>50000.0</td>\n",
       "      <td>75.0</td>\n",
       "      <td>NaN</td>\n",
       "    </tr>\n",
       "    <tr>\n",
       "      <th>2999</th>\n",
       "      <td>1572886800</td>\n",
       "      <td>8.0</td>\n",
       "      <td>997.3</td>\n",
       "      <td>8.7</td>\n",
       "      <td>69</td>\n",
       "      <td>50.0</td>\n",
       "      <td>45000.0</td>\n",
       "      <td>87.5</td>\n",
       "      <td>NaN</td>\n",
       "    </tr>\n",
       "  </tbody>\n",
       "</table>\n",
       "</div>"
      ],
      "text/plain": [
       "       timestamp  Temp  Pressure  WindSpeed  Humidity  WindDirection  \\\n",
       "2995  1572861600   8.1     993.1        NaN        92            NaN   \n",
       "2996  1572865200   7.9     993.6        NaN        90            NaN   \n",
       "2997  1572872400   8.7     994.8        NaN        78            NaN   \n",
       "2998  1572883200   8.1     996.8        NaN        71            NaN   \n",
       "2999  1572886800   8.0     997.3        8.7        69           50.0   \n",
       "\n",
       "      Visibility  CloudCover  CloudHeight  \n",
       "2995     23000.0        12.5          NaN  \n",
       "2996      6000.0        75.0          NaN  \n",
       "2997     45000.0        25.0          NaN  \n",
       "2998     50000.0        75.0          NaN  \n",
       "2999     45000.0        87.5          NaN  "
      ]
     },
     "execution_count": 48,
     "metadata": {},
     "output_type": "execute_result"
    }
   ],
   "source": [
    "df.tail()"
   ]
  },
  {
   "cell_type": "code",
   "execution_count": 11,
   "metadata": {},
   "outputs": [],
   "source": [
    "df.columns=['timestamp', 'Temp','na','Pressure','WindSpeed','na2','Humidity','WindDirection','na3','Visibility','CloudCover','CloudHeight']"
   ]
  },
  {
   "cell_type": "code",
   "execution_count": 12,
   "metadata": {},
   "outputs": [
    {
     "data": {
      "text/html": [
       "<div>\n",
       "<style scoped>\n",
       "    .dataframe tbody tr th:only-of-type {\n",
       "        vertical-align: middle;\n",
       "    }\n",
       "\n",
       "    .dataframe tbody tr th {\n",
       "        vertical-align: top;\n",
       "    }\n",
       "\n",
       "    .dataframe thead th {\n",
       "        text-align: right;\n",
       "    }\n",
       "</style>\n",
       "<table border=\"1\" class=\"dataframe\">\n",
       "  <thead>\n",
       "    <tr style=\"text-align: right;\">\n",
       "      <th></th>\n",
       "      <th>timestamp</th>\n",
       "      <th>Temp</th>\n",
       "      <th>na</th>\n",
       "      <th>Pressure</th>\n",
       "      <th>WindSpeed</th>\n",
       "      <th>na2</th>\n",
       "      <th>Humidity</th>\n",
       "      <th>WindDirection</th>\n",
       "      <th>na3</th>\n",
       "      <th>Visibility</th>\n",
       "      <th>CloudCover</th>\n",
       "      <th>CloudHeight</th>\n",
       "    </tr>\n",
       "  </thead>\n",
       "  <tbody>\n",
       "    <tr>\n",
       "      <th>0</th>\n",
       "      <td>1561314000000</td>\n",
       "      <td>12.0</td>\n",
       "      <td>None</td>\n",
       "      <td>1024.0</td>\n",
       "      <td>4.6</td>\n",
       "      <td>NaN</td>\n",
       "      <td>93</td>\n",
       "      <td>110.0</td>\n",
       "      <td>None</td>\n",
       "      <td>1400.0</td>\n",
       "      <td>100.0</td>\n",
       "      <td>30.0</td>\n",
       "    </tr>\n",
       "    <tr>\n",
       "      <th>1</th>\n",
       "      <td>1561315800000</td>\n",
       "      <td>12.0</td>\n",
       "      <td>None</td>\n",
       "      <td>1025.0</td>\n",
       "      <td>5.1</td>\n",
       "      <td>NaN</td>\n",
       "      <td>100</td>\n",
       "      <td>110.0</td>\n",
       "      <td>None</td>\n",
       "      <td>10000.0</td>\n",
       "      <td>75.0</td>\n",
       "      <td>61.0</td>\n",
       "    </tr>\n",
       "    <tr>\n",
       "      <th>2</th>\n",
       "      <td>1561316400000</td>\n",
       "      <td>12.5</td>\n",
       "      <td>None</td>\n",
       "      <td>1021.6</td>\n",
       "      <td>5.7</td>\n",
       "      <td>NaN</td>\n",
       "      <td>92</td>\n",
       "      <td>100.0</td>\n",
       "      <td>None</td>\n",
       "      <td>18000.0</td>\n",
       "      <td>87.5</td>\n",
       "      <td>NaN</td>\n",
       "    </tr>\n",
       "    <tr>\n",
       "      <th>3</th>\n",
       "      <td>1561317600000</td>\n",
       "      <td>13.0</td>\n",
       "      <td>None</td>\n",
       "      <td>1025.0</td>\n",
       "      <td>5.1</td>\n",
       "      <td>NaN</td>\n",
       "      <td>93</td>\n",
       "      <td>110.0</td>\n",
       "      <td>None</td>\n",
       "      <td>10000.0</td>\n",
       "      <td>100.0</td>\n",
       "      <td>152.0</td>\n",
       "    </tr>\n",
       "    <tr>\n",
       "      <th>4</th>\n",
       "      <td>1561320000000</td>\n",
       "      <td>12.4</td>\n",
       "      <td>None</td>\n",
       "      <td>1021.9</td>\n",
       "      <td>4.6</td>\n",
       "      <td>NaN</td>\n",
       "      <td>92</td>\n",
       "      <td>100.0</td>\n",
       "      <td>None</td>\n",
       "      <td>15000.0</td>\n",
       "      <td>37.5</td>\n",
       "      <td>NaN</td>\n",
       "    </tr>\n",
       "  </tbody>\n",
       "</table>\n",
       "</div>"
      ],
      "text/plain": [
       "       timestamp  Temp    na  Pressure  WindSpeed  na2  Humidity  \\\n",
       "0  1561314000000  12.0  None    1024.0        4.6  NaN        93   \n",
       "1  1561315800000  12.0  None    1025.0        5.1  NaN       100   \n",
       "2  1561316400000  12.5  None    1021.6        5.7  NaN        92   \n",
       "3  1561317600000  13.0  None    1025.0        5.1  NaN        93   \n",
       "4  1561320000000  12.4  None    1021.9        4.6  NaN        92   \n",
       "\n",
       "   WindDirection   na3  Visibility  CloudCover  CloudHeight  \n",
       "0          110.0  None      1400.0       100.0         30.0  \n",
       "1          110.0  None     10000.0        75.0         61.0  \n",
       "2          100.0  None     18000.0        87.5          NaN  \n",
       "3          110.0  None     10000.0       100.0        152.0  \n",
       "4          100.0  None     15000.0        37.5          NaN  "
      ]
     },
     "execution_count": 12,
     "metadata": {},
     "output_type": "execute_result"
    }
   ],
   "source": [
    "df.head()"
   ]
  },
  {
   "cell_type": "code",
   "execution_count": 13,
   "metadata": {},
   "outputs": [],
   "source": [
    "df = df.drop(['na','na2','na3'], 1)"
   ]
  },
  {
   "cell_type": "code",
   "execution_count": 14,
   "metadata": {},
   "outputs": [
    {
     "data": {
      "text/html": [
       "<div>\n",
       "<style scoped>\n",
       "    .dataframe tbody tr th:only-of-type {\n",
       "        vertical-align: middle;\n",
       "    }\n",
       "\n",
       "    .dataframe tbody tr th {\n",
       "        vertical-align: top;\n",
       "    }\n",
       "\n",
       "    .dataframe thead th {\n",
       "        text-align: right;\n",
       "    }\n",
       "</style>\n",
       "<table border=\"1\" class=\"dataframe\">\n",
       "  <thead>\n",
       "    <tr style=\"text-align: right;\">\n",
       "      <th></th>\n",
       "      <th>timestamp</th>\n",
       "      <th>Temp</th>\n",
       "      <th>Pressure</th>\n",
       "      <th>WindSpeed</th>\n",
       "      <th>Humidity</th>\n",
       "      <th>WindDirection</th>\n",
       "      <th>Visibility</th>\n",
       "      <th>CloudCover</th>\n",
       "      <th>CloudHeight</th>\n",
       "    </tr>\n",
       "  </thead>\n",
       "  <tbody>\n",
       "    <tr>\n",
       "      <th>0</th>\n",
       "      <td>1561314000000</td>\n",
       "      <td>12.0</td>\n",
       "      <td>1024.0</td>\n",
       "      <td>4.6</td>\n",
       "      <td>93</td>\n",
       "      <td>110.0</td>\n",
       "      <td>1400.0</td>\n",
       "      <td>100.0</td>\n",
       "      <td>30.0</td>\n",
       "    </tr>\n",
       "    <tr>\n",
       "      <th>1</th>\n",
       "      <td>1561315800000</td>\n",
       "      <td>12.0</td>\n",
       "      <td>1025.0</td>\n",
       "      <td>5.1</td>\n",
       "      <td>100</td>\n",
       "      <td>110.0</td>\n",
       "      <td>10000.0</td>\n",
       "      <td>75.0</td>\n",
       "      <td>61.0</td>\n",
       "    </tr>\n",
       "    <tr>\n",
       "      <th>2</th>\n",
       "      <td>1561316400000</td>\n",
       "      <td>12.5</td>\n",
       "      <td>1021.6</td>\n",
       "      <td>5.7</td>\n",
       "      <td>92</td>\n",
       "      <td>100.0</td>\n",
       "      <td>18000.0</td>\n",
       "      <td>87.5</td>\n",
       "      <td>NaN</td>\n",
       "    </tr>\n",
       "    <tr>\n",
       "      <th>3</th>\n",
       "      <td>1561317600000</td>\n",
       "      <td>13.0</td>\n",
       "      <td>1025.0</td>\n",
       "      <td>5.1</td>\n",
       "      <td>93</td>\n",
       "      <td>110.0</td>\n",
       "      <td>10000.0</td>\n",
       "      <td>100.0</td>\n",
       "      <td>152.0</td>\n",
       "    </tr>\n",
       "    <tr>\n",
       "      <th>4</th>\n",
       "      <td>1561320000000</td>\n",
       "      <td>12.4</td>\n",
       "      <td>1021.9</td>\n",
       "      <td>4.6</td>\n",
       "      <td>92</td>\n",
       "      <td>100.0</td>\n",
       "      <td>15000.0</td>\n",
       "      <td>37.5</td>\n",
       "      <td>NaN</td>\n",
       "    </tr>\n",
       "  </tbody>\n",
       "</table>\n",
       "</div>"
      ],
      "text/plain": [
       "       timestamp  Temp  Pressure  WindSpeed  Humidity  WindDirection  \\\n",
       "0  1561314000000  12.0    1024.0        4.6        93          110.0   \n",
       "1  1561315800000  12.0    1025.0        5.1       100          110.0   \n",
       "2  1561316400000  12.5    1021.6        5.7        92          100.0   \n",
       "3  1561317600000  13.0    1025.0        5.1        93          110.0   \n",
       "4  1561320000000  12.4    1021.9        4.6        92          100.0   \n",
       "\n",
       "   Visibility  CloudCover  CloudHeight  \n",
       "0      1400.0       100.0         30.0  \n",
       "1     10000.0        75.0         61.0  \n",
       "2     18000.0        87.5          NaN  \n",
       "3     10000.0       100.0        152.0  \n",
       "4     15000.0        37.5          NaN  "
      ]
     },
     "execution_count": 14,
     "metadata": {},
     "output_type": "execute_result"
    }
   ],
   "source": [
    "df.head()"
   ]
  },
  {
   "cell_type": "code",
   "execution_count": 15,
   "metadata": {},
   "outputs": [],
   "source": [
    "df.timestamp = df.timestamp//1000"
   ]
  },
  {
   "cell_type": "code",
   "execution_count": 16,
   "metadata": {},
   "outputs": [
    {
     "data": {
      "text/html": [
       "<div>\n",
       "<style scoped>\n",
       "    .dataframe tbody tr th:only-of-type {\n",
       "        vertical-align: middle;\n",
       "    }\n",
       "\n",
       "    .dataframe tbody tr th {\n",
       "        vertical-align: top;\n",
       "    }\n",
       "\n",
       "    .dataframe thead th {\n",
       "        text-align: right;\n",
       "    }\n",
       "</style>\n",
       "<table border=\"1\" class=\"dataframe\">\n",
       "  <thead>\n",
       "    <tr style=\"text-align: right;\">\n",
       "      <th></th>\n",
       "      <th>timestamp</th>\n",
       "      <th>Temp</th>\n",
       "      <th>Pressure</th>\n",
       "      <th>WindSpeed</th>\n",
       "      <th>Humidity</th>\n",
       "      <th>WindDirection</th>\n",
       "      <th>Visibility</th>\n",
       "      <th>CloudCover</th>\n",
       "      <th>CloudHeight</th>\n",
       "    </tr>\n",
       "  </thead>\n",
       "  <tbody>\n",
       "    <tr>\n",
       "      <th>0</th>\n",
       "      <td>1561314000</td>\n",
       "      <td>12.0</td>\n",
       "      <td>1024.0</td>\n",
       "      <td>4.6</td>\n",
       "      <td>93</td>\n",
       "      <td>110.0</td>\n",
       "      <td>1400.0</td>\n",
       "      <td>100.0</td>\n",
       "      <td>30.0</td>\n",
       "    </tr>\n",
       "    <tr>\n",
       "      <th>1</th>\n",
       "      <td>1561315800</td>\n",
       "      <td>12.0</td>\n",
       "      <td>1025.0</td>\n",
       "      <td>5.1</td>\n",
       "      <td>100</td>\n",
       "      <td>110.0</td>\n",
       "      <td>10000.0</td>\n",
       "      <td>75.0</td>\n",
       "      <td>61.0</td>\n",
       "    </tr>\n",
       "    <tr>\n",
       "      <th>2</th>\n",
       "      <td>1561316400</td>\n",
       "      <td>12.5</td>\n",
       "      <td>1021.6</td>\n",
       "      <td>5.7</td>\n",
       "      <td>92</td>\n",
       "      <td>100.0</td>\n",
       "      <td>18000.0</td>\n",
       "      <td>87.5</td>\n",
       "      <td>NaN</td>\n",
       "    </tr>\n",
       "    <tr>\n",
       "      <th>3</th>\n",
       "      <td>1561317600</td>\n",
       "      <td>13.0</td>\n",
       "      <td>1025.0</td>\n",
       "      <td>5.1</td>\n",
       "      <td>93</td>\n",
       "      <td>110.0</td>\n",
       "      <td>10000.0</td>\n",
       "      <td>100.0</td>\n",
       "      <td>152.0</td>\n",
       "    </tr>\n",
       "    <tr>\n",
       "      <th>4</th>\n",
       "      <td>1561320000</td>\n",
       "      <td>12.4</td>\n",
       "      <td>1021.9</td>\n",
       "      <td>4.6</td>\n",
       "      <td>92</td>\n",
       "      <td>100.0</td>\n",
       "      <td>15000.0</td>\n",
       "      <td>37.5</td>\n",
       "      <td>NaN</td>\n",
       "    </tr>\n",
       "  </tbody>\n",
       "</table>\n",
       "</div>"
      ],
      "text/plain": [
       "    timestamp  Temp  Pressure  WindSpeed  Humidity  WindDirection  Visibility  \\\n",
       "0  1561314000  12.0    1024.0        4.6        93          110.0      1400.0   \n",
       "1  1561315800  12.0    1025.0        5.1       100          110.0     10000.0   \n",
       "2  1561316400  12.5    1021.6        5.7        92          100.0     18000.0   \n",
       "3  1561317600  13.0    1025.0        5.1        93          110.0     10000.0   \n",
       "4  1561320000  12.4    1021.9        4.6        92          100.0     15000.0   \n",
       "\n",
       "   CloudCover  CloudHeight  \n",
       "0       100.0         30.0  \n",
       "1        75.0         61.0  \n",
       "2        87.5          NaN  \n",
       "3       100.0        152.0  \n",
       "4        37.5          NaN  "
      ]
     },
     "execution_count": 16,
     "metadata": {},
     "output_type": "execute_result"
    }
   ],
   "source": [
    "df.head()"
   ]
  },
  {
   "cell_type": "code",
   "execution_count": 28,
   "metadata": {},
   "outputs": [
    {
     "data": {
      "text/html": [
       "<div>\n",
       "<style scoped>\n",
       "    .dataframe tbody tr th:only-of-type {\n",
       "        vertical-align: middle;\n",
       "    }\n",
       "\n",
       "    .dataframe tbody tr th {\n",
       "        vertical-align: top;\n",
       "    }\n",
       "\n",
       "    .dataframe thead th {\n",
       "        text-align: right;\n",
       "    }\n",
       "</style>\n",
       "<table border=\"1\" class=\"dataframe\">\n",
       "  <thead>\n",
       "    <tr style=\"text-align: right;\">\n",
       "      <th></th>\n",
       "      <th>timestamp</th>\n",
       "      <th>Temp</th>\n",
       "      <th>Pressure</th>\n",
       "      <th>WindSpeed</th>\n",
       "      <th>Humidity</th>\n",
       "      <th>WindDirection</th>\n",
       "      <th>Visibility</th>\n",
       "      <th>CloudCover</th>\n",
       "      <th>CloudHeight</th>\n",
       "    </tr>\n",
       "  </thead>\n",
       "  <tbody>\n",
       "    <tr>\n",
       "      <th>count</th>\n",
       "      <td>3.000000e+03</td>\n",
       "      <td>3000.000000</td>\n",
       "      <td>3000.000000</td>\n",
       "      <td>2961.000000</td>\n",
       "      <td>3000.000000</td>\n",
       "      <td>2833.000000</td>\n",
       "      <td>2968.000000</td>\n",
       "      <td>2887.000000</td>\n",
       "      <td>1530.000000</td>\n",
       "    </tr>\n",
       "    <tr>\n",
       "      <th>mean</th>\n",
       "      <td>1.565150e+09</td>\n",
       "      <td>12.176233</td>\n",
       "      <td>1011.182933</td>\n",
       "      <td>5.535630</td>\n",
       "      <td>87.077667</td>\n",
       "      <td>209.488175</td>\n",
       "      <td>17191.677898</td>\n",
       "      <td>57.421198</td>\n",
       "      <td>635.633333</td>\n",
       "    </tr>\n",
       "    <tr>\n",
       "      <th>std</th>\n",
       "      <td>3.401647e+06</td>\n",
       "      <td>2.527409</td>\n",
       "      <td>10.597548</td>\n",
       "      <td>3.075368</td>\n",
       "      <td>9.125645</td>\n",
       "      <td>91.103091</td>\n",
       "      <td>15703.927048</td>\n",
       "      <td>34.768880</td>\n",
       "      <td>420.386296</td>\n",
       "    </tr>\n",
       "    <tr>\n",
       "      <th>min</th>\n",
       "      <td>1.561314e+09</td>\n",
       "      <td>2.000000</td>\n",
       "      <td>978.500000</td>\n",
       "      <td>0.000000</td>\n",
       "      <td>57.000000</td>\n",
       "      <td>10.000000</td>\n",
       "      <td>50.000000</td>\n",
       "      <td>0.000000</td>\n",
       "      <td>0.000000</td>\n",
       "    </tr>\n",
       "    <tr>\n",
       "      <th>25%</th>\n",
       "      <td>1.562421e+09</td>\n",
       "      <td>11.000000</td>\n",
       "      <td>1003.700000</td>\n",
       "      <td>3.600000</td>\n",
       "      <td>81.000000</td>\n",
       "      <td>140.000000</td>\n",
       "      <td>10000.000000</td>\n",
       "      <td>25.000000</td>\n",
       "      <td>274.000000</td>\n",
       "    </tr>\n",
       "    <tr>\n",
       "      <th>50%</th>\n",
       "      <td>1.563509e+09</td>\n",
       "      <td>12.000000</td>\n",
       "      <td>1011.300000</td>\n",
       "      <td>5.100000</td>\n",
       "      <td>87.000000</td>\n",
       "      <td>220.000000</td>\n",
       "      <td>10000.000000</td>\n",
       "      <td>75.000000</td>\n",
       "      <td>609.000000</td>\n",
       "    </tr>\n",
       "    <tr>\n",
       "      <th>75%</th>\n",
       "      <td>1.568243e+09</td>\n",
       "      <td>13.500000</td>\n",
       "      <td>1019.525000</td>\n",
       "      <td>7.200000</td>\n",
       "      <td>93.000000</td>\n",
       "      <td>280.000000</td>\n",
       "      <td>23000.000000</td>\n",
       "      <td>87.500000</td>\n",
       "      <td>944.000000</td>\n",
       "    </tr>\n",
       "    <tr>\n",
       "      <th>max</th>\n",
       "      <td>1.572887e+09</td>\n",
       "      <td>22.800000</td>\n",
       "      <td>1033.000000</td>\n",
       "      <td>19.000000</td>\n",
       "      <td>100.000000</td>\n",
       "      <td>360.000000</td>\n",
       "      <td>70000.000000</td>\n",
       "      <td>100.000000</td>\n",
       "      <td>1493.000000</td>\n",
       "    </tr>\n",
       "  </tbody>\n",
       "</table>\n",
       "</div>"
      ],
      "text/plain": [
       "          timestamp         Temp     Pressure    WindSpeed     Humidity  \\\n",
       "count  3.000000e+03  3000.000000  3000.000000  2961.000000  3000.000000   \n",
       "mean   1.565150e+09    12.176233  1011.182933     5.535630    87.077667   \n",
       "std    3.401647e+06     2.527409    10.597548     3.075368     9.125645   \n",
       "min    1.561314e+09     2.000000   978.500000     0.000000    57.000000   \n",
       "25%    1.562421e+09    11.000000  1003.700000     3.600000    81.000000   \n",
       "50%    1.563509e+09    12.000000  1011.300000     5.100000    87.000000   \n",
       "75%    1.568243e+09    13.500000  1019.525000     7.200000    93.000000   \n",
       "max    1.572887e+09    22.800000  1033.000000    19.000000   100.000000   \n",
       "\n",
       "       WindDirection    Visibility   CloudCover  CloudHeight  \n",
       "count    2833.000000   2968.000000  2887.000000  1530.000000  \n",
       "mean      209.488175  17191.677898    57.421198   635.633333  \n",
       "std        91.103091  15703.927048    34.768880   420.386296  \n",
       "min        10.000000     50.000000     0.000000     0.000000  \n",
       "25%       140.000000  10000.000000    25.000000   274.000000  \n",
       "50%       220.000000  10000.000000    75.000000   609.000000  \n",
       "75%       280.000000  23000.000000    87.500000   944.000000  \n",
       "max       360.000000  70000.000000   100.000000  1493.000000  "
      ]
     },
     "execution_count": 28,
     "metadata": {},
     "output_type": "execute_result"
    }
   ],
   "source": [
    "df.describe()"
   ]
  },
  {
   "cell_type": "code",
   "execution_count": 17,
   "metadata": {},
   "outputs": [],
   "source": [
    "%load_ext sql"
   ]
  },
  {
   "cell_type": "code",
   "execution_count": 22,
   "metadata": {},
   "outputs": [
    {
     "data": {
      "text/plain": [
       "'Connected: @./database/vackerWeather.db'"
      ]
     },
     "execution_count": 22,
     "metadata": {},
     "output_type": "execute_result"
    }
   ],
   "source": [
    "%sql sqlite:///./database/vackerWeather.db"
   ]
  },
  {
   "cell_type": "code",
   "execution_count": 24,
   "metadata": {},
   "outputs": [
    {
     "name": "stdout",
     "output_type": "stream",
     "text": [
      " * sqlite:///./database/vackerWeather.db\n"
     ]
    },
    {
     "data": {
      "text/plain": [
       "'Persisted df'"
      ]
     },
     "execution_count": 24,
     "metadata": {},
     "output_type": "execute_result"
    }
   ],
   "source": [
    "%sql persist df"
   ]
  },
  {
   "cell_type": "code",
   "execution_count": 26,
   "metadata": {},
   "outputs": [],
   "source": [
    "df.to_csv('./database/vackerWeather.csv')"
   ]
  },
  {
   "cell_type": "code",
   "execution_count": 28,
   "metadata": {},
   "outputs": [
    {
     "data": {
      "text/html": [
       "<div>\n",
       "<style scoped>\n",
       "    .dataframe tbody tr th:only-of-type {\n",
       "        vertical-align: middle;\n",
       "    }\n",
       "\n",
       "    .dataframe tbody tr th {\n",
       "        vertical-align: top;\n",
       "    }\n",
       "\n",
       "    .dataframe thead th {\n",
       "        text-align: right;\n",
       "    }\n",
       "</style>\n",
       "<table border=\"1\" class=\"dataframe\">\n",
       "  <thead>\n",
       "    <tr style=\"text-align: right;\">\n",
       "      <th></th>\n",
       "      <th>timestamp</th>\n",
       "      <th>Temp</th>\n",
       "      <th>Pressure</th>\n",
       "      <th>WindSpeed</th>\n",
       "      <th>Humidity</th>\n",
       "      <th>WindDirection</th>\n",
       "      <th>Visibility</th>\n",
       "      <th>CloudCover</th>\n",
       "      <th>CloudHeight</th>\n",
       "    </tr>\n",
       "  </thead>\n",
       "  <tbody>\n",
       "    <tr>\n",
       "      <th>count</th>\n",
       "      <td>3.000000e+03</td>\n",
       "      <td>3000.000000</td>\n",
       "      <td>3000.000000</td>\n",
       "      <td>2961.000000</td>\n",
       "      <td>3000.000000</td>\n",
       "      <td>2833.000000</td>\n",
       "      <td>2968.000000</td>\n",
       "      <td>2887.000000</td>\n",
       "      <td>1530.000000</td>\n",
       "    </tr>\n",
       "    <tr>\n",
       "      <th>mean</th>\n",
       "      <td>1.565150e+09</td>\n",
       "      <td>12.176233</td>\n",
       "      <td>1011.182933</td>\n",
       "      <td>5.535630</td>\n",
       "      <td>87.077667</td>\n",
       "      <td>209.488175</td>\n",
       "      <td>17191.677898</td>\n",
       "      <td>57.421198</td>\n",
       "      <td>635.633333</td>\n",
       "    </tr>\n",
       "    <tr>\n",
       "      <th>std</th>\n",
       "      <td>3.401647e+06</td>\n",
       "      <td>2.527409</td>\n",
       "      <td>10.597548</td>\n",
       "      <td>3.075368</td>\n",
       "      <td>9.125645</td>\n",
       "      <td>91.103091</td>\n",
       "      <td>15703.927048</td>\n",
       "      <td>34.768880</td>\n",
       "      <td>420.386296</td>\n",
       "    </tr>\n",
       "    <tr>\n",
       "      <th>min</th>\n",
       "      <td>1.561314e+09</td>\n",
       "      <td>2.000000</td>\n",
       "      <td>978.500000</td>\n",
       "      <td>0.000000</td>\n",
       "      <td>57.000000</td>\n",
       "      <td>10.000000</td>\n",
       "      <td>50.000000</td>\n",
       "      <td>0.000000</td>\n",
       "      <td>0.000000</td>\n",
       "    </tr>\n",
       "    <tr>\n",
       "      <th>25%</th>\n",
       "      <td>1.562421e+09</td>\n",
       "      <td>11.000000</td>\n",
       "      <td>1003.700000</td>\n",
       "      <td>3.600000</td>\n",
       "      <td>81.000000</td>\n",
       "      <td>140.000000</td>\n",
       "      <td>10000.000000</td>\n",
       "      <td>25.000000</td>\n",
       "      <td>274.000000</td>\n",
       "    </tr>\n",
       "    <tr>\n",
       "      <th>50%</th>\n",
       "      <td>1.563509e+09</td>\n",
       "      <td>12.000000</td>\n",
       "      <td>1011.300000</td>\n",
       "      <td>5.100000</td>\n",
       "      <td>87.000000</td>\n",
       "      <td>220.000000</td>\n",
       "      <td>10000.000000</td>\n",
       "      <td>75.000000</td>\n",
       "      <td>609.000000</td>\n",
       "    </tr>\n",
       "    <tr>\n",
       "      <th>75%</th>\n",
       "      <td>1.568243e+09</td>\n",
       "      <td>13.500000</td>\n",
       "      <td>1019.525000</td>\n",
       "      <td>7.200000</td>\n",
       "      <td>93.000000</td>\n",
       "      <td>280.000000</td>\n",
       "      <td>23000.000000</td>\n",
       "      <td>87.500000</td>\n",
       "      <td>944.000000</td>\n",
       "    </tr>\n",
       "    <tr>\n",
       "      <th>max</th>\n",
       "      <td>1.572887e+09</td>\n",
       "      <td>22.800000</td>\n",
       "      <td>1033.000000</td>\n",
       "      <td>19.000000</td>\n",
       "      <td>100.000000</td>\n",
       "      <td>360.000000</td>\n",
       "      <td>70000.000000</td>\n",
       "      <td>100.000000</td>\n",
       "      <td>1493.000000</td>\n",
       "    </tr>\n",
       "  </tbody>\n",
       "</table>\n",
       "</div>"
      ],
      "text/plain": [
       "          timestamp         Temp     Pressure    WindSpeed     Humidity  \\\n",
       "count  3.000000e+03  3000.000000  3000.000000  2961.000000  3000.000000   \n",
       "mean   1.565150e+09    12.176233  1011.182933     5.535630    87.077667   \n",
       "std    3.401647e+06     2.527409    10.597548     3.075368     9.125645   \n",
       "min    1.561314e+09     2.000000   978.500000     0.000000    57.000000   \n",
       "25%    1.562421e+09    11.000000  1003.700000     3.600000    81.000000   \n",
       "50%    1.563509e+09    12.000000  1011.300000     5.100000    87.000000   \n",
       "75%    1.568243e+09    13.500000  1019.525000     7.200000    93.000000   \n",
       "max    1.572887e+09    22.800000  1033.000000    19.000000   100.000000   \n",
       "\n",
       "       WindDirection    Visibility   CloudCover  CloudHeight  \n",
       "count    2833.000000   2968.000000  2887.000000  1530.000000  \n",
       "mean      209.488175  17191.677898    57.421198   635.633333  \n",
       "std        91.103091  15703.927048    34.768880   420.386296  \n",
       "min        10.000000     50.000000     0.000000     0.000000  \n",
       "25%       140.000000  10000.000000    25.000000   274.000000  \n",
       "50%       220.000000  10000.000000    75.000000   609.000000  \n",
       "75%       280.000000  23000.000000    87.500000   944.000000  \n",
       "max       360.000000  70000.000000   100.000000  1493.000000  "
      ]
     },
     "execution_count": 28,
     "metadata": {},
     "output_type": "execute_result"
    }
   ],
   "source": [
    "df.describe()"
   ]
  },
  {
   "cell_type": "code",
   "execution_count": 40,
   "metadata": {},
   "outputs": [
    {
     "data": {
      "text/plain": [
       "datetime.datetime(2019, 6, 23, 19, 20)"
      ]
     },
     "execution_count": 40,
     "metadata": {},
     "output_type": "execute_result"
    }
   ],
   "source": [
    "datetime.fromtimestamp(df['timestamp'][0], tz=None)"
   ]
  },
  {
   "cell_type": "code",
   "execution_count": 37,
   "metadata": {},
   "outputs": [
    {
     "ename": "NameError",
     "evalue": "name 'fromutc' is not defined",
     "output_type": "error",
     "traceback": [
      "\u001b[1;31m---------------------------------------------------------------------------\u001b[0m",
      "\u001b[1;31mNameError\u001b[0m                                 Traceback (most recent call last)",
      "\u001b[1;32m<ipython-input-37-7ac786169fa7>\u001b[0m in \u001b[0;36m<module>\u001b[1;34m\u001b[0m\n\u001b[1;32m----> 1\u001b[1;33m \u001b[0mfromutc\u001b[0m\u001b[1;33m(\u001b[0m\u001b[0mdatetime\u001b[0m\u001b[1;33m.\u001b[0m\u001b[0mutcfromtimestamp\u001b[0m\u001b[1;33m(\u001b[0m\u001b[0mtimestamp\u001b[0m\u001b[1;33m)\u001b[0m\u001b[1;33m.\u001b[0m\u001b[0mreplace\u001b[0m\u001b[1;33m(\u001b[0m\u001b[0mtzinfo\u001b[0m\u001b[1;33m=\u001b[0m\u001b[0mtz\u001b[0m\u001b[1;33m)\u001b[0m\u001b[1;33m)\u001b[0m\u001b[1;33m\u001b[0m\u001b[1;33m\u001b[0m\u001b[0m\n\u001b[0m",
      "\u001b[1;31mNameError\u001b[0m: name 'fromutc' is not defined"
     ]
    }
   ],
   "source": [
    "fromutc(datetime.utcfromtimestamp(timestamp).replace(tzinfo=tz))"
   ]
  }
 ],
 "metadata": {
  "kernelspec": {
   "display_name": "Python 3",
   "language": "python",
   "name": "python3"
  },
  "language_info": {
   "codemirror_mode": {
    "name": "ipython",
    "version": 3
   },
   "file_extension": ".py",
   "mimetype": "text/x-python",
   "name": "python",
   "nbconvert_exporter": "python",
   "pygments_lexer": "ipython3",
   "version": "3.7.3"
  }
 },
 "nbformat": 4,
 "nbformat_minor": 4
}
