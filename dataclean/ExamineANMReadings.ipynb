{
 "cells": [
  {
   "cell_type": "markdown",
   "metadata": {},
   "source": [
    "# Preliminary examination of logged Generation warnings from SSEN website "
   ]
  },
  {
   "cell_type": "markdown",
   "metadata": {},
   "source": [
    "## load sql extension and connect to database file"
   ]
  },
  {
   "cell_type": "code",
   "execution_count": 2,
   "metadata": {},
   "outputs": [
    {
     "data": {
      "text/plain": [
       "'./database/ANMlog_copy.db'"
      ]
     },
     "execution_count": 2,
     "metadata": {},
     "output_type": "execute_result"
    }
   ],
   "source": [
    "## Make copy of original databse for examination and cleaning\n",
    "\n",
    "from shutil import copyfile\n",
    "\n",
    "copyfile('../logging/database/ANMlog.db','./database/ANMlog_copy.db')"
   ]
  },
  {
   "cell_type": "code",
   "execution_count": 1,
   "metadata": {},
   "outputs": [],
   "source": [
    "%load_ext sql"
   ]
  },
  {
   "cell_type": "code",
   "execution_count": 3,
   "metadata": {},
   "outputs": [
    {
     "data": {
      "text/plain": [
       "'Connected: @./database/ANMlog_copy.db'"
      ]
     },
     "execution_count": 3,
     "metadata": {},
     "output_type": "execute_result"
    }
   ],
   "source": [
    "%sql sqlite:///./database/ANMlog_copy.db"
   ]
  },
  {
   "cell_type": "code",
   "execution_count": 4,
   "metadata": {},
   "outputs": [
    {
     "name": "stdout",
     "output_type": "stream",
     "text": [
      " * sqlite:///./database/ANMlog_copy.db\n",
      "Done.\n"
     ]
    },
    {
     "data": {
      "text/html": [
       "<table>\n",
       "    <tr>\n",
       "        <th>COUNT(*)</th>\n",
       "    </tr>\n",
       "    <tr>\n",
       "        <td>15714</td>\n",
       "    </tr>\n",
       "</table>"
      ],
      "text/plain": [
       "[(15714,)]"
      ]
     },
     "execution_count": 4,
     "metadata": {},
     "output_type": "execute_result"
    }
   ],
   "source": [
    "%sql SELECT COUNT(*) FROM records;"
   ]
  },
  {
   "cell_type": "markdown",
   "metadata": {},
   "source": [
    "## Get some basic information about the database"
   ]
  },
  {
   "cell_type": "code",
   "execution_count": 5,
   "metadata": {},
   "outputs": [
    {
     "name": "stdout",
     "output_type": "stream",
     "text": [
      " * sqlite:///./database/ANMlog_copy.db\n",
      "Done.\n"
     ]
    },
    {
     "data": {
      "text/html": [
       "<table>\n",
       "    <tr>\n",
       "        <th>cid</th>\n",
       "        <th>name</th>\n",
       "        <th>type</th>\n",
       "        <th>notnull</th>\n",
       "        <th>dflt_value</th>\n",
       "        <th>pk</th>\n",
       "    </tr>\n",
       "    <tr>\n",
       "        <td>0</td>\n",
       "        <td>timestamp</td>\n",
       "        <td>DATETIME</td>\n",
       "        <td>0</td>\n",
       "        <td>None</td>\n",
       "        <td>0</td>\n",
       "    </tr>\n",
       "    <tr>\n",
       "        <td>1</td>\n",
       "        <td>log</td>\n",
       "        <td>TEXT</td>\n",
       "        <td>0</td>\n",
       "        <td>None</td>\n",
       "        <td>0</td>\n",
       "    </tr>\n",
       "</table>"
      ],
      "text/plain": [
       "[(0, 'timestamp', 'DATETIME', 0, None, 0), (1, 'log', 'TEXT', 0, None, 0)]"
      ]
     },
     "execution_count": 5,
     "metadata": {},
     "output_type": "execute_result"
    }
   ],
   "source": [
    "%sql pragma table_info('records')"
   ]
  },
  {
   "cell_type": "code",
   "execution_count": 6,
   "metadata": {},
   "outputs": [
    {
     "name": "stdout",
     "output_type": "stream",
     "text": [
      " * sqlite:///./database/ANMlog_copy.db\n",
      "Done.\n"
     ]
    },
    {
     "data": {
      "text/html": [
       "<table>\n",
       "    <tr>\n",
       "        <th>min(timestamp)</th>\n",
       "        <th>max(timestamp)</th>\n",
       "    </tr>\n",
       "    <tr>\n",
       "        <td>2019-01-16 22:42:33</td>\n",
       "        <td>2019-10-27 13:35:16</td>\n",
       "    </tr>\n",
       "</table>"
      ],
      "text/plain": [
       "[('2019-01-16 22:42:33', '2019-10-27 13:35:16')]"
      ]
     },
     "execution_count": 6,
     "metadata": {},
     "output_type": "execute_result"
    }
   ],
   "source": [
    "%sql SELECT min(timestamp), max(timestamp) FROM records;"
   ]
  },
  {
   "cell_type": "code",
   "execution_count": 7,
   "metadata": {},
   "outputs": [
    {
     "name": "stdout",
     "output_type": "stream",
     "text": [
      " * sqlite:///./database/ANMlog_copy.db\n",
      "Done.\n"
     ]
    },
    {
     "data": {
      "text/html": [
       "<table>\n",
       "    <tr>\n",
       "        <th>timestamp</th>\n",
       "        <th>log</th>\n",
       "    </tr>\n",
       "    <tr>\n",
       "        <td>2019-01-16 22:42:33</td>\n",
       "        <td>{&quot;2&quot;: [&quot;warning&quot;, &quot;ok&quot;, &quot;ok&quot;], &quot;2B&quot;: [&quot;warning&quot;, &quot;ok&quot;, &quot;ok&quot;], &quot;2A&quot;: [&quot;remove&quot;, &quot;ok&quot;, &quot;ok&quot;], &quot;4A&quot;: [&quot;ok&quot;, &quot;ok&quot;, &quot;ok&quot;], &quot;3&quot;: [&quot;ok&quot;, &quot;ok&quot;, &quot;ok&quot;], &quot;Core&quot;: [&quot;ok&quot;, &quot;ok&quot;, &quot;ok&quot;], &quot;1&quot;: [&quot;ok&quot;, &quot;ok&quot;, &quot;ok&quot;], &quot;4&quot;: [&quot;ok&quot;, &quot;ok&quot;, &quot;ok&quot;], &quot;1A&quot;: [&quot;ok&quot;, &quot;ok&quot;, &quot;ok&quot;]}</td>\n",
       "    </tr>\n",
       "    <tr>\n",
       "        <td>2019-01-16 22:46:25</td>\n",
       "        <td>{&quot;1&quot;: [&quot;ok&quot;, &quot;ok&quot;, &quot;ok&quot;], &quot;1A&quot;: [&quot;ok&quot;, &quot;ok&quot;, &quot;ok&quot;], &quot;2&quot;: [&quot;warning&quot;, &quot;ok&quot;, &quot;ok&quot;], &quot;2A&quot;: [&quot;remove&quot;, &quot;ok&quot;, &quot;ok&quot;], &quot;2B&quot;: [&quot;warning&quot;, &quot;ok&quot;, &quot;ok&quot;], &quot;3&quot;: [&quot;ok&quot;, &quot;ok&quot;, &quot;ok&quot;], &quot;4&quot;: [&quot;ok&quot;, &quot;ok&quot;, &quot;ok&quot;], &quot;4A&quot;: [&quot;ok&quot;, &quot;ok&quot;, &quot;ok&quot;], &quot;Core&quot;: [&quot;ok&quot;, &quot;ok&quot;, &quot;ok&quot;]}</td>\n",
       "    </tr>\n",
       "    <tr>\n",
       "        <td>2019-01-16 22:59:22</td>\n",
       "        <td>{&quot;1&quot;: [&quot;ok&quot;, &quot;ok&quot;, &quot;ok&quot;], &quot;1A&quot;: [&quot;ok&quot;, &quot;ok&quot;, &quot;ok&quot;], &quot;2&quot;: [&quot;ok&quot;, &quot;ok&quot;, &quot;ok&quot;], &quot;2A&quot;: [&quot;remove&quot;, &quot;ok&quot;, &quot;ok&quot;], &quot;2B&quot;: [&quot;warning&quot;, &quot;ok&quot;, &quot;ok&quot;], &quot;3&quot;: [&quot;ok&quot;, &quot;ok&quot;, &quot;ok&quot;], &quot;4&quot;: [&quot;ok&quot;, &quot;ok&quot;, &quot;ok&quot;], &quot;4A&quot;: [&quot;ok&quot;, &quot;ok&quot;, &quot;ok&quot;], &quot;Core&quot;: [&quot;ok&quot;, &quot;ok&quot;, &quot;ok&quot;]}</td>\n",
       "    </tr>\n",
       "    <tr>\n",
       "        <td>2019-01-16 23:03:05</td>\n",
       "        <td>{&quot;1&quot;: [&quot;ok&quot;, &quot;ok&quot;, &quot;ok&quot;], &quot;1A&quot;: [&quot;ok&quot;, &quot;ok&quot;, &quot;ok&quot;], &quot;2&quot;: [&quot;ok&quot;, &quot;ok&quot;, &quot;ok&quot;], &quot;2A&quot;: [&quot;remove&quot;, &quot;ok&quot;, &quot;ok&quot;], &quot;2B&quot;: [&quot;warning&quot;, &quot;ok&quot;, &quot;ok&quot;], &quot;3&quot;: [&quot;ok&quot;, &quot;ok&quot;, &quot;ok&quot;], &quot;4&quot;: [&quot;ok&quot;, &quot;ok&quot;, &quot;ok&quot;], &quot;4A&quot;: [&quot;ok&quot;, &quot;ok&quot;, &quot;ok&quot;], &quot;Core&quot;: [&quot;ok&quot;, &quot;ok&quot;, &quot;ok&quot;]}</td>\n",
       "    </tr>\n",
       "    <tr>\n",
       "        <td>2019-01-16 23:06:26</td>\n",
       "        <td>{&quot;1&quot;: [&quot;ok&quot;, &quot;ok&quot;, &quot;ok&quot;], &quot;1A&quot;: [&quot;ok&quot;, &quot;ok&quot;, &quot;ok&quot;], &quot;2&quot;: [&quot;warning&quot;, &quot;ok&quot;, &quot;ok&quot;], &quot;2A&quot;: [&quot;remove&quot;, &quot;ok&quot;, &quot;ok&quot;], &quot;2B&quot;: [&quot;warning&quot;, &quot;ok&quot;, &quot;ok&quot;], &quot;3&quot;: [&quot;ok&quot;, &quot;ok&quot;, &quot;ok&quot;], &quot;4&quot;: [&quot;ok&quot;, &quot;ok&quot;, &quot;ok&quot;], &quot;4A&quot;: [&quot;ok&quot;, &quot;ok&quot;, &quot;ok&quot;], &quot;Core&quot;: [&quot;ok&quot;, &quot;ok&quot;, &quot;ok&quot;]}</td>\n",
       "    </tr>\n",
       "    <tr>\n",
       "        <td>2019-01-17 09:18:10</td>\n",
       "        <td>{&quot;1&quot;: [&quot;ok&quot;, &quot;ok&quot;, &quot;ok&quot;], &quot;1A&quot;: [&quot;ok&quot;, &quot;ok&quot;, &quot;ok&quot;], &quot;2&quot;: [&quot;ok&quot;, &quot;ok&quot;, &quot;ok&quot;], &quot;2A&quot;: [&quot;warning&quot;, &quot;ok&quot;, &quot;ok&quot;], &quot;2B&quot;: [&quot;ok&quot;, &quot;ok&quot;, &quot;ok&quot;], &quot;3&quot;: [&quot;ok&quot;, &quot;ok&quot;, &quot;ok&quot;], &quot;4&quot;: [&quot;ok&quot;, &quot;ok&quot;, &quot;ok&quot;], &quot;4A&quot;: [&quot;ok&quot;, &quot;ok&quot;, &quot;ok&quot;], &quot;Core&quot;: [&quot;ok&quot;, &quot;ok&quot;, &quot;ok&quot;]}</td>\n",
       "    </tr>\n",
       "    <tr>\n",
       "        <td>2019-01-17 09:19:10</td>\n",
       "        <td>{&quot;1&quot;: [&quot;ok&quot;, &quot;ok&quot;, &quot;ok&quot;], &quot;1A&quot;: [&quot;ok&quot;, &quot;ok&quot;, &quot;ok&quot;], &quot;2&quot;: [&quot;ok&quot;, &quot;ok&quot;, &quot;ok&quot;], &quot;2A&quot;: [&quot;ok&quot;, &quot;ok&quot;, &quot;ok&quot;], &quot;2B&quot;: [&quot;ok&quot;, &quot;ok&quot;, &quot;ok&quot;], &quot;3&quot;: [&quot;ok&quot;, &quot;ok&quot;, &quot;ok&quot;], &quot;4&quot;: [&quot;ok&quot;, &quot;ok&quot;, &quot;ok&quot;], &quot;4A&quot;: [&quot;ok&quot;, &quot;ok&quot;, &quot;ok&quot;], &quot;Core&quot;: [&quot;ok&quot;, &quot;ok&quot;, &quot;ok&quot;]}</td>\n",
       "    </tr>\n",
       "    <tr>\n",
       "        <td>2019-01-17 09:21:11</td>\n",
       "        <td>{&quot;1&quot;: [&quot;ok&quot;, &quot;ok&quot;, &quot;ok&quot;], &quot;1A&quot;: [&quot;ok&quot;, &quot;ok&quot;, &quot;ok&quot;], &quot;2&quot;: [&quot;warning&quot;, &quot;ok&quot;, &quot;ok&quot;], &quot;2A&quot;: [&quot;ok&quot;, &quot;ok&quot;, &quot;ok&quot;], &quot;2B&quot;: [&quot;ok&quot;, &quot;ok&quot;, &quot;ok&quot;], &quot;3&quot;: [&quot;ok&quot;, &quot;ok&quot;, &quot;ok&quot;], &quot;4&quot;: [&quot;ok&quot;, &quot;ok&quot;, &quot;ok&quot;], &quot;4A&quot;: [&quot;ok&quot;, &quot;ok&quot;, &quot;ok&quot;], &quot;Core&quot;: [&quot;ok&quot;, &quot;ok&quot;, &quot;ok&quot;]}</td>\n",
       "    </tr>\n",
       "    <tr>\n",
       "        <td>2019-01-17 09:27:10</td>\n",
       "        <td>{&quot;1&quot;: [&quot;ok&quot;, &quot;ok&quot;, &quot;ok&quot;], &quot;1A&quot;: [&quot;ok&quot;, &quot;ok&quot;, &quot;ok&quot;], &quot;2&quot;: [&quot;remove&quot;, &quot;ok&quot;, &quot;ok&quot;], &quot;2A&quot;: [&quot;remove&quot;, &quot;ok&quot;, &quot;ok&quot;], &quot;2B&quot;: [&quot;warning&quot;, &quot;ok&quot;, &quot;ok&quot;], &quot;3&quot;: [&quot;ok&quot;, &quot;ok&quot;, &quot;ok&quot;], &quot;4&quot;: [&quot;ok&quot;, &quot;ok&quot;, &quot;ok&quot;], &quot;4A&quot;: [&quot;ok&quot;, &quot;ok&quot;, &quot;ok&quot;], &quot;Core&quot;: [&quot;ok&quot;, &quot;ok&quot;, &quot;ok&quot;]}</td>\n",
       "    </tr>\n",
       "    <tr>\n",
       "        <td>2019-01-17 09:29:11</td>\n",
       "        <td>{&quot;1&quot;: [&quot;ok&quot;, &quot;ok&quot;, &quot;ok&quot;], &quot;1A&quot;: [&quot;ok&quot;, &quot;ok&quot;, &quot;ok&quot;], &quot;2&quot;: [&quot;warning&quot;, &quot;ok&quot;, &quot;ok&quot;], &quot;2A&quot;: [&quot;remove&quot;, &quot;ok&quot;, &quot;ok&quot;], &quot;2B&quot;: [&quot;warning&quot;, &quot;ok&quot;, &quot;ok&quot;], &quot;3&quot;: [&quot;ok&quot;, &quot;ok&quot;, &quot;ok&quot;], &quot;4&quot;: [&quot;ok&quot;, &quot;ok&quot;, &quot;ok&quot;], &quot;4A&quot;: [&quot;ok&quot;, &quot;ok&quot;, &quot;ok&quot;], &quot;Core&quot;: [&quot;ok&quot;, &quot;ok&quot;, &quot;ok&quot;]}</td>\n",
       "    </tr>\n",
       "</table>"
      ],
      "text/plain": [
       "[('2019-01-16 22:42:33', '{\"2\": [\"warning\", \"ok\", \"ok\"], \"2B\": [\"warning\", \"ok\", \"ok\"], \"2A\": [\"remove\", \"ok\", \"ok\"], \"4A\": [\"ok\", \"ok\", \"ok\"], \"3\": [\"ok\", \"ok\", \"ok\"], \"Core\": [\"ok\", \"ok\", \"ok\"], \"1\": [\"ok\", \"ok\", \"ok\"], \"4\": [\"ok\", \"ok\", \"ok\"], \"1A\": [\"ok\", \"ok\", \"ok\"]}'),\n",
       " ('2019-01-16 22:46:25', '{\"1\": [\"ok\", \"ok\", \"ok\"], \"1A\": [\"ok\", \"ok\", \"ok\"], \"2\": [\"warning\", \"ok\", \"ok\"], \"2A\": [\"remove\", \"ok\", \"ok\"], \"2B\": [\"warning\", \"ok\", \"ok\"], \"3\": [\"ok\", \"ok\", \"ok\"], \"4\": [\"ok\", \"ok\", \"ok\"], \"4A\": [\"ok\", \"ok\", \"ok\"], \"Core\": [\"ok\", \"ok\", \"ok\"]}'),\n",
       " ('2019-01-16 22:59:22', '{\"1\": [\"ok\", \"ok\", \"ok\"], \"1A\": [\"ok\", \"ok\", \"ok\"], \"2\": [\"ok\", \"ok\", \"ok\"], \"2A\": [\"remove\", \"ok\", \"ok\"], \"2B\": [\"warning\", \"ok\", \"ok\"], \"3\": [\"ok\", \"ok\", \"ok\"], \"4\": [\"ok\", \"ok\", \"ok\"], \"4A\": [\"ok\", \"ok\", \"ok\"], \"Core\": [\"ok\", \"ok\", \"ok\"]}'),\n",
       " ('2019-01-16 23:03:05', '{\"1\": [\"ok\", \"ok\", \"ok\"], \"1A\": [\"ok\", \"ok\", \"ok\"], \"2\": [\"ok\", \"ok\", \"ok\"], \"2A\": [\"remove\", \"ok\", \"ok\"], \"2B\": [\"warning\", \"ok\", \"ok\"], \"3\": [\"ok\", \"ok\", \"ok\"], \"4\": [\"ok\", \"ok\", \"ok\"], \"4A\": [\"ok\", \"ok\", \"ok\"], \"Core\": [\"ok\", \"ok\", \"ok\"]}'),\n",
       " ('2019-01-16 23:06:26', '{\"1\": [\"ok\", \"ok\", \"ok\"], \"1A\": [\"ok\", \"ok\", \"ok\"], \"2\": [\"warning\", \"ok\", \"ok\"], \"2A\": [\"remove\", \"ok\", \"ok\"], \"2B\": [\"warning\", \"ok\", \"ok\"], \"3\": [\"ok\", \"ok\", \"ok\"], \"4\": [\"ok\", \"ok\", \"ok\"], \"4A\": [\"ok\", \"ok\", \"ok\"], \"Core\": [\"ok\", \"ok\", \"ok\"]}'),\n",
       " ('2019-01-17 09:18:10', '{\"1\": [\"ok\", \"ok\", \"ok\"], \"1A\": [\"ok\", \"ok\", \"ok\"], \"2\": [\"ok\", \"ok\", \"ok\"], \"2A\": [\"warning\", \"ok\", \"ok\"], \"2B\": [\"ok\", \"ok\", \"ok\"], \"3\": [\"ok\", \"ok\", \"ok\"], \"4\": [\"ok\", \"ok\", \"ok\"], \"4A\": [\"ok\", \"ok\", \"ok\"], \"Core\": [\"ok\", \"ok\", \"ok\"]}'),\n",
       " ('2019-01-17 09:19:10', '{\"1\": [\"ok\", \"ok\", \"ok\"], \"1A\": [\"ok\", \"ok\", \"ok\"], \"2\": [\"ok\", \"ok\", \"ok\"], \"2A\": [\"ok\", \"ok\", \"ok\"], \"2B\": [\"ok\", \"ok\", \"ok\"], \"3\": [\"ok\", \"ok\", \"ok\"], \"4\": [\"ok\", \"ok\", \"ok\"], \"4A\": [\"ok\", \"ok\", \"ok\"], \"Core\": [\"ok\", \"ok\", \"ok\"]}'),\n",
       " ('2019-01-17 09:21:11', '{\"1\": [\"ok\", \"ok\", \"ok\"], \"1A\": [\"ok\", \"ok\", \"ok\"], \"2\": [\"warning\", \"ok\", \"ok\"], \"2A\": [\"ok\", \"ok\", \"ok\"], \"2B\": [\"ok\", \"ok\", \"ok\"], \"3\": [\"ok\", \"ok\", \"ok\"], \"4\": [\"ok\", \"ok\", \"ok\"], \"4A\": [\"ok\", \"ok\", \"ok\"], \"Core\": [\"ok\", \"ok\", \"ok\"]}'),\n",
       " ('2019-01-17 09:27:10', '{\"1\": [\"ok\", \"ok\", \"ok\"], \"1A\": [\"ok\", \"ok\", \"ok\"], \"2\": [\"remove\", \"ok\", \"ok\"], \"2A\": [\"remove\", \"ok\", \"ok\"], \"2B\": [\"warning\", \"ok\", \"ok\"], \"3\": [\"ok\", \"ok\", \"ok\"], \"4\": [\"ok\", \"ok\", \"ok\"], \"4A\": [\"ok\", \"ok\", \"ok\"], \"Core\": [\"ok\", \"ok\", \"ok\"]}'),\n",
       " ('2019-01-17 09:29:11', '{\"1\": [\"ok\", \"ok\", \"ok\"], \"1A\": [\"ok\", \"ok\", \"ok\"], \"2\": [\"warning\", \"ok\", \"ok\"], \"2A\": [\"remove\", \"ok\", \"ok\"], \"2B\": [\"warning\", \"ok\", \"ok\"], \"3\": [\"ok\", \"ok\", \"ok\"], \"4\": [\"ok\", \"ok\", \"ok\"], \"4A\": [\"ok\", \"ok\", \"ok\"], \"Core\": [\"ok\", \"ok\", \"ok\"]}')]"
      ]
     },
     "execution_count": 7,
     "metadata": {},
     "output_type": "execute_result"
    }
   ],
   "source": [
    "%sql SELECT * from records limit 10;"
   ]
  },
  {
   "cell_type": "markdown",
   "metadata": {},
   "source": [
    "## Search for duplicate entries"
   ]
  },
  {
   "cell_type": "code",
   "execution_count": 8,
   "metadata": {},
   "outputs": [
    {
     "name": "stdout",
     "output_type": "stream",
     "text": [
      " * sqlite:///./database/ANMlog_copy.db\n",
      "Done.\n"
     ]
    },
    {
     "data": {
      "text/html": [
       "<table>\n",
       "    <tr>\n",
       "        <th>timestamp</th>\n",
       "        <th>count</th>\n",
       "    </tr>\n",
       "</table>"
      ],
      "text/plain": [
       "[]"
      ]
     },
     "execution_count": 8,
     "metadata": {},
     "output_type": "execute_result"
    }
   ],
   "source": [
    "%%sql \n",
    "SELECT timestamp, COUNT(*) count \n",
    "FROM records \n",
    "GROUP BY timestamp \n",
    "HAVING count > 1;"
   ]
  },
  {
   "cell_type": "markdown",
   "metadata": {},
   "source": [
    "## Search for multiple readings within single minute periods "
   ]
  },
  {
   "cell_type": "code",
   "execution_count": 9,
   "metadata": {},
   "outputs": [
    {
     "name": "stdout",
     "output_type": "stream",
     "text": [
      " * sqlite:///./database/ANMlog_copy.db\n",
      "Done.\n"
     ]
    },
    {
     "data": {
      "text/html": [
       "<table>\n",
       "    <tr>\n",
       "        <th>timestamp</th>\n",
       "        <th>count</th>\n",
       "    </tr>\n",
       "    <tr>\n",
       "        <td>2019-01-21 20:58</td>\n",
       "        <td>2</td>\n",
       "    </tr>\n",
       "    <tr>\n",
       "        <td>2019-05-31 21:54</td>\n",
       "        <td>2</td>\n",
       "    </tr>\n",
       "    <tr>\n",
       "        <td>2019-05-31 22:00</td>\n",
       "        <td>2</td>\n",
       "    </tr>\n",
       "</table>"
      ],
      "text/plain": [
       "[('2019-01-21 20:58', 2), ('2019-05-31 21:54', 2), ('2019-05-31 22:00', 2)]"
      ]
     },
     "execution_count": 9,
     "metadata": {},
     "output_type": "execute_result"
    }
   ],
   "source": [
    "%%sql \n",
    "SELECT substr(timestamp, 0, 17) as timestamp, COUNT(*) as count \n",
    "FROM records \n",
    "GROUP BY substr(timestamp, 0, 17) \n",
    "HAVING count > 1;"
   ]
  },
  {
   "cell_type": "markdown",
   "metadata": {},
   "source": [
    "count of multiple entries within any single minute period"
   ]
  },
  {
   "cell_type": "code",
   "execution_count": 10,
   "metadata": {},
   "outputs": [
    {
     "name": "stdout",
     "output_type": "stream",
     "text": [
      " * sqlite:///./database/ANMlog_copy.db\n",
      "Done.\n"
     ]
    },
    {
     "data": {
      "text/html": [
       "<table>\n",
       "    <tr>\n",
       "        <th>sum(count)</th>\n",
       "    </tr>\n",
       "    <tr>\n",
       "        <td>6</td>\n",
       "    </tr>\n",
       "</table>"
      ],
      "text/plain": [
       "[(6,)]"
      ]
     },
     "execution_count": 10,
     "metadata": {},
     "output_type": "execute_result"
    }
   ],
   "source": [
    "%sql SELECT sum(count) from (SELECT substr(timestamp, 0, 17) as timestamp, COUNT(*) as count FROM records GROUP BY substr(timestamp, 0, 17) HAVING count > 1);"
   ]
  },
  {
   "cell_type": "markdown",
   "metadata": {},
   "source": [
    "## count of minute periods with multiple entries"
   ]
  },
  {
   "cell_type": "code",
   "execution_count": 11,
   "metadata": {},
   "outputs": [
    {
     "name": "stdout",
     "output_type": "stream",
     "text": [
      " * sqlite:///./database/ANMlog_copy.db\n",
      "Done.\n"
     ]
    },
    {
     "data": {
      "text/html": [
       "<table>\n",
       "    <tr>\n",
       "        <th>count(*)</th>\n",
       "    </tr>\n",
       "    <tr>\n",
       "        <td>3</td>\n",
       "    </tr>\n",
       "</table>"
      ],
      "text/plain": [
       "[(3,)]"
      ]
     },
     "execution_count": 11,
     "metadata": {},
     "output_type": "execute_result"
    }
   ],
   "source": [
    "%%sql\n",
    "SELECT count(*) \n",
    "FROM (SELECT substr(timestamp, 0, 17) as timestamp, COUNT(*) as count \n",
    "      FROM records\n",
    "      GROUP BY substr(timestamp, 0, 17) \n",
    "      HAVING count > 1\n",
    "     )\n",
    ";"
   ]
  },
  {
   "cell_type": "code",
   "execution_count": 12,
   "metadata": {},
   "outputs": [
    {
     "name": "stdout",
     "output_type": "stream",
     "text": [
      " * sqlite:///./database/ANMlog_copy.db\n",
      "Done.\n"
     ]
    },
    {
     "data": {
      "text/html": [
       "<table>\n",
       "    <tr>\n",
       "        <th>timestamp</th>\n",
       "    </tr>\n",
       "    <tr>\n",
       "        <td>2019-01-21 20:58:10</td>\n",
       "    </tr>\n",
       "    <tr>\n",
       "        <td>2019-01-21 20:58:57</td>\n",
       "    </tr>\n",
       "    <tr>\n",
       "        <td>2019-05-31 21:54:17</td>\n",
       "    </tr>\n",
       "    <tr>\n",
       "        <td>2019-05-31 21:54:20</td>\n",
       "    </tr>\n",
       "    <tr>\n",
       "        <td>2019-05-31 22:00:28</td>\n",
       "    </tr>\n",
       "    <tr>\n",
       "        <td>2019-05-31 22:00:38</td>\n",
       "    </tr>\n",
       "</table>"
      ],
      "text/plain": [
       "[('2019-01-21 20:58:10',),\n",
       " ('2019-01-21 20:58:57',),\n",
       " ('2019-05-31 21:54:17',),\n",
       " ('2019-05-31 21:54:20',),\n",
       " ('2019-05-31 22:00:28',),\n",
       " ('2019-05-31 22:00:38',)]"
      ]
     },
     "execution_count": 12,
     "metadata": {},
     "output_type": "execute_result"
    }
   ],
   "source": [
    "%%sql\n",
    "SELECT timestamp \n",
    "FROM records \n",
    "WHERE substr(timestamp, 0, 17) IN \n",
    "(SELECT timestamp \n",
    " FROM (SELECT substr(timestamp, 0, 17) as timestamp, COUNT(*) c \n",
    "       FROM records \n",
    "       GROUP BY substr(timestamp, 0, 17) \n",
    "       HAVING c > 1\n",
    "      )\n",
    ");"
   ]
  },
  {
   "cell_type": "markdown",
   "metadata": {},
   "source": [
    "## get readings with row id numbers\n"
   ]
  },
  {
   "cell_type": "code",
   "execution_count": 13,
   "metadata": {},
   "outputs": [
    {
     "name": "stdout",
     "output_type": "stream",
     "text": [
      " * sqlite:///./database/ANMlog_copy.db\n",
      "Done.\n"
     ]
    },
    {
     "data": {
      "text/html": [
       "<table>\n",
       "    <tr>\n",
       "        <th>rowid</th>\n",
       "        <th>datetime</th>\n",
       "        <th>seconds</th>\n",
       "    </tr>\n",
       "    <tr>\n",
       "        <td>223</td>\n",
       "        <td>2019-01-21 20:58</td>\n",
       "        <td>10</td>\n",
       "    </tr>\n",
       "    <tr>\n",
       "        <td>224</td>\n",
       "        <td>2019-01-21 20:58</td>\n",
       "        <td>57</td>\n",
       "    </tr>\n",
       "    <tr>\n",
       "        <td>10512</td>\n",
       "        <td>2019-05-31 21:54</td>\n",
       "        <td>17</td>\n",
       "    </tr>\n",
       "    <tr>\n",
       "        <td>10513</td>\n",
       "        <td>2019-05-31 21:54</td>\n",
       "        <td>20</td>\n",
       "    </tr>\n",
       "    <tr>\n",
       "        <td>10515</td>\n",
       "        <td>2019-05-31 22:00</td>\n",
       "        <td>28</td>\n",
       "    </tr>\n",
       "    <tr>\n",
       "        <td>10516</td>\n",
       "        <td>2019-05-31 22:00</td>\n",
       "        <td>38</td>\n",
       "    </tr>\n",
       "</table>"
      ],
      "text/plain": [
       "[(223, '2019-01-21 20:58', '10'),\n",
       " (224, '2019-01-21 20:58', '57'),\n",
       " (10512, '2019-05-31 21:54', '17'),\n",
       " (10513, '2019-05-31 21:54', '20'),\n",
       " (10515, '2019-05-31 22:00', '28'),\n",
       " (10516, '2019-05-31 22:00', '38')]"
      ]
     },
     "execution_count": 13,
     "metadata": {},
     "output_type": "execute_result"
    }
   ],
   "source": [
    "%%sql SELECT ROWID, substr(timestamp, 0, 17) as datetime, substr(timestamp, 18, 19) as seconds \n",
    "FROM records \n",
    "WHERE substr(timestamp, 0, 17)\n",
    "IN (SELECT timestamp \n",
    "    FROM (SELECT substr(timestamp, 0, 17) as timestamp, COUNT(*) c  \n",
    "          FROM records\n",
    "          GROUP BY substr(timestamp, 0, 17)\n",
    "          HAVING c > 1\n",
    "         )\n",
    "   )\n",
    ";"
   ]
  },
  {
   "cell_type": "markdown",
   "metadata": {},
   "source": [
    "so rows 224, 10513, 10516 have been identified as extraneous and can be deleted.  "
   ]
  },
  {
   "cell_type": "code",
   "execution_count": 14,
   "metadata": {},
   "outputs": [
    {
     "name": "stdout",
     "output_type": "stream",
     "text": [
      " * sqlite:///./database/ANMlog_copy.db\n",
      "Done.\n"
     ]
    },
    {
     "data": {
      "text/html": [
       "<table>\n",
       "    <tr>\n",
       "        <th>rowid</th>\n",
       "        <th>timestamp</th>\n",
       "    </tr>\n",
       "    <tr>\n",
       "        <td>224</td>\n",
       "        <td>2019-01-21 20:58:57</td>\n",
       "    </tr>\n",
       "    <tr>\n",
       "        <td>10513</td>\n",
       "        <td>2019-05-31 21:54:20</td>\n",
       "    </tr>\n",
       "    <tr>\n",
       "        <td>10516</td>\n",
       "        <td>2019-05-31 22:00:38</td>\n",
       "    </tr>\n",
       "</table>"
      ],
      "text/plain": [
       "[(224, '2019-01-21 20:58:57'),\n",
       " (10513, '2019-05-31 21:54:20'),\n",
       " (10516, '2019-05-31 22:00:38')]"
      ]
     },
     "execution_count": 14,
     "metadata": {},
     "output_type": "execute_result"
    }
   ],
   "source": [
    "%%sql\n",
    "select rowid, timestamp from records where rowid in (224, 10513, 10516);"
   ]
  },
  {
   "cell_type": "code",
   "execution_count": 15,
   "metadata": {},
   "outputs": [
    {
     "name": "stdout",
     "output_type": "stream",
     "text": [
      " * sqlite:///./database/ANMlog_copy.db\n",
      "3 rows affected.\n"
     ]
    },
    {
     "data": {
      "text/plain": [
       "[]"
      ]
     },
     "execution_count": 15,
     "metadata": {},
     "output_type": "execute_result"
    }
   ],
   "source": [
    "%%sql\n",
    "delete from records where rowid in (224, 10513, 10516);"
   ]
  },
  {
   "cell_type": "code",
   "execution_count": 16,
   "metadata": {},
   "outputs": [
    {
     "name": "stdout",
     "output_type": "stream",
     "text": [
      " * sqlite:///./database/ANMlog_copy.db\n",
      "Done.\n"
     ]
    },
    {
     "data": {
      "text/html": [
       "<table>\n",
       "    <tr>\n",
       "        <th>rowid</th>\n",
       "        <th>timestamp</th>\n",
       "    </tr>\n",
       "</table>"
      ],
      "text/plain": [
       "[]"
      ]
     },
     "execution_count": 16,
     "metadata": {},
     "output_type": "execute_result"
    }
   ],
   "source": [
    "%%sql\n",
    "SELECT ROWID, timestamp \n",
    "FROM records \n",
    "WHERE substr(timestamp, 0, 17) IN \n",
    "(SELECT timestamp \n",
    " FROM (SELECT substr(timestamp, 0, 17) as timestamp, COUNT(*) c \n",
    "       FROM records \n",
    "       GROUP BY substr(timestamp, 0, 17) \n",
    "       HAVING c > 1\n",
    "      )\n",
    ");"
   ]
  },
  {
   "cell_type": "raw",
   "metadata": {},
   "source": [
    "duplicate entries have now been removed  "
   ]
  },
  {
   "cell_type": "markdown",
   "metadata": {},
   "source": [
    "# convert json data to sql"
   ]
  },
  {
   "cell_type": "code",
   "execution_count": 17,
   "metadata": {},
   "outputs": [],
   "source": [
    "import json"
   ]
  },
  {
   "cell_type": "code",
   "execution_count": 18,
   "metadata": {},
   "outputs": [
    {
     "name": "stdout",
     "output_type": "stream",
     "text": [
      " * sqlite:///./database/ANMlog_copy.db\n",
      "Done.\n"
     ]
    }
   ],
   "source": [
    "data = %sql SELECT RowId as id, * FROM records;"
   ]
  },
  {
   "cell_type": "code",
   "execution_count": 19,
   "metadata": {},
   "outputs": [
    {
     "data": {
      "text/plain": [
       "(223, '2019-01-21 20:58:10', '{\"1\": [\"ok\", \"ok\", \"ok\"], \"1A\": [\"ok\", \"ok\", \"ok\"], \"2\": [\"ok\", \"ok\", \"ok\"], \"2A\": [\"ok\", \"ok\", \"ok\"], \"2B\": [\"remove\", \"ok\", \"ok\"], \"3\": [\"ok\", \"ok\", \"ok\"], \"4\": [\"ok\", \"ok\", \"ok\"], \"4A\": [\"ok\", \"ok\", \"ok\"], \"Core\": [\"ok\", \"ok\", \"ok\"]}')"
      ]
     },
     "execution_count": 19,
     "metadata": {},
     "output_type": "execute_result"
    }
   ],
   "source": [
    "data[222]"
   ]
  },
  {
   "cell_type": "code",
   "execution_count": 20,
   "metadata": {},
   "outputs": [
    {
     "data": {
      "text/plain": [
       "{'2': ['warning', 'ok', 'ok'],\n",
       " '2B': ['warning', 'ok', 'ok'],\n",
       " '2A': ['remove', 'ok', 'ok'],\n",
       " '4A': ['ok', 'ok', 'ok'],\n",
       " '3': ['ok', 'ok', 'ok'],\n",
       " 'Core': ['ok', 'ok', 'ok'],\n",
       " '1': ['ok', 'ok', 'ok'],\n",
       " '4': ['ok', 'ok', 'ok'],\n",
       " '1A': ['ok', 'ok', 'ok']}"
      ]
     },
     "execution_count": 20,
     "metadata": {},
     "output_type": "execute_result"
    }
   ],
   "source": [
    "anm = json.loads(data[0]['log'])\n",
    "anm"
   ]
  },
  {
   "cell_type": "code",
   "execution_count": 21,
   "metadata": {},
   "outputs": [
    {
     "data": {
      "text/plain": [
       "['warning', 'ok', 'ok']"
      ]
     },
     "execution_count": 21,
     "metadata": {},
     "output_type": "execute_result"
    }
   ],
   "source": [
    "anm['2']"
   ]
  },
  {
   "cell_type": "code",
   "execution_count": 22,
   "metadata": {},
   "outputs": [
    {
     "data": {
      "text/plain": [
       "'warning'"
      ]
     },
     "execution_count": 22,
     "metadata": {},
     "output_type": "execute_result"
    }
   ],
   "source": [
    "anm['2'][0]"
   ]
  }
 ],
 "metadata": {
  "kernelspec": {
   "display_name": "Python 3",
   "language": "python",
   "name": "python3"
  },
  "language_info": {
   "codemirror_mode": {
    "name": "ipython",
    "version": 2
   },
   "file_extension": ".py",
   "mimetype": "text/x-python",
   "name": "python",
   "nbconvert_exporter": "python",
   "pygments_lexer": "ipython2",
   "version": "2.7.17"
  }
 },
 "nbformat": 4,
 "nbformat_minor": 4
}
