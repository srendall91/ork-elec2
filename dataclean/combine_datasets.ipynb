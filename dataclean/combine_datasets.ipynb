{
 "cells": [
  {
   "cell_type": "markdown",
   "metadata": {},
   "source": [
    "function"
   ]
  },
  {
   "cell_type": "code",
   "execution_count": 1,
   "metadata": {},
   "outputs": [],
   "source": [
    "%load_ext sql"
   ]
  },
  {
   "cell_type": "code",
   "execution_count": 2,
   "metadata": {},
   "outputs": [
    {
     "data": {
      "text/plain": [
       "'Connected: @./database/eleclog_copy.db'"
      ]
     },
     "execution_count": 2,
     "metadata": {},
     "output_type": "execute_result"
    }
   ],
   "source": [
    "%sql sqlite:///./database/eleclog_copy.db"
   ]
  },
  {
   "cell_type": "code",
   "execution_count": 3,
   "metadata": {},
   "outputs": [
    {
     "name": "stdout",
     "output_type": "stream",
     "text": [
      " * sqlite:///./database/eleclog_copy.db\n",
      "Done.\n"
     ]
    }
   ],
   "source": [
    "readings_orig = %sql select * from readings order by timestamp;"
   ]
  },
  {
   "cell_type": "code",
   "execution_count": 4,
   "metadata": {},
   "outputs": [
    {
     "name": "stdout",
     "output_type": "stream",
     "text": [
      " * sqlite:///./database/eleclog_copy.db\n",
      "Done.\n"
     ]
    },
    {
     "data": {
      "text/html": [
       "<table>\n",
       "    <tr>\n",
       "        <th>sql</th>\n",
       "    </tr>\n",
       "    <tr>\n",
       "        <td>CREATE TABLE readings (timestamp DATETIME, demand NUMERIC, demand_max NUMERIC, anm_generated NUMERIC, non_anm_generated NUMERIC, total_generation_capacity NUMERIC)</td>\n",
       "    </tr>\n",
       "</table>"
      ],
      "text/plain": [
       "[('CREATE TABLE readings (timestamp DATETIME, demand NUMERIC, demand_max NUMERIC, anm_generated NUMERIC, non_anm_generated NUMERIC, total_generation_capacity NUMERIC)',)]"
      ]
     },
     "execution_count": 4,
     "metadata": {},
     "output_type": "execute_result"
    }
   ],
   "source": [
    "%sql SELECT sql FROM sqlite_master WHERE name = 'readings';"
   ]
  },
  {
   "cell_type": "code",
   "execution_count": 5,
   "metadata": {},
   "outputs": [
    {
     "data": {
      "text/plain": [
       "'Connected: @./database/ANMlog_copy.db'"
      ]
     },
     "execution_count": 5,
     "metadata": {},
     "output_type": "execute_result"
    }
   ],
   "source": [
    "%sql sqlite:///./database/ANMlog_copy.db"
   ]
  },
  {
   "cell_type": "code",
   "execution_count": 6,
   "metadata": {},
   "outputs": [
    {
     "name": "stdout",
     "output_type": "stream",
     "text": [
      " * sqlite:///./database/ANMlog_copy.db\n",
      "   sqlite:///./database/eleclog_copy.db\n",
      "Done.\n"
     ]
    },
    {
     "data": {
      "text/html": [
       "<table>\n",
       "    <tr>\n",
       "        <th>COUNT(*)</th>\n",
       "    </tr>\n",
       "    <tr>\n",
       "        <td>15711</td>\n",
       "    </tr>\n",
       "</table>"
      ],
      "text/plain": [
       "[(15711,)]"
      ]
     },
     "execution_count": 6,
     "metadata": {},
     "output_type": "execute_result"
    }
   ],
   "source": [
    "%sql SELECT COUNT(*) FROM records;"
   ]
  },
  {
   "cell_type": "code",
   "execution_count": 7,
   "metadata": {},
   "outputs": [
    {
     "name": "stdout",
     "output_type": "stream",
     "text": [
      " * sqlite:///./database/ANMlog_copy.db\n",
      "   sqlite:///./database/eleclog_copy.db\n",
      "Done.\n"
     ]
    }
   ],
   "source": [
    "records = %sql select * from records order by timestamp;"
   ]
  },
  {
   "cell_type": "code",
   "execution_count": 8,
   "metadata": {},
   "outputs": [
    {
     "name": "stdout",
     "output_type": "stream",
     "text": [
      "('2019-01-16 14:36:03', 23.22, 35.7, 12.478, 17.782, 57.099999999999994) ('2019-01-16 22:42:33', '{\"2\": [\"warning\", \"ok\", \"ok\"], \"2B\": [\"warning\", \"ok\", \"ok\"], \"2A\": [\"remove\", \"ok\", \"ok\"], \"4A\": [\"ok\", \"ok\", \"ok\"], \"3\": [\"ok\", \"ok\", \"ok\"], \"Core\": [\"ok\", \"ok\", \"ok\"], \"1\": [\"ok\", \"ok\", \"ok\"], \"4\": [\"ok\", \"ok\", \"ok\"], \"1A\": [\"ok\", \"ok\", \"ok\"]}')\n"
     ]
    }
   ],
   "source": [
    "print(readings_orig[0], records[0])"
   ]
  },
  {
   "cell_type": "code",
   "execution_count": 9,
   "metadata": {},
   "outputs": [],
   "source": [
    "import json"
   ]
  },
  {
   "cell_type": "code",
   "execution_count": 10,
   "metadata": {},
   "outputs": [
    {
     "data": {
      "text/plain": [
       "{'2': ['warning', 'ok', 'ok'],\n",
       " '2B': ['warning', 'ok', 'ok'],\n",
       " '2A': ['remove', 'ok', 'ok'],\n",
       " '4A': ['ok', 'ok', 'ok'],\n",
       " '3': ['ok', 'ok', 'ok'],\n",
       " 'Core': ['ok', 'ok', 'ok'],\n",
       " '1': ['ok', 'ok', 'ok'],\n",
       " '4': ['ok', 'ok', 'ok'],\n",
       " '1A': ['ok', 'ok', 'ok']}"
      ]
     },
     "execution_count": 10,
     "metadata": {},
     "output_type": "execute_result"
    }
   ],
   "source": [
    "record = json.loads(records[0]['log'])\n",
    "record"
   ]
  },
  {
   "cell_type": "code",
   "execution_count": 11,
   "metadata": {},
   "outputs": [
    {
     "name": "stdout",
     "output_type": "stream",
     "text": [
      " * sqlite:///./database/ANMlog_copy.db\n",
      "   sqlite:///./database/eleclog_copy.db\n",
      "Done.\n"
     ]
    },
    {
     "data": {
      "text/html": [
       "<table>\n",
       "    <tr>\n",
       "        <th>sql</th>\n",
       "    </tr>\n",
       "    <tr>\n",
       "        <td>CREATE TABLE records(timestamp DATETIME, log TEXT)</td>\n",
       "    </tr>\n",
       "</table>"
      ],
      "text/plain": [
       "[('CREATE TABLE records(timestamp DATETIME, log TEXT)',)]"
      ]
     },
     "execution_count": 11,
     "metadata": {},
     "output_type": "execute_result"
    }
   ],
   "source": [
    "%sql SELECT sql FROM sqlite_master WHERE name = 'records';"
   ]
  },
  {
   "cell_type": "code",
   "execution_count": 12,
   "metadata": {},
   "outputs": [
    {
     "name": "stdout",
     "output_type": "stream",
     "text": [
      " * sqlite:///./database/ANMlog_copy.db\n",
      "   sqlite:///./database/eleclog_copy.db\n",
      "(sqlite3.OperationalError) near \"timestamp\": syntax error\n",
      "[SQL: select \n",
      "    timestamp as start,\n",
      "    lead ( timestamp, 1, 0 ) over timestamp as end,\n",
      "    log as data\n",
      "from records limit 10 ;]\n",
      "(Background on this error at: http://sqlalche.me/e/e3q8)\n"
     ]
    }
   ],
   "source": [
    "%%sql\n",
    "select \n",
    "    timestamp as start,\n",
    "    lead ( timestamp, 1, 0 ) over timestamp as end,\n",
    "    log as data\n",
    "from records limit 10 ;"
   ]
  },
  {
   "cell_type": "code",
   "execution_count": 13,
   "metadata": {},
   "outputs": [
    {
     "name": "stdout",
     "output_type": "stream",
     "text": [
      " * sqlite:///./database/ANMlog_copy.db\n",
      "   sqlite:///./database/eleclog_copy.db\n",
      "Done.\n"
     ]
    },
    {
     "data": {
      "text/html": [
       "<table>\n",
       "    <tr>\n",
       "        <th>timestamp</th>\n",
       "        <th>log</th>\n",
       "    </tr>\n",
       "    <tr>\n",
       "        <td>2019-01-17 09:34:10</td>\n",
       "        <td>{&quot;1&quot;: [&quot;ok&quot;, &quot;ok&quot;, &quot;ok&quot;], &quot;1A&quot;: [&quot;ok&quot;, &quot;ok&quot;, &quot;ok&quot;], &quot;2&quot;: [&quot;warning&quot;, &quot;ok&quot;, &quot;ok&quot;], &quot;2A&quot;: [&quot;remove&quot;, &quot;ok&quot;, &quot;ok&quot;], &quot;2B&quot;: [&quot;warning&quot;, &quot;ok&quot;, &quot;ok&quot;], &quot;3&quot;: [&quot;ok&quot;, &quot;ok&quot;, &quot;ok&quot;], &quot;4&quot;: [&quot;ok&quot;, &quot;ok&quot;, &quot;ok&quot;], &quot;4A&quot;: [&quot;ok&quot;, &quot;ok&quot;, &quot;ok&quot;], &quot;Core&quot;: [&quot;ok&quot;, &quot;ok&quot;, &quot;ok&quot;]}</td>\n",
       "    </tr>\n",
       "    <tr>\n",
       "        <td>2019-01-17 09:31:11</td>\n",
       "        <td>{&quot;1&quot;: [&quot;ok&quot;, &quot;ok&quot;, &quot;ok&quot;], &quot;1A&quot;: [&quot;ok&quot;, &quot;ok&quot;, &quot;ok&quot;], &quot;2&quot;: [&quot;remove&quot;, &quot;ok&quot;, &quot;ok&quot;], &quot;2A&quot;: [&quot;remove&quot;, &quot;ok&quot;, &quot;ok&quot;], &quot;2B&quot;: [&quot;warning&quot;, &quot;ok&quot;, &quot;ok&quot;], &quot;3&quot;: [&quot;ok&quot;, &quot;ok&quot;, &quot;ok&quot;], &quot;4&quot;: [&quot;ok&quot;, &quot;ok&quot;, &quot;ok&quot;], &quot;4A&quot;: [&quot;ok&quot;, &quot;ok&quot;, &quot;ok&quot;], &quot;Core&quot;: [&quot;ok&quot;, &quot;ok&quot;, &quot;ok&quot;]}</td>\n",
       "    </tr>\n",
       "</table>"
      ],
      "text/plain": [
       "[('2019-01-17 09:34:10', '{\"1\": [\"ok\", \"ok\", \"ok\"], \"1A\": [\"ok\", \"ok\", \"ok\"], \"2\": [\"warning\", \"ok\", \"ok\"], \"2A\": [\"remove\", \"ok\", \"ok\"], \"2B\": [\"warning\", \"ok\", \"ok\"], \"3\": [\"ok\", \"ok\", \"ok\"], \"4\": [\"ok\", \"ok\", \"ok\"], \"4A\": [\"ok\", \"ok\", \"ok\"], \"Core\": [\"ok\", \"ok\", \"ok\"]}'),\n",
       " ('2019-01-17 09:31:11', '{\"1\": [\"ok\", \"ok\", \"ok\"], \"1A\": [\"ok\", \"ok\", \"ok\"], \"2\": [\"remove\", \"ok\", \"ok\"], \"2A\": [\"remove\", \"ok\", \"ok\"], \"2B\": [\"warning\", \"ok\", \"ok\"], \"3\": [\"ok\", \"ok\", \"ok\"], \"4\": [\"ok\", \"ok\", \"ok\"], \"4A\": [\"ok\", \"ok\", \"ok\"], \"Core\": [\"ok\", \"ok\", \"ok\"]}')]"
      ]
     },
     "execution_count": 13,
     "metadata": {},
     "output_type": "execute_result"
    }
   ],
   "source": [
    "%%sql\n",
    "select * from records where timestamp < '2019-01-17 09:35:11' order by timestamp desc limit 2;\n"
   ]
  },
  {
   "cell_type": "code",
   "execution_count": 14,
   "metadata": {},
   "outputs": [
    {
     "name": "stdout",
     "output_type": "stream",
     "text": [
      " * sqlite:///./database/ANMlog_copy.db\n",
      "   sqlite:///./database/eleclog_copy.db\n",
      "(sqlite3.OperationalError) no such table: readings\n",
      "[SQL: select count(*) from readings;]\n",
      "(Background on this error at: http://sqlalche.me/e/e3q8)\n"
     ]
    }
   ],
   "source": [
    "%sql select count(*) from readings;"
   ]
  },
  {
   "cell_type": "code",
   "execution_count": 15,
   "metadata": {},
   "outputs": [
    {
     "data": {
      "text/plain": [
       "'Connected: @./database/combined.db'"
      ]
     },
     "execution_count": 15,
     "metadata": {},
     "output_type": "execute_result"
    }
   ],
   "source": [
    "%sql sqlite:///./database/combined.db"
   ]
  },
  {
   "cell_type": "markdown",
   "metadata": {},
   "source": [
    "%sql CREATE TABLE readings (timestamp DATETIME, demand NUMERIC, demand_max NUMERIC, anm_generated NUMERIC, non_anm_generated NUMERIC, total_generation_capacity NUMERIC);"
   ]
  },
  {
   "cell_type": "markdown",
   "metadata": {},
   "source": [
    "%sql CREATE TABLE records(timestamp DATETIME, log TEXT);"
   ]
  },
  {
   "cell_type": "code",
   "execution_count": 16,
   "metadata": {},
   "outputs": [
    {
     "data": {
      "text/html": [
       "<div>\n",
       "<style scoped>\n",
       "    .dataframe tbody tr th:only-of-type {\n",
       "        vertical-align: middle;\n",
       "    }\n",
       "\n",
       "    .dataframe tbody tr th {\n",
       "        vertical-align: top;\n",
       "    }\n",
       "\n",
       "    .dataframe thead th {\n",
       "        text-align: right;\n",
       "    }\n",
       "</style>\n",
       "<table border=\"1\" class=\"dataframe\">\n",
       "  <thead>\n",
       "    <tr style=\"text-align: right;\">\n",
       "      <th></th>\n",
       "      <th>timestamp</th>\n",
       "      <th>log</th>\n",
       "    </tr>\n",
       "  </thead>\n",
       "  <tbody>\n",
       "    <tr>\n",
       "      <th>0</th>\n",
       "      <td>2019-01-16 22:42:33</td>\n",
       "      <td>{\"2\": [\"warning\", \"ok\", \"ok\"], \"2B\": [\"warning...</td>\n",
       "    </tr>\n",
       "    <tr>\n",
       "      <th>1</th>\n",
       "      <td>2019-01-16 22:46:25</td>\n",
       "      <td>{\"1\": [\"ok\", \"ok\", \"ok\"], \"1A\": [\"ok\", \"ok\", \"...</td>\n",
       "    </tr>\n",
       "    <tr>\n",
       "      <th>2</th>\n",
       "      <td>2019-01-16 22:59:22</td>\n",
       "      <td>{\"1\": [\"ok\", \"ok\", \"ok\"], \"1A\": [\"ok\", \"ok\", \"...</td>\n",
       "    </tr>\n",
       "    <tr>\n",
       "      <th>3</th>\n",
       "      <td>2019-01-16 23:03:05</td>\n",
       "      <td>{\"1\": [\"ok\", \"ok\", \"ok\"], \"1A\": [\"ok\", \"ok\", \"...</td>\n",
       "    </tr>\n",
       "    <tr>\n",
       "      <th>4</th>\n",
       "      <td>2019-01-16 23:06:26</td>\n",
       "      <td>{\"1\": [\"ok\", \"ok\", \"ok\"], \"1A\": [\"ok\", \"ok\", \"...</td>\n",
       "    </tr>\n",
       "  </tbody>\n",
       "</table>\n",
       "</div>"
      ],
      "text/plain": [
       "             timestamp                                                log\n",
       "0  2019-01-16 22:42:33  {\"2\": [\"warning\", \"ok\", \"ok\"], \"2B\": [\"warning...\n",
       "1  2019-01-16 22:46:25  {\"1\": [\"ok\", \"ok\", \"ok\"], \"1A\": [\"ok\", \"ok\", \"...\n",
       "2  2019-01-16 22:59:22  {\"1\": [\"ok\", \"ok\", \"ok\"], \"1A\": [\"ok\", \"ok\", \"...\n",
       "3  2019-01-16 23:03:05  {\"1\": [\"ok\", \"ok\", \"ok\"], \"1A\": [\"ok\", \"ok\", \"...\n",
       "4  2019-01-16 23:06:26  {\"1\": [\"ok\", \"ok\", \"ok\"], \"1A\": [\"ok\", \"ok\", \"..."
      ]
     },
     "execution_count": 16,
     "metadata": {},
     "output_type": "execute_result"
    }
   ],
   "source": [
    "records.DataFrame().head()\n"
   ]
  },
  {
   "cell_type": "code",
   "execution_count": 17,
   "metadata": {},
   "outputs": [],
   "source": [
    "records = records.DataFrame()\n",
    "#%sql persist records"
   ]
  },
  {
   "cell_type": "code",
   "execution_count": 18,
   "metadata": {},
   "outputs": [],
   "source": [
    "readings = readings_orig.DataFrame()"
   ]
  },
  {
   "cell_type": "code",
   "execution_count": 22,
   "metadata": {},
   "outputs": [
    {
     "name": "stdout",
     "output_type": "stream",
     "text": [
      "   sqlite:///./database/ANMlog_copy.db\n",
      " * sqlite:///./database/combined.db\n",
      "   sqlite:///./database/eleclog_copy.db\n"
     ]
    },
    {
     "data": {
      "text/plain": [
       "'Persisted readings'"
      ]
     },
     "execution_count": 22,
     "metadata": {},
     "output_type": "execute_result"
    }
   ],
   "source": [
    "# %sql persist readings"
   ]
  },
  {
   "cell_type": "code",
   "execution_count": 23,
   "metadata": {},
   "outputs": [
    {
     "name": "stdout",
     "output_type": "stream",
     "text": [
      "   sqlite:///./database/ANMlog_copy.db\n",
      " * sqlite:///./database/combined.db\n",
      "   sqlite:///./database/eleclog_copy.db\n",
      "Done.\n"
     ]
    },
    {
     "data": {
      "text/html": [
       "<table>\n",
       "    <tr>\n",
       "        <th>index</th>\n",
       "        <th>timestamp</th>\n",
       "        <th>demand</th>\n",
       "        <th>demand_max</th>\n",
       "        <th>anm_generated</th>\n",
       "        <th>non_anm_generated</th>\n",
       "        <th>total_generation_capacity</th>\n",
       "        <th>index_1</th>\n",
       "        <th>timestamp_1</th>\n",
       "        <th>log</th>\n",
       "    </tr>\n",
       "    <tr>\n",
       "        <td>470</td>\n",
       "        <td>2019-01-16 22:42:03</td>\n",
       "        <td>19.66</td>\n",
       "        <td>35.7</td>\n",
       "        <td>17.145</td>\n",
       "        <td>17.075</td>\n",
       "        <td>57.099999999999994</td>\n",
       "        <td>0</td>\n",
       "        <td>2019-01-16 22:42:33</td>\n",
       "        <td>{&quot;2&quot;: [&quot;warning&quot;, &quot;ok&quot;, &quot;ok&quot;], &quot;2B&quot;: [&quot;warning&quot;, &quot;ok&quot;, &quot;ok&quot;], &quot;2A&quot;: [&quot;remove&quot;, &quot;ok&quot;, &quot;ok&quot;], &quot;4A&quot;: [&quot;ok&quot;, &quot;ok&quot;, &quot;ok&quot;], &quot;3&quot;: [&quot;ok&quot;, &quot;ok&quot;, &quot;ok&quot;], &quot;Core&quot;: [&quot;ok&quot;, &quot;ok&quot;, &quot;ok&quot;], &quot;1&quot;: [&quot;ok&quot;, &quot;ok&quot;, &quot;ok&quot;], &quot;4&quot;: [&quot;ok&quot;, &quot;ok&quot;, &quot;ok&quot;], &quot;1A&quot;: [&quot;ok&quot;, &quot;ok&quot;, &quot;ok&quot;]}</td>\n",
       "    </tr>\n",
       "    <tr>\n",
       "        <td>474</td>\n",
       "        <td>2019-01-16 22:46:03</td>\n",
       "        <td>18.7</td>\n",
       "        <td>35.7</td>\n",
       "        <td>14.572</td>\n",
       "        <td>16.457</td>\n",
       "        <td>57.1</td>\n",
       "        <td>1</td>\n",
       "        <td>2019-01-16 22:46:25</td>\n",
       "        <td>{&quot;1&quot;: [&quot;ok&quot;, &quot;ok&quot;, &quot;ok&quot;], &quot;1A&quot;: [&quot;ok&quot;, &quot;ok&quot;, &quot;ok&quot;], &quot;2&quot;: [&quot;warning&quot;, &quot;ok&quot;, &quot;ok&quot;], &quot;2A&quot;: [&quot;remove&quot;, &quot;ok&quot;, &quot;ok&quot;], &quot;2B&quot;: [&quot;warning&quot;, &quot;ok&quot;, &quot;ok&quot;], &quot;3&quot;: [&quot;ok&quot;, &quot;ok&quot;, &quot;ok&quot;], &quot;4&quot;: [&quot;ok&quot;, &quot;ok&quot;, &quot;ok&quot;], &quot;4A&quot;: [&quot;ok&quot;, &quot;ok&quot;, &quot;ok&quot;], &quot;Core&quot;: [&quot;ok&quot;, &quot;ok&quot;, &quot;ok&quot;]}</td>\n",
       "    </tr>\n",
       "    <tr>\n",
       "        <td>487</td>\n",
       "        <td>2019-01-16 22:59:03</td>\n",
       "        <td>18.28</td>\n",
       "        <td>35.7</td>\n",
       "        <td>15.618</td>\n",
       "        <td>16.093</td>\n",
       "        <td>57.099999999999994</td>\n",
       "        <td>2</td>\n",
       "        <td>2019-01-16 22:59:22</td>\n",
       "        <td>{&quot;1&quot;: [&quot;ok&quot;, &quot;ok&quot;, &quot;ok&quot;], &quot;1A&quot;: [&quot;ok&quot;, &quot;ok&quot;, &quot;ok&quot;], &quot;2&quot;: [&quot;ok&quot;, &quot;ok&quot;, &quot;ok&quot;], &quot;2A&quot;: [&quot;remove&quot;, &quot;ok&quot;, &quot;ok&quot;], &quot;2B&quot;: [&quot;warning&quot;, &quot;ok&quot;, &quot;ok&quot;], &quot;3&quot;: [&quot;ok&quot;, &quot;ok&quot;, &quot;ok&quot;], &quot;4&quot;: [&quot;ok&quot;, &quot;ok&quot;, &quot;ok&quot;], &quot;4A&quot;: [&quot;ok&quot;, &quot;ok&quot;, &quot;ok&quot;], &quot;Core&quot;: [&quot;ok&quot;, &quot;ok&quot;, &quot;ok&quot;]}</td>\n",
       "    </tr>\n",
       "    <tr>\n",
       "        <td>491</td>\n",
       "        <td>2019-01-16 23:03:05</td>\n",
       "        <td>18.56</td>\n",
       "        <td>35.7</td>\n",
       "        <td>13.922</td>\n",
       "        <td>18.143</td>\n",
       "        <td>57.1</td>\n",
       "        <td>3</td>\n",
       "        <td>2019-01-16 23:03:05</td>\n",
       "        <td>{&quot;1&quot;: [&quot;ok&quot;, &quot;ok&quot;, &quot;ok&quot;], &quot;1A&quot;: [&quot;ok&quot;, &quot;ok&quot;, &quot;ok&quot;], &quot;2&quot;: [&quot;ok&quot;, &quot;ok&quot;, &quot;ok&quot;], &quot;2A&quot;: [&quot;remove&quot;, &quot;ok&quot;, &quot;ok&quot;], &quot;2B&quot;: [&quot;warning&quot;, &quot;ok&quot;, &quot;ok&quot;], &quot;3&quot;: [&quot;ok&quot;, &quot;ok&quot;, &quot;ok&quot;], &quot;4&quot;: [&quot;ok&quot;, &quot;ok&quot;, &quot;ok&quot;], &quot;4A&quot;: [&quot;ok&quot;, &quot;ok&quot;, &quot;ok&quot;], &quot;Core&quot;: [&quot;ok&quot;, &quot;ok&quot;, &quot;ok&quot;]}</td>\n",
       "    </tr>\n",
       "    <tr>\n",
       "        <td>494</td>\n",
       "        <td>2019-01-16 23:06:03</td>\n",
       "        <td>18.2</td>\n",
       "        <td>35.7</td>\n",
       "        <td>16.457</td>\n",
       "        <td>17.996</td>\n",
       "        <td>57.099999999999994</td>\n",
       "        <td>4</td>\n",
       "        <td>2019-01-16 23:06:26</td>\n",
       "        <td>{&quot;1&quot;: [&quot;ok&quot;, &quot;ok&quot;, &quot;ok&quot;], &quot;1A&quot;: [&quot;ok&quot;, &quot;ok&quot;, &quot;ok&quot;], &quot;2&quot;: [&quot;warning&quot;, &quot;ok&quot;, &quot;ok&quot;], &quot;2A&quot;: [&quot;remove&quot;, &quot;ok&quot;, &quot;ok&quot;], &quot;2B&quot;: [&quot;warning&quot;, &quot;ok&quot;, &quot;ok&quot;], &quot;3&quot;: [&quot;ok&quot;, &quot;ok&quot;, &quot;ok&quot;], &quot;4&quot;: [&quot;ok&quot;, &quot;ok&quot;, &quot;ok&quot;], &quot;4A&quot;: [&quot;ok&quot;, &quot;ok&quot;, &quot;ok&quot;], &quot;Core&quot;: [&quot;ok&quot;, &quot;ok&quot;, &quot;ok&quot;]}</td>\n",
       "    </tr>\n",
       "    <tr>\n",
       "        <td>1106</td>\n",
       "        <td>2019-01-17 09:18:05</td>\n",
       "        <td>23.16</td>\n",
       "        <td>35.7</td>\n",
       "        <td>15.016</td>\n",
       "        <td>17.61</td>\n",
       "        <td>57.1</td>\n",
       "        <td>5</td>\n",
       "        <td>2019-01-17 09:18:10</td>\n",
       "        <td>{&quot;1&quot;: [&quot;ok&quot;, &quot;ok&quot;, &quot;ok&quot;], &quot;1A&quot;: [&quot;ok&quot;, &quot;ok&quot;, &quot;ok&quot;], &quot;2&quot;: [&quot;ok&quot;, &quot;ok&quot;, &quot;ok&quot;], &quot;2A&quot;: [&quot;warning&quot;, &quot;ok&quot;, &quot;ok&quot;], &quot;2B&quot;: [&quot;ok&quot;, &quot;ok&quot;, &quot;ok&quot;], &quot;3&quot;: [&quot;ok&quot;, &quot;ok&quot;, &quot;ok&quot;], &quot;4&quot;: [&quot;ok&quot;, &quot;ok&quot;, &quot;ok&quot;], &quot;4A&quot;: [&quot;ok&quot;, &quot;ok&quot;, &quot;ok&quot;], &quot;Core&quot;: [&quot;ok&quot;, &quot;ok&quot;, &quot;ok&quot;]}</td>\n",
       "    </tr>\n",
       "    <tr>\n",
       "        <td>1107</td>\n",
       "        <td>2019-01-17 09:19:05</td>\n",
       "        <td>23.62</td>\n",
       "        <td>35.7</td>\n",
       "        <td>16.485</td>\n",
       "        <td>17.773</td>\n",
       "        <td>57.099999999999994</td>\n",
       "        <td>6</td>\n",
       "        <td>2019-01-17 09:19:10</td>\n",
       "        <td>{&quot;1&quot;: [&quot;ok&quot;, &quot;ok&quot;, &quot;ok&quot;], &quot;1A&quot;: [&quot;ok&quot;, &quot;ok&quot;, &quot;ok&quot;], &quot;2&quot;: [&quot;ok&quot;, &quot;ok&quot;, &quot;ok&quot;], &quot;2A&quot;: [&quot;ok&quot;, &quot;ok&quot;, &quot;ok&quot;], &quot;2B&quot;: [&quot;ok&quot;, &quot;ok&quot;, &quot;ok&quot;], &quot;3&quot;: [&quot;ok&quot;, &quot;ok&quot;, &quot;ok&quot;], &quot;4&quot;: [&quot;ok&quot;, &quot;ok&quot;, &quot;ok&quot;], &quot;4A&quot;: [&quot;ok&quot;, &quot;ok&quot;, &quot;ok&quot;], &quot;Core&quot;: [&quot;ok&quot;, &quot;ok&quot;, &quot;ok&quot;]}</td>\n",
       "    </tr>\n",
       "    <tr>\n",
       "        <td>1109</td>\n",
       "        <td>2019-01-17 09:21:05</td>\n",
       "        <td>23.43</td>\n",
       "        <td>35.7</td>\n",
       "        <td>15.955</td>\n",
       "        <td>18.045</td>\n",
       "        <td>57.1</td>\n",
       "        <td>7</td>\n",
       "        <td>2019-01-17 09:21:11</td>\n",
       "        <td>{&quot;1&quot;: [&quot;ok&quot;, &quot;ok&quot;, &quot;ok&quot;], &quot;1A&quot;: [&quot;ok&quot;, &quot;ok&quot;, &quot;ok&quot;], &quot;2&quot;: [&quot;warning&quot;, &quot;ok&quot;, &quot;ok&quot;], &quot;2A&quot;: [&quot;ok&quot;, &quot;ok&quot;, &quot;ok&quot;], &quot;2B&quot;: [&quot;ok&quot;, &quot;ok&quot;, &quot;ok&quot;], &quot;3&quot;: [&quot;ok&quot;, &quot;ok&quot;, &quot;ok&quot;], &quot;4&quot;: [&quot;ok&quot;, &quot;ok&quot;, &quot;ok&quot;], &quot;4A&quot;: [&quot;ok&quot;, &quot;ok&quot;, &quot;ok&quot;], &quot;Core&quot;: [&quot;ok&quot;, &quot;ok&quot;, &quot;ok&quot;]}</td>\n",
       "    </tr>\n",
       "    <tr>\n",
       "        <td>1115</td>\n",
       "        <td>2019-01-17 09:27:05</td>\n",
       "        <td>24.03</td>\n",
       "        <td>35.7</td>\n",
       "        <td>15.882</td>\n",
       "        <td>17.89</td>\n",
       "        <td>57.1</td>\n",
       "        <td>8</td>\n",
       "        <td>2019-01-17 09:27:10</td>\n",
       "        <td>{&quot;1&quot;: [&quot;ok&quot;, &quot;ok&quot;, &quot;ok&quot;], &quot;1A&quot;: [&quot;ok&quot;, &quot;ok&quot;, &quot;ok&quot;], &quot;2&quot;: [&quot;remove&quot;, &quot;ok&quot;, &quot;ok&quot;], &quot;2A&quot;: [&quot;remove&quot;, &quot;ok&quot;, &quot;ok&quot;], &quot;2B&quot;: [&quot;warning&quot;, &quot;ok&quot;, &quot;ok&quot;], &quot;3&quot;: [&quot;ok&quot;, &quot;ok&quot;, &quot;ok&quot;], &quot;4&quot;: [&quot;ok&quot;, &quot;ok&quot;, &quot;ok&quot;], &quot;4A&quot;: [&quot;ok&quot;, &quot;ok&quot;, &quot;ok&quot;], &quot;Core&quot;: [&quot;ok&quot;, &quot;ok&quot;, &quot;ok&quot;]}</td>\n",
       "    </tr>\n",
       "    <tr>\n",
       "        <td>1117</td>\n",
       "        <td>2019-01-17 09:29:05</td>\n",
       "        <td>23.45</td>\n",
       "        <td>35.7</td>\n",
       "        <td>15.7</td>\n",
       "        <td>17.904</td>\n",
       "        <td>57.099999999999994</td>\n",
       "        <td>9</td>\n",
       "        <td>2019-01-17 09:29:11</td>\n",
       "        <td>{&quot;1&quot;: [&quot;ok&quot;, &quot;ok&quot;, &quot;ok&quot;], &quot;1A&quot;: [&quot;ok&quot;, &quot;ok&quot;, &quot;ok&quot;], &quot;2&quot;: [&quot;warning&quot;, &quot;ok&quot;, &quot;ok&quot;], &quot;2A&quot;: [&quot;remove&quot;, &quot;ok&quot;, &quot;ok&quot;], &quot;2B&quot;: [&quot;warning&quot;, &quot;ok&quot;, &quot;ok&quot;], &quot;3&quot;: [&quot;ok&quot;, &quot;ok&quot;, &quot;ok&quot;], &quot;4&quot;: [&quot;ok&quot;, &quot;ok&quot;, &quot;ok&quot;], &quot;4A&quot;: [&quot;ok&quot;, &quot;ok&quot;, &quot;ok&quot;], &quot;Core&quot;: [&quot;ok&quot;, &quot;ok&quot;, &quot;ok&quot;]}</td>\n",
       "    </tr>\n",
       "</table>"
      ],
      "text/plain": [
       "[(470, '2019-01-16 22:42:03', 19.66, 35.7, 17.145, 17.075, 57.099999999999994, 0, '2019-01-16 22:42:33', '{\"2\": [\"warning\", \"ok\", \"ok\"], \"2B\": [\"warning\", \"ok\", \"ok\"], \"2A\": [\"remove\", \"ok\", \"ok\"], \"4A\": [\"ok\", \"ok\", \"ok\"], \"3\": [\"ok\", \"ok\", \"ok\"], \"Core\": [\"ok\", \"ok\", \"ok\"], \"1\": [\"ok\", \"ok\", \"ok\"], \"4\": [\"ok\", \"ok\", \"ok\"], \"1A\": [\"ok\", \"ok\", \"ok\"]}'),\n",
       " (474, '2019-01-16 22:46:03', 18.7, 35.7, 14.572, 16.457, 57.1, 1, '2019-01-16 22:46:25', '{\"1\": [\"ok\", \"ok\", \"ok\"], \"1A\": [\"ok\", \"ok\", \"ok\"], \"2\": [\"warning\", \"ok\", \"ok\"], \"2A\": [\"remove\", \"ok\", \"ok\"], \"2B\": [\"warning\", \"ok\", \"ok\"], \"3\": [\"ok\", \"ok\", \"ok\"], \"4\": [\"ok\", \"ok\", \"ok\"], \"4A\": [\"ok\", \"ok\", \"ok\"], \"Core\": [\"ok\", \"ok\", \"ok\"]}'),\n",
       " (487, '2019-01-16 22:59:03', 18.28, 35.7, 15.618, 16.093, 57.099999999999994, 2, '2019-01-16 22:59:22', '{\"1\": [\"ok\", \"ok\", \"ok\"], \"1A\": [\"ok\", \"ok\", \"ok\"], \"2\": [\"ok\", \"ok\", \"ok\"], \"2A\": [\"remove\", \"ok\", \"ok\"], \"2B\": [\"warning\", \"ok\", \"ok\"], \"3\": [\"ok\", \"ok\", \"ok\"], \"4\": [\"ok\", \"ok\", \"ok\"], \"4A\": [\"ok\", \"ok\", \"ok\"], \"Core\": [\"ok\", \"ok\", \"ok\"]}'),\n",
       " (491, '2019-01-16 23:03:05', 18.56, 35.7, 13.922, 18.143, 57.1, 3, '2019-01-16 23:03:05', '{\"1\": [\"ok\", \"ok\", \"ok\"], \"1A\": [\"ok\", \"ok\", \"ok\"], \"2\": [\"ok\", \"ok\", \"ok\"], \"2A\": [\"remove\", \"ok\", \"ok\"], \"2B\": [\"warning\", \"ok\", \"ok\"], \"3\": [\"ok\", \"ok\", \"ok\"], \"4\": [\"ok\", \"ok\", \"ok\"], \"4A\": [\"ok\", \"ok\", \"ok\"], \"Core\": [\"ok\", \"ok\", \"ok\"]}'),\n",
       " (494, '2019-01-16 23:06:03', 18.2, 35.7, 16.457, 17.996, 57.099999999999994, 4, '2019-01-16 23:06:26', '{\"1\": [\"ok\", \"ok\", \"ok\"], \"1A\": [\"ok\", \"ok\", \"ok\"], \"2\": [\"warning\", \"ok\", \"ok\"], \"2A\": [\"remove\", \"ok\", \"ok\"], \"2B\": [\"warning\", \"ok\", \"ok\"], \"3\": [\"ok\", \"ok\", \"ok\"], \"4\": [\"ok\", \"ok\", \"ok\"], \"4A\": [\"ok\", \"ok\", \"ok\"], \"Core\": [\"ok\", \"ok\", \"ok\"]}'),\n",
       " (1106, '2019-01-17 09:18:05', 23.16, 35.7, 15.016, 17.61, 57.1, 5, '2019-01-17 09:18:10', '{\"1\": [\"ok\", \"ok\", \"ok\"], \"1A\": [\"ok\", \"ok\", \"ok\"], \"2\": [\"ok\", \"ok\", \"ok\"], \"2A\": [\"warning\", \"ok\", \"ok\"], \"2B\": [\"ok\", \"ok\", \"ok\"], \"3\": [\"ok\", \"ok\", \"ok\"], \"4\": [\"ok\", \"ok\", \"ok\"], \"4A\": [\"ok\", \"ok\", \"ok\"], \"Core\": [\"ok\", \"ok\", \"ok\"]}'),\n",
       " (1107, '2019-01-17 09:19:05', 23.62, 35.7, 16.485, 17.773, 57.099999999999994, 6, '2019-01-17 09:19:10', '{\"1\": [\"ok\", \"ok\", \"ok\"], \"1A\": [\"ok\", \"ok\", \"ok\"], \"2\": [\"ok\", \"ok\", \"ok\"], \"2A\": [\"ok\", \"ok\", \"ok\"], \"2B\": [\"ok\", \"ok\", \"ok\"], \"3\": [\"ok\", \"ok\", \"ok\"], \"4\": [\"ok\", \"ok\", \"ok\"], \"4A\": [\"ok\", \"ok\", \"ok\"], \"Core\": [\"ok\", \"ok\", \"ok\"]}'),\n",
       " (1109, '2019-01-17 09:21:05', 23.43, 35.7, 15.955, 18.045, 57.1, 7, '2019-01-17 09:21:11', '{\"1\": [\"ok\", \"ok\", \"ok\"], \"1A\": [\"ok\", \"ok\", \"ok\"], \"2\": [\"warning\", \"ok\", \"ok\"], \"2A\": [\"ok\", \"ok\", \"ok\"], \"2B\": [\"ok\", \"ok\", \"ok\"], \"3\": [\"ok\", \"ok\", \"ok\"], \"4\": [\"ok\", \"ok\", \"ok\"], \"4A\": [\"ok\", \"ok\", \"ok\"], \"Core\": [\"ok\", \"ok\", \"ok\"]}'),\n",
       " (1115, '2019-01-17 09:27:05', 24.03, 35.7, 15.882, 17.89, 57.1, 8, '2019-01-17 09:27:10', '{\"1\": [\"ok\", \"ok\", \"ok\"], \"1A\": [\"ok\", \"ok\", \"ok\"], \"2\": [\"remove\", \"ok\", \"ok\"], \"2A\": [\"remove\", \"ok\", \"ok\"], \"2B\": [\"warning\", \"ok\", \"ok\"], \"3\": [\"ok\", \"ok\", \"ok\"], \"4\": [\"ok\", \"ok\", \"ok\"], \"4A\": [\"ok\", \"ok\", \"ok\"], \"Core\": [\"ok\", \"ok\", \"ok\"]}'),\n",
       " (1117, '2019-01-17 09:29:05', 23.45, 35.7, 15.7, 17.904, 57.099999999999994, 9, '2019-01-17 09:29:11', '{\"1\": [\"ok\", \"ok\", \"ok\"], \"1A\": [\"ok\", \"ok\", \"ok\"], \"2\": [\"warning\", \"ok\", \"ok\"], \"2A\": [\"remove\", \"ok\", \"ok\"], \"2B\": [\"warning\", \"ok\", \"ok\"], \"3\": [\"ok\", \"ok\", \"ok\"], \"4\": [\"ok\", \"ok\", \"ok\"], \"4A\": [\"ok\", \"ok\", \"ok\"], \"Core\": [\"ok\", \"ok\", \"ok\"]}')]"
      ]
     },
     "execution_count": 23,
     "metadata": {},
     "output_type": "execute_result"
    }
   ],
   "source": [
    "%%sql\n",
    "select\n",
    "    *\n",
    "from\n",
    "    readings\n",
    "left join\n",
    "    records\n",
    "where\n",
    "    substr(readings.timestamp, 0, 17) == substr(records.timestamp, 0, 17)\n",
    "limit\n",
    "    10\n",
    "    ;"
   ]
  },
  {
   "cell_type": "code",
   "execution_count": 20,
   "metadata": {},
   "outputs": [
    {
     "name": "stdout",
     "output_type": "stream",
     "text": [
      "   sqlite:///./database/ANMlog_copy.db\n",
      " * sqlite:///./database/combined.db\n",
      "   sqlite:///./database/eleclog_copy.db\n",
      "Done.\n",
      "2019-02-06 18:14:09 2019-02-06 18:13:09\n",
      "   sqlite:///./database/ANMlog_copy.db\n",
      " * sqlite:///./database/combined.db\n",
      "   sqlite:///./database/eleclog_copy.db\n",
      "Done.\n",
      "2019-02-06 18:15:05 2019-02-06 18:14:13\n",
      "   sqlite:///./database/ANMlog_copy.db\n",
      " * sqlite:///./database/combined.db\n",
      "   sqlite:///./database/eleclog_copy.db\n",
      "Done.\n",
      "2019-02-06 18:16:05 2019-02-06 18:14:13\n",
      "   sqlite:///./database/ANMlog_copy.db\n",
      " * sqlite:///./database/combined.db\n",
      "   sqlite:///./database/eleclog_copy.db\n",
      "Done.\n",
      "2019-02-06 18:17:05 2019-02-06 18:14:13\n",
      "   sqlite:///./database/ANMlog_copy.db\n",
      " * sqlite:///./database/combined.db\n",
      "   sqlite:///./database/eleclog_copy.db\n",
      "Done.\n",
      "2019-02-06 18:18:05 2019-02-06 18:14:13\n",
      "   sqlite:///./database/ANMlog_copy.db\n",
      " * sqlite:///./database/combined.db\n",
      "   sqlite:///./database/eleclog_copy.db\n",
      "Done.\n",
      "2019-02-06 18:19:05 2019-02-06 18:18:10\n",
      "   sqlite:///./database/ANMlog_copy.db\n",
      " * sqlite:///./database/combined.db\n",
      "   sqlite:///./database/eleclog_copy.db\n",
      "Done.\n",
      "2019-02-06 18:20:05 2019-02-06 18:18:10\n",
      "   sqlite:///./database/ANMlog_copy.db\n",
      " * sqlite:///./database/combined.db\n",
      "   sqlite:///./database/eleclog_copy.db\n",
      "Done.\n",
      "2019-02-06 18:21:04 2019-02-06 18:20:09\n",
      "   sqlite:///./database/ANMlog_copy.db\n",
      " * sqlite:///./database/combined.db\n",
      "   sqlite:///./database/eleclog_copy.db\n",
      "Done.\n",
      "2019-02-06 18:22:05 2019-02-06 18:20:09\n",
      "   sqlite:///./database/ANMlog_copy.db\n",
      " * sqlite:///./database/combined.db\n",
      "   sqlite:///./database/eleclog_copy.db\n",
      "Done.\n",
      "2019-02-06 18:23:05 2019-02-06 18:20:09\n"
     ]
    }
   ],
   "source": [
    "for reading in readings_orig[30000:30010]:\n",
    "#reading = readings[1005]\n",
    "    readingdate= \"'\"+reading['timestamp']+\"'\"\n",
    "    anmstatus = %sql select * from records where timestamp < $readingdate order by timestamp desc limit 1;\n",
    "    print(reading['timestamp'], anmstatus[0]['timestamp'])"
   ]
  },
  {
   "cell_type": "code",
   "execution_count": 21,
   "metadata": {},
   "outputs": [
    {
     "name": "stdout",
     "output_type": "stream",
     "text": [
      "   sqlite:///./database/ANMlog_copy.db\n",
      " * sqlite:///./database/combined.db\n",
      "   sqlite:///./database/eleclog_copy.db\n",
      "Done.\n",
      "2019-02-06 18:14:09 2019-02-06 18:14:13 ok ok ok ok ok ok warning ok ok warning ok ok ok ok ok ok ok ok ok ok ok ok ok ok\n",
      "   sqlite:///./database/ANMlog_copy.db\n",
      " * sqlite:///./database/combined.db\n",
      "   sqlite:///./database/eleclog_copy.db\n",
      "Done.\n",
      "2019-02-06 18:15:05 2019-02-06 18:14:13 ok ok ok ok ok ok warning ok ok warning ok ok ok ok ok ok ok ok ok ok ok ok ok ok\n",
      "   sqlite:///./database/ANMlog_copy.db\n",
      " * sqlite:///./database/combined.db\n",
      "   sqlite:///./database/eleclog_copy.db\n",
      "Done.\n",
      "2019-02-06 18:16:05 2019-02-06 18:14:13 ok ok ok ok ok ok warning ok ok warning ok ok ok ok ok ok ok ok ok ok ok ok ok ok\n",
      "   sqlite:///./database/ANMlog_copy.db\n",
      " * sqlite:///./database/combined.db\n",
      "   sqlite:///./database/eleclog_copy.db\n",
      "Done.\n",
      "2019-02-06 18:17:05 2019-02-06 18:14:13 ok ok ok ok ok ok warning ok ok warning ok ok ok ok ok ok ok ok ok ok ok ok ok ok\n",
      "   sqlite:///./database/ANMlog_copy.db\n",
      " * sqlite:///./database/combined.db\n",
      "   sqlite:///./database/eleclog_copy.db\n",
      "Done.\n",
      "2019-02-06 18:18:05 2019-02-06 18:18:10 ok ok ok ok ok ok ok ok ok warning ok ok ok ok ok ok ok ok ok ok ok ok ok ok\n",
      "   sqlite:///./database/ANMlog_copy.db\n",
      " * sqlite:///./database/combined.db\n",
      "   sqlite:///./database/eleclog_copy.db\n",
      "Done.\n",
      "2019-02-06 18:19:05 2019-02-06 18:18:10 ok ok ok ok ok ok ok ok ok warning ok ok ok ok ok ok ok ok ok ok ok ok ok ok\n",
      "   sqlite:///./database/ANMlog_copy.db\n",
      " * sqlite:///./database/combined.db\n",
      "   sqlite:///./database/eleclog_copy.db\n",
      "Done.\n",
      "2019-02-06 18:20:05 2019-02-06 18:20:09 ok ok ok ok ok ok ok ok ok ok ok ok ok ok ok ok ok ok ok ok ok ok ok ok\n",
      "   sqlite:///./database/ANMlog_copy.db\n",
      " * sqlite:///./database/combined.db\n",
      "   sqlite:///./database/eleclog_copy.db\n",
      "Done.\n",
      "2019-02-06 18:21:04 2019-02-06 18:20:09 ok ok ok ok ok ok ok ok ok ok ok ok ok ok ok ok ok ok ok ok ok ok ok ok\n",
      "   sqlite:///./database/ANMlog_copy.db\n",
      " * sqlite:///./database/combined.db\n",
      "   sqlite:///./database/eleclog_copy.db\n",
      "Done.\n",
      "2019-02-06 18:22:05 2019-02-06 18:20:09 ok ok ok ok ok ok ok ok ok ok ok ok ok ok ok ok ok ok ok ok ok ok ok ok\n",
      "   sqlite:///./database/ANMlog_copy.db\n",
      " * sqlite:///./database/combined.db\n",
      "   sqlite:///./database/eleclog_copy.db\n",
      "Done.\n",
      "2019-02-06 18:23:05 2019-02-06 18:20:09 ok ok ok ok ok ok ok ok ok ok ok ok ok ok ok ok ok ok ok ok ok ok ok ok\n"
     ]
    }
   ],
   "source": [
    "for reading in readings_orig[30000:30010]:\n",
    "#reading = readings[1005]\n",
    "    readingdate= \"'\"+reading['timestamp']+\"'\"\n",
    "    anmrecord = %sql select * from records where substr(timestamp, 0, 17) <= substr($readingdate, 0, 17) order by timestamp desc limit 1;\n",
    "    anmstatus = json.loads(anmrecord[0]['log'])\n",
    "    print(reading['timestamp'],\n",
    "          reading['demand'],\n",
    "          reading['demand_max'],\n",
    "          reading['anm_'],\n",
    "          reading[''],\n",
    "          reading[''],\n",
    "          reading[''],\n",
    "          reading[''],\n",
    "          reading[''],\n",
    "          anmrecord[0]['timestamp'],\n",
    "          anmstatus['Core'][0],\n",
    "          anmstatus['Core'][1],\n",
    "          anmstatus['Core'][2],\n",
    "          anmstatus['1'][0],\n",
    "          anmstatus['1'][1],\n",
    "          anmstatus['1'][2],\n",
    "          anmstatus['2'][0],\n",
    "          anmstatus['2'][1],\n",
    "          anmstatus['2'][2],\n",
    "          anmstatus['2A'][0],\n",
    "          anmstatus['2A'][1],\n",
    "          anmstatus['2A'][2],\n",
    "          anmstatus['2B'][0],\n",
    "          anmstatus['2B'][1],\n",
    "          anmstatus['2B'][2],\n",
    "          anmstatus['3'][0],\n",
    "          anmstatus['3'][1],\n",
    "          anmstatus['3'][2],\n",
    "          anmstatus['4'][0],\n",
    "          anmstatus['4'][1],\n",
    "          anmstatus['4'][2],\n",
    "          anmstatus['4A'][0],\n",
    "          anmstatus['4A'][1],\n",
    "          anmstatus['4A'][2])\n",
    "    \n",
    "    "
   ]
  }
 ],
 "metadata": {
  "kernelspec": {
   "display_name": "Python 3",
   "language": "python",
   "name": "python3"
  },
  "language_info": {
   "codemirror_mode": {
    "name": "ipython",
    "version": 3
   },
   "file_extension": ".py",
   "mimetype": "text/x-python",
   "name": "python",
   "nbconvert_exporter": "python",
   "pygments_lexer": "ipython3",
   "version": "3.7.3"
  }
 },
 "nbformat": 4,
 "nbformat_minor": 4
}
