{
 "cells": [
  {
   "cell_type": "markdown",
   "metadata": {},
   "source": [
    "# Combining the two sets of data logged from the SSN website "
   ]
  },
  {
   "cell_type": "markdown",
   "metadata": {},
   "source": [
    "Having previously cleaned the datasets ([1](./ExamineANMReadings.ipynb), [2](./ExamineElectricityReadings.ipynb)), such that they have a maximum of one record in any minute period, they now need to be combined into a single dataset such that for each data point, there exists a complete record of electricity readings and 'ANM' status.\n",
    "\n",
    "This process is complicated due to the ANM records having been stored only when there is a change, as opposed to every reading.  This was done to reduce the overall number of records stored and consequently, minimise storage requirements. There is no lost data as the duration of any particular event can be inferred from the start time of the subsequent one.   \n",
    "\n",
    "Two methods are examined here:\n",
    "  * combining the tables into a single database to run a single SQL query\n",
    "  * using a python script to run through each entry in the readings table and pairing it with the appropriate entry in the ANM log\n",
    "\n",
    "A script has also been written to parse the JSON format logged data and combine it into a single database.\n",
    "\n",
    "---"
   ]
  },
  {
   "cell_type": "markdown",
   "metadata": {},
   "source": [
    "## Initialise working environment\n",
    "\n",
    "* load iPython  %sql magic extension  \n",
    "* connect to databases and check they are as expected"
   ]
  },
  {
   "cell_type": "code",
   "execution_count": 25,
   "metadata": {},
   "outputs": [
    {
     "name": "stdout",
     "output_type": "stream",
     "text": [
      "The sql extension is already loaded. To reload it, use:\n",
      "  %reload_ext sql\n"
     ]
    }
   ],
   "source": [
    "%load_ext sql"
   ]
  },
  {
   "cell_type": "markdown",
   "metadata": {},
   "source": [
    "### Electricity log database\n",
    "---"
   ]
  },
  {
   "cell_type": "code",
   "execution_count": 4,
   "metadata": {},
   "outputs": [
    {
     "data": {
      "text/plain": [
       "'Connected: @./database/eleclog_copy.db'"
      ]
     },
     "execution_count": 4,
     "metadata": {},
     "output_type": "execute_result"
    }
   ],
   "source": [
    "%sql sqlite:///./database/eleclog_copy.db"
   ]
  },
  {
   "cell_type": "code",
   "execution_count": 4,
   "metadata": {},
   "outputs": [
    {
     "name": "stdout",
     "output_type": "stream",
     "text": [
      " * sqlite:///./database/eleclog_copy.db\n",
      "Done.\n"
     ]
    },
    {
     "data": {
      "text/html": [
       "<table>\n",
       "    <tr>\n",
       "        <th>COUNT(*)</th>\n",
       "    </tr>\n",
       "    <tr>\n",
       "        <td>395525</td>\n",
       "    </tr>\n",
       "</table>"
      ],
      "text/plain": [
       "[(395525,)]"
      ]
     },
     "execution_count": 4,
     "metadata": {},
     "output_type": "execute_result"
    }
   ],
   "source": [
    "%sql SELECT COUNT(*) FROM readings;"
   ]
  },
  {
   "cell_type": "code",
   "execution_count": 5,
   "metadata": {},
   "outputs": [
    {
     "name": "stdout",
     "output_type": "stream",
     "text": [
      " * sqlite:///./database/eleclog_copy.db\n",
      "Done.\n"
     ]
    },
    {
     "data": {
      "text/html": [
       "<table>\n",
       "    <tr>\n",
       "        <th>sql</th>\n",
       "    </tr>\n",
       "    <tr>\n",
       "        <td>CREATE TABLE readings (timestamp DATETIME, demand NUMERIC, demand_max NUMERIC, anm_generated NUMERIC, non_anm_generated NUMERIC, total_generation_capacity NUMERIC)</td>\n",
       "    </tr>\n",
       "</table>"
      ],
      "text/plain": [
       "[('CREATE TABLE readings (timestamp DATETIME, demand NUMERIC, demand_max NUMERIC, anm_generated NUMERIC, non_anm_generated NUMERIC, total_generation_capacity NUMERIC)',)]"
      ]
     },
     "execution_count": 5,
     "metadata": {},
     "output_type": "execute_result"
    }
   ],
   "source": [
    "%sql SELECT sql FROM sqlite_master WHERE name = 'readings';"
   ]
  },
  {
   "cell_type": "code",
   "execution_count": 5,
   "metadata": {},
   "outputs": [
    {
     "name": "stdout",
     "output_type": "stream",
     "text": [
      " * sqlite:///./database/eleclog_copy.db\n",
      "Done.\n"
     ]
    }
   ],
   "source": [
    "#copy readings table to a local variable\n",
    "readings_orig = %sql select * from readings order by timestamp;"
   ]
  },
  {
   "cell_type": "markdown",
   "metadata": {},
   "source": [
    "###  ANM event database\n",
    "---"
   ]
  },
  {
   "cell_type": "code",
   "execution_count": 18,
   "metadata": {},
   "outputs": [
    {
     "data": {
      "text/plain": [
       "'Connected: @./database/ANMlog_copy.db'"
      ]
     },
     "execution_count": 18,
     "metadata": {},
     "output_type": "execute_result"
    }
   ],
   "source": [
    "%sql sqlite:///./database/ANMlog_copy.db"
   ]
  },
  {
   "cell_type": "code",
   "execution_count": 7,
   "metadata": {},
   "outputs": [
    {
     "name": "stdout",
     "output_type": "stream",
     "text": [
      " * sqlite:///./database/ANMlog_copy.db\n",
      "   sqlite:///./database/eleclog_copy.db\n",
      "Done.\n"
     ]
    },
    {
     "data": {
      "text/html": [
       "<table>\n",
       "    <tr>\n",
       "        <th>COUNT(*)</th>\n",
       "    </tr>\n",
       "    <tr>\n",
       "        <td>15711</td>\n",
       "    </tr>\n",
       "</table>"
      ],
      "text/plain": [
       "[(15711,)]"
      ]
     },
     "execution_count": 7,
     "metadata": {},
     "output_type": "execute_result"
    }
   ],
   "source": [
    "%sql SELECT COUNT(*) FROM records;"
   ]
  },
  {
   "cell_type": "code",
   "execution_count": 12,
   "metadata": {},
   "outputs": [
    {
     "name": "stdout",
     "output_type": "stream",
     "text": [
      " * sqlite:///./database/ANMlog_copy.db\n",
      "   sqlite:///./database/eleclog_copy.db\n",
      "Done.\n"
     ]
    },
    {
     "data": {
      "text/html": [
       "<table>\n",
       "    <tr>\n",
       "        <th>sql</th>\n",
       "    </tr>\n",
       "    <tr>\n",
       "        <td>CREATE TABLE records(timestamp DATETIME, log TEXT)</td>\n",
       "    </tr>\n",
       "</table>"
      ],
      "text/plain": [
       "[('CREATE TABLE records(timestamp DATETIME, log TEXT)',)]"
      ]
     },
     "execution_count": 12,
     "metadata": {},
     "output_type": "execute_result"
    }
   ],
   "source": [
    "%sql SELECT sql FROM sqlite_master WHERE name = 'records';"
   ]
  },
  {
   "cell_type": "code",
   "execution_count": 20,
   "metadata": {},
   "outputs": [
    {
     "name": "stdout",
     "output_type": "stream",
     "text": [
      " * sqlite:///./database/ANMlog_copy.db\n",
      "   sqlite:///./database/combined.db\n",
      "   sqlite:///./database/eleclog_copy.db\n",
      "Done.\n"
     ]
    }
   ],
   "source": [
    "#copy readings table to a local variable\n",
    "records = %sql select * from records order by timestamp;"
   ]
  },
  {
   "cell_type": "markdown",
   "metadata": {},
   "source": [
    "###  Create combined database\n",
    "---"
   ]
  },
  {
   "cell_type": "code",
   "execution_count": 28,
   "metadata": {},
   "outputs": [
    {
     "data": {
      "text/plain": [
       "'Connected: @./database/combined.db'"
      ]
     },
     "execution_count": 28,
     "metadata": {},
     "output_type": "execute_result"
    }
   ],
   "source": [
    "%sql sqlite:///./database/combined.db"
   ]
  },
  {
   "cell_type": "markdown",
   "metadata": {},
   "source": [
    "%sql magic provides for creation of tables directly from DataFrame types, using the 'persists' command\n",
    "\n",
    "It is unecessary to create the tables in the database prior to loading the data\n",
    ">\n",
    "```python\n",
    "%sql CREATE TABLE readings (timestamp DATETIME, demand NUMERIC, demand_max NUMERIC, anm_generated NUMERIC, non_anm_generated NUMERIC, total_generation_capacity NUMERIC);\n",
    "%sql CREATE TABLE records(timestamp DATETIME, log TEXT);\n",
    "```\n",
    "\n",
    "*If the table already exists in the external database file the 'persist' function fails.  To speed up development, these commands have been commented out in the following cells.* "
   ]
  },
  {
   "cell_type": "code",
   "execution_count": 17,
   "metadata": {},
   "outputs": [
    {
     "data": {
      "text/html": [
       "<div>\n",
       "<style scoped>\n",
       "    .dataframe tbody tr th:only-of-type {\n",
       "        vertical-align: middle;\n",
       "    }\n",
       "\n",
       "    .dataframe tbody tr th {\n",
       "        vertical-align: top;\n",
       "    }\n",
       "\n",
       "    .dataframe thead th {\n",
       "        text-align: right;\n",
       "    }\n",
       "</style>\n",
       "<table border=\"1\" class=\"dataframe\">\n",
       "  <thead>\n",
       "    <tr style=\"text-align: right;\">\n",
       "      <th></th>\n",
       "      <th>timestamp</th>\n",
       "      <th>log</th>\n",
       "    </tr>\n",
       "  </thead>\n",
       "  <tbody>\n",
       "    <tr>\n",
       "      <th>0</th>\n",
       "      <td>2019-01-16 22:42:33</td>\n",
       "      <td>{\"2\": [\"warning\", \"ok\", \"ok\"], \"2B\": [\"warning...</td>\n",
       "    </tr>\n",
       "    <tr>\n",
       "      <th>1</th>\n",
       "      <td>2019-01-16 22:46:25</td>\n",
       "      <td>{\"1\": [\"ok\", \"ok\", \"ok\"], \"1A\": [\"ok\", \"ok\", \"...</td>\n",
       "    </tr>\n",
       "    <tr>\n",
       "      <th>2</th>\n",
       "      <td>2019-01-16 22:59:22</td>\n",
       "      <td>{\"1\": [\"ok\", \"ok\", \"ok\"], \"1A\": [\"ok\", \"ok\", \"...</td>\n",
       "    </tr>\n",
       "    <tr>\n",
       "      <th>3</th>\n",
       "      <td>2019-01-16 23:03:05</td>\n",
       "      <td>{\"1\": [\"ok\", \"ok\", \"ok\"], \"1A\": [\"ok\", \"ok\", \"...</td>\n",
       "    </tr>\n",
       "    <tr>\n",
       "      <th>4</th>\n",
       "      <td>2019-01-16 23:06:26</td>\n",
       "      <td>{\"1\": [\"ok\", \"ok\", \"ok\"], \"1A\": [\"ok\", \"ok\", \"...</td>\n",
       "    </tr>\n",
       "  </tbody>\n",
       "</table>\n",
       "</div>"
      ],
      "text/plain": [
       "             timestamp                                                log\n",
       "0  2019-01-16 22:42:33  {\"2\": [\"warning\", \"ok\", \"ok\"], \"2B\": [\"warning...\n",
       "1  2019-01-16 22:46:25  {\"1\": [\"ok\", \"ok\", \"ok\"], \"1A\": [\"ok\", \"ok\", \"...\n",
       "2  2019-01-16 22:59:22  {\"1\": [\"ok\", \"ok\", \"ok\"], \"1A\": [\"ok\", \"ok\", \"...\n",
       "3  2019-01-16 23:03:05  {\"1\": [\"ok\", \"ok\", \"ok\"], \"1A\": [\"ok\", \"ok\", \"...\n",
       "4  2019-01-16 23:06:26  {\"1\": [\"ok\", \"ok\", \"ok\"], \"1A\": [\"ok\", \"ok\", \"..."
      ]
     },
     "execution_count": 17,
     "metadata": {},
     "output_type": "execute_result"
    }
   ],
   "source": [
    "records.DataFrame().head()"
   ]
  },
  {
   "cell_type": "code",
   "execution_count": 21,
   "metadata": {},
   "outputs": [],
   "source": [
    "# -persist functions have been commented out as they are only needed to create the database file './database/combined.db'. (i.e. the first time this page is run) \n",
    "\n",
    "records = records.DataFrame()\n",
    "# %sql persist records \n",
    "\n",
    "readings = readings_orig.DataFrame()\n",
    "# %sql persist readings"
   ]
  },
  {
   "cell_type": "markdown",
   "metadata": {},
   "source": [
    "---\n",
    "\n",
    "## Joins"
   ]
  },
  {
   "cell_type": "code",
   "execution_count": 9,
   "metadata": {},
   "outputs": [
    {
     "name": "stdout",
     "output_type": "stream",
     "text": [
      "('2019-01-16 14:36:03', 23.22, 35.7, 12.478, 17.782, 57.099999999999994) ('2019-01-16 22:42:33', '{\"2\": [\"warning\", \"ok\", \"ok\"], \"2B\": [\"warning\", \"ok\", \"ok\"], \"2A\": [\"remove\", \"ok\", \"ok\"], \"4A\": [\"ok\", \"ok\", \"ok\"], \"3\": [\"ok\", \"ok\", \"ok\"], \"Core\": [\"ok\", \"ok\", \"ok\"], \"1\": [\"ok\", \"ok\", \"ok\"], \"4\": [\"ok\", \"ok\", \"ok\"], \"1A\": [\"ok\", \"ok\", \"ok\"]}')\n"
     ]
    }
   ],
   "source": [
    "print(readings_orig[0], records[0])"
   ]
  },
  {
   "cell_type": "markdown",
   "metadata": {},
   "source": [
    "### Simple join matching records from ANM logs with electricity readings.\n",
    "\n",
    "Using a substring of the timestamp matches records by the 'minute' avoiding incongruity with differing 'seconds'\n",
    "\n",
    "However, it only matches each record from the ANM log with one from the electricity readings.  Hence a lagre number of electricity readings are omitted."
   ]
  },
  {
   "cell_type": "code",
   "execution_count": 30,
   "metadata": {},
   "outputs": [
    {
     "name": "stdout",
     "output_type": "stream",
     "text": [
      "   sqlite:///./database/ANMlog_copy.db\n",
      " * sqlite:///./database/combined.db\n",
      "   sqlite:///./database/eleclog_copy.db\n",
      "Done.\n"
     ]
    },
    {
     "data": {
      "text/html": [
       "<table>\n",
       "    <tr>\n",
       "        <th>index</th>\n",
       "        <th>timestamp</th>\n",
       "        <th>demand</th>\n",
       "        <th>demand_max</th>\n",
       "        <th>anm_generated</th>\n",
       "        <th>non_anm_generated</th>\n",
       "        <th>total_generation_capacity</th>\n",
       "        <th>index_1</th>\n",
       "        <th>timestamp_1</th>\n",
       "        <th>log</th>\n",
       "    </tr>\n",
       "    <tr>\n",
       "        <td>470</td>\n",
       "        <td>2019-01-16 22:42:03</td>\n",
       "        <td>19.66</td>\n",
       "        <td>35.7</td>\n",
       "        <td>17.145</td>\n",
       "        <td>17.075</td>\n",
       "        <td>57.099999999999994</td>\n",
       "        <td>0</td>\n",
       "        <td>2019-01-16 22:42:33</td>\n",
       "        <td>{&quot;2&quot;: [&quot;warning&quot;, &quot;ok&quot;, &quot;ok&quot;], &quot;2B&quot;: [&quot;warning&quot;, &quot;ok&quot;, &quot;ok&quot;], &quot;2A&quot;: [&quot;remove&quot;, &quot;ok&quot;, &quot;ok&quot;], &quot;4A&quot;: [&quot;ok&quot;, &quot;ok&quot;, &quot;ok&quot;], &quot;3&quot;: [&quot;ok&quot;, &quot;ok&quot;, &quot;ok&quot;], &quot;Core&quot;: [&quot;ok&quot;, &quot;ok&quot;, &quot;ok&quot;], &quot;1&quot;: [&quot;ok&quot;, &quot;ok&quot;, &quot;ok&quot;], &quot;4&quot;: [&quot;ok&quot;, &quot;ok&quot;, &quot;ok&quot;], &quot;1A&quot;: [&quot;ok&quot;, &quot;ok&quot;, &quot;ok&quot;]}</td>\n",
       "    </tr>\n",
       "    <tr>\n",
       "        <td>474</td>\n",
       "        <td>2019-01-16 22:46:03</td>\n",
       "        <td>18.7</td>\n",
       "        <td>35.7</td>\n",
       "        <td>14.572</td>\n",
       "        <td>16.457</td>\n",
       "        <td>57.1</td>\n",
       "        <td>1</td>\n",
       "        <td>2019-01-16 22:46:25</td>\n",
       "        <td>{&quot;1&quot;: [&quot;ok&quot;, &quot;ok&quot;, &quot;ok&quot;], &quot;1A&quot;: [&quot;ok&quot;, &quot;ok&quot;, &quot;ok&quot;], &quot;2&quot;: [&quot;warning&quot;, &quot;ok&quot;, &quot;ok&quot;], &quot;2A&quot;: [&quot;remove&quot;, &quot;ok&quot;, &quot;ok&quot;], &quot;2B&quot;: [&quot;warning&quot;, &quot;ok&quot;, &quot;ok&quot;], &quot;3&quot;: [&quot;ok&quot;, &quot;ok&quot;, &quot;ok&quot;], &quot;4&quot;: [&quot;ok&quot;, &quot;ok&quot;, &quot;ok&quot;], &quot;4A&quot;: [&quot;ok&quot;, &quot;ok&quot;, &quot;ok&quot;], &quot;Core&quot;: [&quot;ok&quot;, &quot;ok&quot;, &quot;ok&quot;]}</td>\n",
       "    </tr>\n",
       "    <tr>\n",
       "        <td>487</td>\n",
       "        <td>2019-01-16 22:59:03</td>\n",
       "        <td>18.28</td>\n",
       "        <td>35.7</td>\n",
       "        <td>15.618</td>\n",
       "        <td>16.093</td>\n",
       "        <td>57.099999999999994</td>\n",
       "        <td>2</td>\n",
       "        <td>2019-01-16 22:59:22</td>\n",
       "        <td>{&quot;1&quot;: [&quot;ok&quot;, &quot;ok&quot;, &quot;ok&quot;], &quot;1A&quot;: [&quot;ok&quot;, &quot;ok&quot;, &quot;ok&quot;], &quot;2&quot;: [&quot;ok&quot;, &quot;ok&quot;, &quot;ok&quot;], &quot;2A&quot;: [&quot;remove&quot;, &quot;ok&quot;, &quot;ok&quot;], &quot;2B&quot;: [&quot;warning&quot;, &quot;ok&quot;, &quot;ok&quot;], &quot;3&quot;: [&quot;ok&quot;, &quot;ok&quot;, &quot;ok&quot;], &quot;4&quot;: [&quot;ok&quot;, &quot;ok&quot;, &quot;ok&quot;], &quot;4A&quot;: [&quot;ok&quot;, &quot;ok&quot;, &quot;ok&quot;], &quot;Core&quot;: [&quot;ok&quot;, &quot;ok&quot;, &quot;ok&quot;]}</td>\n",
       "    </tr>\n",
       "    <tr>\n",
       "        <td>491</td>\n",
       "        <td>2019-01-16 23:03:05</td>\n",
       "        <td>18.56</td>\n",
       "        <td>35.7</td>\n",
       "        <td>13.922</td>\n",
       "        <td>18.143</td>\n",
       "        <td>57.1</td>\n",
       "        <td>3</td>\n",
       "        <td>2019-01-16 23:03:05</td>\n",
       "        <td>{&quot;1&quot;: [&quot;ok&quot;, &quot;ok&quot;, &quot;ok&quot;], &quot;1A&quot;: [&quot;ok&quot;, &quot;ok&quot;, &quot;ok&quot;], &quot;2&quot;: [&quot;ok&quot;, &quot;ok&quot;, &quot;ok&quot;], &quot;2A&quot;: [&quot;remove&quot;, &quot;ok&quot;, &quot;ok&quot;], &quot;2B&quot;: [&quot;warning&quot;, &quot;ok&quot;, &quot;ok&quot;], &quot;3&quot;: [&quot;ok&quot;, &quot;ok&quot;, &quot;ok&quot;], &quot;4&quot;: [&quot;ok&quot;, &quot;ok&quot;, &quot;ok&quot;], &quot;4A&quot;: [&quot;ok&quot;, &quot;ok&quot;, &quot;ok&quot;], &quot;Core&quot;: [&quot;ok&quot;, &quot;ok&quot;, &quot;ok&quot;]}</td>\n",
       "    </tr>\n",
       "    <tr>\n",
       "        <td>494</td>\n",
       "        <td>2019-01-16 23:06:03</td>\n",
       "        <td>18.2</td>\n",
       "        <td>35.7</td>\n",
       "        <td>16.457</td>\n",
       "        <td>17.996</td>\n",
       "        <td>57.099999999999994</td>\n",
       "        <td>4</td>\n",
       "        <td>2019-01-16 23:06:26</td>\n",
       "        <td>{&quot;1&quot;: [&quot;ok&quot;, &quot;ok&quot;, &quot;ok&quot;], &quot;1A&quot;: [&quot;ok&quot;, &quot;ok&quot;, &quot;ok&quot;], &quot;2&quot;: [&quot;warning&quot;, &quot;ok&quot;, &quot;ok&quot;], &quot;2A&quot;: [&quot;remove&quot;, &quot;ok&quot;, &quot;ok&quot;], &quot;2B&quot;: [&quot;warning&quot;, &quot;ok&quot;, &quot;ok&quot;], &quot;3&quot;: [&quot;ok&quot;, &quot;ok&quot;, &quot;ok&quot;], &quot;4&quot;: [&quot;ok&quot;, &quot;ok&quot;, &quot;ok&quot;], &quot;4A&quot;: [&quot;ok&quot;, &quot;ok&quot;, &quot;ok&quot;], &quot;Core&quot;: [&quot;ok&quot;, &quot;ok&quot;, &quot;ok&quot;]}</td>\n",
       "    </tr>\n",
       "</table>"
      ],
      "text/plain": [
       "[(470, '2019-01-16 22:42:03', 19.66, 35.7, 17.145, 17.075, 57.099999999999994, 0, '2019-01-16 22:42:33', '{\"2\": [\"warning\", \"ok\", \"ok\"], \"2B\": [\"warning\", \"ok\", \"ok\"], \"2A\": [\"remove\", \"ok\", \"ok\"], \"4A\": [\"ok\", \"ok\", \"ok\"], \"3\": [\"ok\", \"ok\", \"ok\"], \"Core\": [\"ok\", \"ok\", \"ok\"], \"1\": [\"ok\", \"ok\", \"ok\"], \"4\": [\"ok\", \"ok\", \"ok\"], \"1A\": [\"ok\", \"ok\", \"ok\"]}'),\n",
       " (474, '2019-01-16 22:46:03', 18.7, 35.7, 14.572, 16.457, 57.1, 1, '2019-01-16 22:46:25', '{\"1\": [\"ok\", \"ok\", \"ok\"], \"1A\": [\"ok\", \"ok\", \"ok\"], \"2\": [\"warning\", \"ok\", \"ok\"], \"2A\": [\"remove\", \"ok\", \"ok\"], \"2B\": [\"warning\", \"ok\", \"ok\"], \"3\": [\"ok\", \"ok\", \"ok\"], \"4\": [\"ok\", \"ok\", \"ok\"], \"4A\": [\"ok\", \"ok\", \"ok\"], \"Core\": [\"ok\", \"ok\", \"ok\"]}'),\n",
       " (487, '2019-01-16 22:59:03', 18.28, 35.7, 15.618, 16.093, 57.099999999999994, 2, '2019-01-16 22:59:22', '{\"1\": [\"ok\", \"ok\", \"ok\"], \"1A\": [\"ok\", \"ok\", \"ok\"], \"2\": [\"ok\", \"ok\", \"ok\"], \"2A\": [\"remove\", \"ok\", \"ok\"], \"2B\": [\"warning\", \"ok\", \"ok\"], \"3\": [\"ok\", \"ok\", \"ok\"], \"4\": [\"ok\", \"ok\", \"ok\"], \"4A\": [\"ok\", \"ok\", \"ok\"], \"Core\": [\"ok\", \"ok\", \"ok\"]}'),\n",
       " (491, '2019-01-16 23:03:05', 18.56, 35.7, 13.922, 18.143, 57.1, 3, '2019-01-16 23:03:05', '{\"1\": [\"ok\", \"ok\", \"ok\"], \"1A\": [\"ok\", \"ok\", \"ok\"], \"2\": [\"ok\", \"ok\", \"ok\"], \"2A\": [\"remove\", \"ok\", \"ok\"], \"2B\": [\"warning\", \"ok\", \"ok\"], \"3\": [\"ok\", \"ok\", \"ok\"], \"4\": [\"ok\", \"ok\", \"ok\"], \"4A\": [\"ok\", \"ok\", \"ok\"], \"Core\": [\"ok\", \"ok\", \"ok\"]}'),\n",
       " (494, '2019-01-16 23:06:03', 18.2, 35.7, 16.457, 17.996, 57.099999999999994, 4, '2019-01-16 23:06:26', '{\"1\": [\"ok\", \"ok\", \"ok\"], \"1A\": [\"ok\", \"ok\", \"ok\"], \"2\": [\"warning\", \"ok\", \"ok\"], \"2A\": [\"remove\", \"ok\", \"ok\"], \"2B\": [\"warning\", \"ok\", \"ok\"], \"3\": [\"ok\", \"ok\", \"ok\"], \"4\": [\"ok\", \"ok\", \"ok\"], \"4A\": [\"ok\", \"ok\", \"ok\"], \"Core\": [\"ok\", \"ok\", \"ok\"]}')]"
      ]
     },
     "execution_count": 30,
     "metadata": {},
     "output_type": "execute_result"
    }
   ],
   "source": [
    "%%sql\n",
    "select\n",
    "    *\n",
    "from\n",
    "    readings\n",
    "left join\n",
    "    records\n",
    "where\n",
    "    substr(readings.timestamp, 0, 17) == substr(records.timestamp, 0, 17)\n",
    "limit\n",
    "    5\n",
    "    ;"
   ]
  },
  {
   "cell_type": "markdown",
   "metadata": {},
   "source": [
    "Extract from AMN log the most recent two events for a particular time."
   ]
  },
  {
   "cell_type": "code",
   "execution_count": 14,
   "metadata": {},
   "outputs": [
    {
     "name": "stdout",
     "output_type": "stream",
     "text": [
      " * sqlite:///./database/ANMlog_copy.db\n",
      "   sqlite:///./database/eleclog_copy.db\n",
      "Done.\n"
     ]
    },
    {
     "data": {
      "text/html": [
       "<table>\n",
       "    <tr>\n",
       "        <th>timestamp</th>\n",
       "        <th>log</th>\n",
       "    </tr>\n",
       "    <tr>\n",
       "        <td>2019-01-17 09:34:10</td>\n",
       "        <td>{&quot;1&quot;: [&quot;ok&quot;, &quot;ok&quot;, &quot;ok&quot;], &quot;1A&quot;: [&quot;ok&quot;, &quot;ok&quot;, &quot;ok&quot;], &quot;2&quot;: [&quot;warning&quot;, &quot;ok&quot;, &quot;ok&quot;], &quot;2A&quot;: [&quot;remove&quot;, &quot;ok&quot;, &quot;ok&quot;], &quot;2B&quot;: [&quot;warning&quot;, &quot;ok&quot;, &quot;ok&quot;], &quot;3&quot;: [&quot;ok&quot;, &quot;ok&quot;, &quot;ok&quot;], &quot;4&quot;: [&quot;ok&quot;, &quot;ok&quot;, &quot;ok&quot;], &quot;4A&quot;: [&quot;ok&quot;, &quot;ok&quot;, &quot;ok&quot;], &quot;Core&quot;: [&quot;ok&quot;, &quot;ok&quot;, &quot;ok&quot;]}</td>\n",
       "    </tr>\n",
       "    <tr>\n",
       "        <td>2019-01-17 09:31:11</td>\n",
       "        <td>{&quot;1&quot;: [&quot;ok&quot;, &quot;ok&quot;, &quot;ok&quot;], &quot;1A&quot;: [&quot;ok&quot;, &quot;ok&quot;, &quot;ok&quot;], &quot;2&quot;: [&quot;remove&quot;, &quot;ok&quot;, &quot;ok&quot;], &quot;2A&quot;: [&quot;remove&quot;, &quot;ok&quot;, &quot;ok&quot;], &quot;2B&quot;: [&quot;warning&quot;, &quot;ok&quot;, &quot;ok&quot;], &quot;3&quot;: [&quot;ok&quot;, &quot;ok&quot;, &quot;ok&quot;], &quot;4&quot;: [&quot;ok&quot;, &quot;ok&quot;, &quot;ok&quot;], &quot;4A&quot;: [&quot;ok&quot;, &quot;ok&quot;, &quot;ok&quot;], &quot;Core&quot;: [&quot;ok&quot;, &quot;ok&quot;, &quot;ok&quot;]}</td>\n",
       "    </tr>\n",
       "</table>"
      ],
      "text/plain": [
       "[('2019-01-17 09:34:10', '{\"1\": [\"ok\", \"ok\", \"ok\"], \"1A\": [\"ok\", \"ok\", \"ok\"], \"2\": [\"warning\", \"ok\", \"ok\"], \"2A\": [\"remove\", \"ok\", \"ok\"], \"2B\": [\"warning\", \"ok\", \"ok\"], \"3\": [\"ok\", \"ok\", \"ok\"], \"4\": [\"ok\", \"ok\", \"ok\"], \"4A\": [\"ok\", \"ok\", \"ok\"], \"Core\": [\"ok\", \"ok\", \"ok\"]}'),\n",
       " ('2019-01-17 09:31:11', '{\"1\": [\"ok\", \"ok\", \"ok\"], \"1A\": [\"ok\", \"ok\", \"ok\"], \"2\": [\"remove\", \"ok\", \"ok\"], \"2A\": [\"remove\", \"ok\", \"ok\"], \"2B\": [\"warning\", \"ok\", \"ok\"], \"3\": [\"ok\", \"ok\", \"ok\"], \"4\": [\"ok\", \"ok\", \"ok\"], \"4A\": [\"ok\", \"ok\", \"ok\"], \"Core\": [\"ok\", \"ok\", \"ok\"]}')]"
      ]
     },
     "execution_count": 14,
     "metadata": {},
     "output_type": "execute_result"
    }
   ],
   "source": [
    "%%sql\n",
    "select * from records where timestamp < '2019-01-17 09:35:11' order by timestamp desc limit 2;"
   ]
  },
  {
   "cell_type": "code",
   "execution_count": 16,
   "metadata": {},
   "outputs": [
    {
     "name": "stdout",
     "output_type": "stream",
     "text": [
      " * sqlite:///./database/combined.db\n",
      "   sqlite:///./database/eleclog_copy.db\n",
      "Done.\n",
      "electricity reading timestamp:  2019-02-06 18:14:09  | ANM event timestamp:  2019-02-06 18:13:09\n",
      " * sqlite:///./database/combined.db\n",
      "   sqlite:///./database/eleclog_copy.db\n",
      "Done.\n",
      "electricity reading timestamp:  2019-02-06 18:15:05  | ANM event timestamp:  2019-02-06 18:14:13\n",
      " * sqlite:///./database/combined.db\n",
      "   sqlite:///./database/eleclog_copy.db\n",
      "Done.\n",
      "electricity reading timestamp:  2019-02-06 18:16:05  | ANM event timestamp:  2019-02-06 18:14:13\n",
      " * sqlite:///./database/combined.db\n",
      "   sqlite:///./database/eleclog_copy.db\n",
      "Done.\n",
      "electricity reading timestamp:  2019-02-06 18:17:05  | ANM event timestamp:  2019-02-06 18:14:13\n",
      " * sqlite:///./database/combined.db\n",
      "   sqlite:///./database/eleclog_copy.db\n",
      "Done.\n",
      "electricity reading timestamp:  2019-02-06 18:18:05  | ANM event timestamp:  2019-02-06 18:14:13\n",
      " * sqlite:///./database/combined.db\n",
      "   sqlite:///./database/eleclog_copy.db\n",
      "Done.\n",
      "electricity reading timestamp:  2019-02-06 18:19:05  | ANM event timestamp:  2019-02-06 18:18:10\n",
      " * sqlite:///./database/combined.db\n",
      "   sqlite:///./database/eleclog_copy.db\n",
      "Done.\n",
      "electricity reading timestamp:  2019-02-06 18:20:05  | ANM event timestamp:  2019-02-06 18:18:10\n",
      " * sqlite:///./database/combined.db\n",
      "   sqlite:///./database/eleclog_copy.db\n",
      "Done.\n",
      "electricity reading timestamp:  2019-02-06 18:21:04  | ANM event timestamp:  2019-02-06 18:20:09\n",
      " * sqlite:///./database/combined.db\n",
      "   sqlite:///./database/eleclog_copy.db\n",
      "Done.\n",
      "electricity reading timestamp:  2019-02-06 18:22:05  | ANM event timestamp:  2019-02-06 18:20:09\n",
      " * sqlite:///./database/combined.db\n",
      "   sqlite:///./database/eleclog_copy.db\n",
      "Done.\n",
      "electricity reading timestamp:  2019-02-06 18:23:05  | ANM event timestamp:  2019-02-06 18:20:09\n"
     ]
    }
   ],
   "source": [
    "# match most recent ANM log event to a number of sample readings from  electricity log\n",
    "\n",
    "for reading in readings_orig[30000:30010]:\n",
    "    readingdate= \"'\" + reading['timestamp'] + \"'\"\n",
    "    anmstatus = %sql select * from records where timestamp < $readingdate order by timestamp desc limit 1;\n",
    "    print('electricity reading timestamp: ',reading['timestamp'],' | ANM event timestamp: ', anmstatus[0]['timestamp'])"
   ]
  },
  {
   "cell_type": "markdown",
   "metadata": {},
   "source": [
    "#### Comment\n",
    "\n",
    "Although this appears to have worked as expected, notice that the first and second results indicate something amiss.\n",
    "\n",
    "* In the first result(30000), the electricity reading was taken on '2019-02-06 18:14:09'  whilst the matched previous ANM event occurred on '2019-02-06 18:13:09'\n",
    "* In the Second result (30001), the ANM reading was taken on '2019-02-06 18:14:13' - only a few seconds after electricity reading 30000 was taken.\n",
    "\n",
    "The data logger starts the logging processes simultaneously with a view to obtaining concurrent readings and events from the live data feed.  However, the timestamp on each record reflects the time the record was written to the database file.  This indicates that retrieving the ANM log takes longer than retrieving an electricity reading. The result is the mismatch of records shown above where, clearly, the electricity reading should be matched to the ANM log that occurs a few seconds later.\n",
    "\n",
    "This can be achieved by perfoming the search using truncated timestamps - ommitting the 'seconds' field."
   ]
  },
  {
   "cell_type": "code",
   "execution_count": 9,
   "metadata": {},
   "outputs": [
    {
     "name": "stdout",
     "output_type": "stream",
     "text": [
      " * sqlite:///./database/combined.db\n",
      "   sqlite:///./database/eleclog_copy.db\n",
      "Done.\n",
      "2019-02-06 18:14:09 2019-02-06 18:14:13\n"
     ]
    }
   ],
   "source": [
    "# match most relevant ANM log event to a reading from the electricity log, where the ANM event is either the most recent or occurs within the same minute period.\n",
    "# this is done by performing the search truncating the timestamps to exclude 'seconds' \n",
    "\n",
    "reading = readings_orig[30000]\n",
    "readingdate= \"'\" + reading['timestamp'] + \"'\"\n",
    "anmstatus = %sql select * from records where substr(timestamp, 0, 17) <= substr($readingdate, 0, 17) order by timestamp desc limit 1;\n",
    "print(reading['timestamp'], anmstatus[0]['timestamp'])"
   ]
  },
  {
   "cell_type": "code",
   "execution_count": 12,
   "metadata": {},
   "outputs": [],
   "source": [
    "import json"
   ]
  },
  {
   "cell_type": "code",
   "execution_count": 14,
   "metadata": {},
   "outputs": [
    {
     "name": "stdout",
     "output_type": "stream",
     "text": [
      " * sqlite:///./database/combined.db\n",
      "   sqlite:///./database/eleclog_copy.db\n",
      "Done.\n",
      "2019-02-06 18:14:09 21.62 35.7 7.592 14.065 57.099999999999994 2019-02-06 18:14:13 ok ok ok ok ok ok warning ok ok warning ok ok ok ok ok ok ok ok ok ok ok ok ok ok\n",
      " * sqlite:///./database/combined.db\n",
      "   sqlite:///./database/eleclog_copy.db\n",
      "Done.\n",
      "2019-02-06 18:15:05 21.88 35.7 10.149 14.043 57.1 2019-02-06 18:14:13 ok ok ok ok ok ok warning ok ok warning ok ok ok ok ok ok ok ok ok ok ok ok ok ok\n",
      " * sqlite:///./database/combined.db\n",
      "   sqlite:///./database/eleclog_copy.db\n",
      "Done.\n",
      "2019-02-06 18:16:05 21.59 35.7 9.881 12.069 57.1 2019-02-06 18:14:13 ok ok ok ok ok ok warning ok ok warning ok ok ok ok ok ok ok ok ok ok ok ok ok ok\n",
      " * sqlite:///./database/combined.db\n",
      "   sqlite:///./database/eleclog_copy.db\n",
      "Done.\n",
      "2019-02-06 18:17:05 21.67 35.7 9.849 12.467 57.099999999999994 2019-02-06 18:14:13 ok ok ok ok ok ok warning ok ok warning ok ok ok ok ok ok ok ok ok ok ok ok ok ok\n",
      " * sqlite:///./database/combined.db\n",
      "   sqlite:///./database/eleclog_copy.db\n",
      "Done.\n",
      "2019-02-06 18:18:05 21.53 35.7 8.921 12.43 57.1 2019-02-06 18:18:10 ok ok ok ok ok ok ok ok ok warning ok ok ok ok ok ok ok ok ok ok ok ok ok ok\n",
      " * sqlite:///./database/combined.db\n",
      "   sqlite:///./database/eleclog_copy.db\n",
      "Done.\n",
      "2019-02-06 18:19:05 21.41 35.7 9.002 12.262 57.1 2019-02-06 18:18:10 ok ok ok ok ok ok ok ok ok warning ok ok ok ok ok ok ok ok ok ok ok ok ok ok\n",
      " * sqlite:///./database/combined.db\n",
      "   sqlite:///./database/eleclog_copy.db\n",
      "Done.\n",
      "2019-02-06 18:20:05 21.65 35.7 8.907 12.303 57.099999999999994 2019-02-06 18:20:09 ok ok ok ok ok ok ok ok ok ok ok ok ok ok ok ok ok ok ok ok ok ok ok ok\n",
      " * sqlite:///./database/combined.db\n",
      "   sqlite:///./database/eleclog_copy.db\n",
      "Done.\n",
      "2019-02-06 18:21:04 21.25 35.7 8.049 12.134 57.1 2019-02-06 18:20:09 ok ok ok ok ok ok ok ok ok ok ok ok ok ok ok ok ok ok ok ok ok ok ok ok\n",
      " * sqlite:///./database/combined.db\n",
      "   sqlite:///./database/eleclog_copy.db\n",
      "Done.\n",
      "2019-02-06 18:22:05 21.03 35.7 7.963 12.058 57.1 2019-02-06 18:20:09 ok ok ok ok ok ok ok ok ok ok ok ok ok ok ok ok ok ok ok ok ok ok ok ok\n",
      " * sqlite:///./database/combined.db\n",
      "   sqlite:///./database/eleclog_copy.db\n",
      "Done.\n",
      "2019-02-06 18:23:05 20.34 35.7 8.295 12.067 57.1 2019-02-06 18:20:09 ok ok ok ok ok ok ok ok ok ok ok ok ok ok ok ok ok ok ok ok ok ok ok ok\n"
     ]
    }
   ],
   "source": [
    "for reading in readings_orig[30000:30010]:\n",
    "    readingdate= \"'\"+reading['timestamp']+\"'\"\n",
    "    anmrecord = %sql select * from records where substr(timestamp, 0, 17) <= substr($readingdate, 0, 17) order by timestamp desc limit 1;\n",
    "    anmstatus = json.loads(anmrecord[0]['log'])\n",
    "    print(reading['timestamp'],\n",
    "          reading['demand'],\n",
    "          reading['demand_max'],\n",
    "          reading['anm_generated'],\n",
    "          reading['non_anm_generated'],\n",
    "          reading['total_generation_capacity'],\n",
    "          anmrecord[0]['timestamp'],\n",
    "          anmstatus['Core'][0],\n",
    "          anmstatus['Core'][1],\n",
    "          anmstatus['Core'][2],\n",
    "          anmstatus['1'][0],\n",
    "          anmstatus['1'][1],\n",
    "          anmstatus['1'][2],\n",
    "          anmstatus['2'][0],\n",
    "          anmstatus['2'][1],\n",
    "          anmstatus['2'][2],\n",
    "          anmstatus['2A'][0],\n",
    "          anmstatus['2A'][1],\n",
    "          anmstatus['2A'][2],\n",
    "          anmstatus['2B'][0],\n",
    "          anmstatus['2B'][1],\n",
    "          anmstatus['2B'][2],\n",
    "          anmstatus['3'][0],\n",
    "          anmstatus['3'][1],\n",
    "          anmstatus['3'][2],\n",
    "          anmstatus['4'][0],\n",
    "          anmstatus['4'][1],\n",
    "          anmstatus['4'][2],\n",
    "          anmstatus['4A'][0],\n",
    "          anmstatus['4A'][1],\n",
    "          anmstatus['4A'][2])\n",
    "    \n",
    "    "
   ]
  }
 ],
 "metadata": {
  "kernelspec": {
   "display_name": "Python 3",
   "language": "python",
   "name": "python3"
  },
  "language_info": {
   "codemirror_mode": {
    "name": "ipython",
    "version": 3
   },
   "file_extension": ".py",
   "mimetype": "text/x-python",
   "name": "python",
   "nbconvert_exporter": "python",
   "pygments_lexer": "ipython3",
   "version": "3.7.3"
  }
 },
 "nbformat": 4,
 "nbformat_minor": 4
}
