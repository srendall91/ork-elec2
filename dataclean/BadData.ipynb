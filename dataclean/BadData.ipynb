{
 "cells": [
  {
   "cell_type": "code",
   "execution_count": 1,
   "metadata": {},
   "outputs": [],
   "source": [
    "%load_ext sql"
   ]
  },
  {
   "cell_type": "code",
   "execution_count": 2,
   "metadata": {},
   "outputs": [
    {
     "data": {
      "text/plain": [
       "'Connected: @./database/eleclog_copy.db'"
      ]
     },
     "execution_count": 2,
     "metadata": {},
     "output_type": "execute_result"
    }
   ],
   "source": [
    "%sql sqlite:///./database/eleclog_copy.db"
   ]
  },
  {
   "cell_type": "code",
   "execution_count": 8,
   "metadata": {},
   "outputs": [
    {
     "name": "stdout",
     "output_type": "stream",
     "text": [
      " * sqlite:///./database/eleclog_copy.db\n",
      "Done.\n"
     ]
    },
    {
     "data": {
      "text/html": [
       "<table>\n",
       "    <tr>\n",
       "        <th>non_anm_generated</th>\n",
       "        <th>count</th>\n",
       "    </tr>\n",
       "    <tr>\n",
       "        <td>1.614</td>\n",
       "        <td>29223</td>\n",
       "    </tr>\n",
       "    <tr>\n",
       "        <td>0</td>\n",
       "        <td>1421</td>\n",
       "    </tr>\n",
       "    <tr>\n",
       "        <td>0.361</td>\n",
       "        <td>244</td>\n",
       "    </tr>\n",
       "    <tr>\n",
       "        <td>0.256</td>\n",
       "        <td>204</td>\n",
       "    </tr>\n",
       "    <tr>\n",
       "        <td>0.293</td>\n",
       "        <td>188</td>\n",
       "    </tr>\n",
       "    <tr>\n",
       "        <td>0.25</td>\n",
       "        <td>178</td>\n",
       "    </tr>\n",
       "    <tr>\n",
       "        <td>0.34</td>\n",
       "        <td>165</td>\n",
       "    </tr>\n",
       "    <tr>\n",
       "        <td>0.24</td>\n",
       "        <td>164</td>\n",
       "    </tr>\n",
       "    <tr>\n",
       "        <td>0.33</td>\n",
       "        <td>159</td>\n",
       "    </tr>\n",
       "    <tr>\n",
       "        <td>0.359</td>\n",
       "        <td>155</td>\n",
       "    </tr>\n",
       "</table>"
      ],
      "text/plain": [
       "[(1.614, 29223),\n",
       " (0, 1421),\n",
       " (0.361, 244),\n",
       " (0.256, 204),\n",
       " (0.293, 188),\n",
       " (0.25, 178),\n",
       " (0.34, 165),\n",
       " (0.24, 164),\n",
       " (0.33, 159),\n",
       " (0.359, 155)]"
      ]
     },
     "execution_count": 8,
     "metadata": {},
     "output_type": "execute_result"
    }
   ],
   "source": [
    "%%sql \n",
    "SELECT non_anm_generated, COUNT(*) count \n",
    "FROM readings \n",
    "GROUP BY non_anm_generated \n",
    "order by count desc\n",
    "limit 10"
   ]
  },
  {
   "cell_type": "code",
   "execution_count": 18,
   "metadata": {},
   "outputs": [
    {
     "name": "stdout",
     "output_type": "stream",
     "text": [
      " * sqlite:///./database/eleclog_copy.db\n",
      "Done.\n"
     ]
    },
    {
     "data": {
      "text/html": [
       "<table>\n",
       "    <tr>\n",
       "        <th>min(timestamp)</th>\n",
       "        <th>max(timestamp)</th>\n",
       "    </tr>\n",
       "    <tr>\n",
       "        <td>2019-05-07 07:58:06</td>\n",
       "        <td>2019-05-31 23:59:05</td>\n",
       "    </tr>\n",
       "</table>"
      ],
      "text/plain": [
       "[('2019-05-07 07:58:06', '2019-05-31 23:59:05')]"
      ]
     },
     "execution_count": 18,
     "metadata": {},
     "output_type": "execute_result"
    }
   ],
   "source": [
    "%%sql\n",
    "SELECT min(timestamp), max(timestamp) from readings\n",
    "where non_anm_generated = 1.614 and substr(timestamp, 7, 1) = '5'"
   ]
  },
  {
   "cell_type": "code",
   "execution_count": 20,
   "metadata": {},
   "outputs": [
    {
     "name": "stdout",
     "output_type": "stream",
     "text": [
      " * sqlite:///./database/eleclog_copy.db\n",
      "Done.\n"
     ]
    },
    {
     "data": {
      "text/html": [
       "<table>\n",
       "    <tr>\n",
       "        <th>min(timestamp)</th>\n",
       "        <th>max(timestamp)</th>\n",
       "    </tr>\n",
       "    <tr>\n",
       "        <td>2019-05-07 07:58:06</td>\n",
       "        <td>2019-06-09 12:49:05</td>\n",
       "    </tr>\n",
       "</table>"
      ],
      "text/plain": [
       "[('2019-05-07 07:58:06', '2019-06-09 12:49:05')]"
      ]
     },
     "execution_count": 20,
     "metadata": {},
     "output_type": "execute_result"
    }
   ],
   "source": [
    "%%sql\n",
    "SELECT min(timestamp), max(timestamp) from readings\n",
    "where non_anm_generated = 1.614 and substr(timestamp, 6, 5) > '04-31' and substr(timestamp, 6, 5) < '06-14'"
   ]
  },
  {
   "cell_type": "code",
   "execution_count": 5,
   "metadata": {},
   "outputs": [
    {
     "name": "stdout",
     "output_type": "stream",
     "text": [
      " * sqlite:///./database/eleclog_copy.db\n",
      "Done.\n"
     ]
    },
    {
     "data": {
      "text/html": [
       "<table>\n",
       "    <tr>\n",
       "        <th>anm_generated</th>\n",
       "        <th>count</th>\n",
       "    </tr>\n",
       "    <tr>\n",
       "        <td>1.629</td>\n",
       "        <td>18526</td>\n",
       "    </tr>\n",
       "    <tr>\n",
       "        <td>0</td>\n",
       "        <td>3465</td>\n",
       "    </tr>\n",
       "    <tr>\n",
       "        <td>8.655</td>\n",
       "        <td>2684</td>\n",
       "    </tr>\n",
       "    <tr>\n",
       "        <td>1.331</td>\n",
       "        <td>1267</td>\n",
       "    </tr>\n",
       "    <tr>\n",
       "        <td>0.988</td>\n",
       "        <td>1258</td>\n",
       "    </tr>\n",
       "    <tr>\n",
       "        <td>1.330999</td>\n",
       "        <td>490</td>\n",
       "    </tr>\n",
       "    <tr>\n",
       "        <td>1.330998</td>\n",
       "        <td>367</td>\n",
       "    </tr>\n",
       "    <tr>\n",
       "        <td>1.331001</td>\n",
       "        <td>183</td>\n",
       "    </tr>\n",
       "    <tr>\n",
       "        <td>14.48</td>\n",
       "        <td>154</td>\n",
       "    </tr>\n",
       "    <tr>\n",
       "        <td>13.613</td>\n",
       "        <td>152</td>\n",
       "    </tr>\n",
       "</table>"
      ],
      "text/plain": [
       "[(1.629, 18526),\n",
       " (0, 3465),\n",
       " (8.655, 2684),\n",
       " (1.331, 1267),\n",
       " (0.988, 1258),\n",
       " (1.330999, 490),\n",
       " (1.330998, 367),\n",
       " (1.331001, 183),\n",
       " (14.48, 154),\n",
       " (13.613, 152)]"
      ]
     },
     "execution_count": 5,
     "metadata": {},
     "output_type": "execute_result"
    }
   ],
   "source": [
    "%%sql \n",
    "SELECT anm_generated, COUNT(*) count \n",
    "FROM readings \n",
    "GROUP BY anm_generated \n",
    "order by count desc\n",
    "limit 10"
   ]
  },
  {
   "cell_type": "markdown",
   "metadata": {},
   "source": [
    "check fo odd demand readings"
   ]
  },
  {
   "cell_type": "code",
   "execution_count": 6,
   "metadata": {},
   "outputs": [
    {
     "name": "stdout",
     "output_type": "stream",
     "text": [
      " * sqlite:///./database/eleclog_copy.db\n",
      "Done.\n"
     ]
    },
    {
     "data": {
      "text/html": [
       "<table>\n",
       "    <tr>\n",
       "        <th>demand</th>\n",
       "        <th>count</th>\n",
       "    </tr>\n",
       "    <tr>\n",
       "        <td>39.69</td>\n",
       "        <td>1</td>\n",
       "    </tr>\n",
       "    <tr>\n",
       "        <td>32.38</td>\n",
       "        <td>1</td>\n",
       "    </tr>\n",
       "    <tr>\n",
       "        <td>32.26</td>\n",
       "        <td>1</td>\n",
       "    </tr>\n",
       "    <tr>\n",
       "        <td>32.23</td>\n",
       "        <td>1</td>\n",
       "    </tr>\n",
       "    <tr>\n",
       "        <td>32.2</td>\n",
       "        <td>1</td>\n",
       "    </tr>\n",
       "    <tr>\n",
       "        <td>32.19</td>\n",
       "        <td>1</td>\n",
       "    </tr>\n",
       "    <tr>\n",
       "        <td>32.09</td>\n",
       "        <td>1</td>\n",
       "    </tr>\n",
       "    <tr>\n",
       "        <td>32</td>\n",
       "        <td>1</td>\n",
       "    </tr>\n",
       "    <tr>\n",
       "        <td>31.9</td>\n",
       "        <td>1</td>\n",
       "    </tr>\n",
       "    <tr>\n",
       "        <td>31.79</td>\n",
       "        <td>1</td>\n",
       "    </tr>\n",
       "    <tr>\n",
       "        <td>31.76</td>\n",
       "        <td>2</td>\n",
       "    </tr>\n",
       "    <tr>\n",
       "        <td>31.73</td>\n",
       "        <td>1</td>\n",
       "    </tr>\n",
       "    <tr>\n",
       "        <td>31.61</td>\n",
       "        <td>1</td>\n",
       "    </tr>\n",
       "    <tr>\n",
       "        <td>31.59</td>\n",
       "        <td>1</td>\n",
       "    </tr>\n",
       "    <tr>\n",
       "        <td>31.54</td>\n",
       "        <td>1</td>\n",
       "    </tr>\n",
       "    <tr>\n",
       "        <td>31.47</td>\n",
       "        <td>2</td>\n",
       "    </tr>\n",
       "    <tr>\n",
       "        <td>31.43</td>\n",
       "        <td>1</td>\n",
       "    </tr>\n",
       "    <tr>\n",
       "        <td>31.34</td>\n",
       "        <td>1</td>\n",
       "    </tr>\n",
       "    <tr>\n",
       "        <td>31.21</td>\n",
       "        <td>1</td>\n",
       "    </tr>\n",
       "    <tr>\n",
       "        <td>31.2</td>\n",
       "        <td>2</td>\n",
       "    </tr>\n",
       "</table>"
      ],
      "text/plain": [
       "[(39.69, 1),\n",
       " (32.38, 1),\n",
       " (32.26, 1),\n",
       " (32.23, 1),\n",
       " (32.2, 1),\n",
       " (32.19, 1),\n",
       " (32.09, 1),\n",
       " (32, 1),\n",
       " (31.9, 1),\n",
       " (31.79, 1),\n",
       " (31.76, 2),\n",
       " (31.73, 1),\n",
       " (31.61, 1),\n",
       " (31.59, 1),\n",
       " (31.54, 1),\n",
       " (31.47, 2),\n",
       " (31.43, 1),\n",
       " (31.34, 1),\n",
       " (31.21, 1),\n",
       " (31.2, 2)]"
      ]
     },
     "execution_count": 6,
     "metadata": {},
     "output_type": "execute_result"
    }
   ],
   "source": [
    "%%sql \n",
    "SELECT demand, COUNT(*) count \n",
    "FROM readings \n",
    "WHERE demand > 30\n",
    "GROUP BY demand \n",
    "order by demand desc\n",
    "limit 20\n"
   ]
  }
 ],
 "metadata": {
  "kernelspec": {
   "display_name": "Python 3",
   "language": "python",
   "name": "python3"
  },
  "language_info": {
   "codemirror_mode": {
    "name": "ipython",
    "version": 3
   },
   "file_extension": ".py",
   "mimetype": "text/x-python",
   "name": "python",
   "nbconvert_exporter": "python",
   "pygments_lexer": "ipython3",
   "version": "3.7.3"
  }
 },
 "nbformat": 4,
 "nbformat_minor": 4
}
